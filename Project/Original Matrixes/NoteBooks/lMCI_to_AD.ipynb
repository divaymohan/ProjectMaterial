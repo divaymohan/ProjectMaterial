{
 "cells": [
  {
   "cell_type": "code",
   "execution_count": 1,
   "metadata": {},
   "outputs": [],
   "source": [
    "import pandas as pd\n",
    "import numpy as np\n",
    "import random\n",
    "import networkx as nx\n",
    "from tqdm import tqdm\n",
    "import re\n",
    "import matplotlib.pyplot as plt\n",
    "from sklearn.linear_model import LogisticRegression\n",
    "from sklearn.metrics import classification_report, roc_auc_score,accuracy_score,precision_score,recall_score\n",
    "from sklearn.model_selection import train_test_split\n",
    "from sklearn.metrics import confusion_matrix\n",
    "from sklearn.ensemble import RandomForestClassifier\n",
    "from sklearn.model_selection import GridSearchCV# Create the parameter grid based on the results of random search "
   ]
  },
  {
   "cell_type": "code",
   "execution_count": 2,
   "metadata": {},
   "outputs": [],
   "source": [
    "def evaluate_model(predictions,actual):\n",
    "    return pd.DataFrame({\n",
    "        \"Measures\":[\"Accuracy\",\"Recall\",\"Precision\"],\n",
    "        \"Score\": [accuracy_score(actual,predictions),precision_score(actual,predictions),recall_score(actual,predictions)]\n",
    "    })\n",
    "\n",
    "def features_importance(columns,classifier):\n",
    "    display(\"Feature importance\")\n",
    "    df = pd.DataFrame({\n",
    "        \"Features\":columns,\n",
    "        \"Importance\":classifier.feature_importances_\n",
    "    })\n",
    "    df = df.sort_values(\"Importance\",ascending=False)\n",
    "    ax = df.plot(kind=\"bar\",x = \"Features\",y=\"Importance\",legend=None)\n",
    "    plt.tight_layout()\n",
    "    plt.show()"
   ]
  },
  {
   "cell_type": "code",
   "execution_count": 3,
   "metadata": {},
   "outputs": [],
   "source": [
    "#utility function to get removed edges\n",
    "def removedEdges(first,second):\n",
    "    removed = 0\n",
    "    for edge in first:\n",
    "        if edge not in second:\n",
    "            removed+=1\n",
    "    return removed\n",
    "#utility function to get added adges\n",
    "def addedEdges(first,second):\n",
    "    added = 0\n",
    "    for edge in second:\n",
    "        if edge not in first:\n",
    "            added+=1\n",
    "    return added"
   ]
  },
  {
   "cell_type": "code",
   "execution_count": 4,
   "metadata": {},
   "outputs": [
    {
     "name": "stdout",
     "output_type": "stream",
     "text": [
      "Number Of Edges:  1380\n",
      "Number Of Nodes:  70\n"
     ]
    }
   ],
   "source": [
    "# Load the adjacency matrix into a numpy array.\n",
    "normal_mat = np.loadtxt('../lMCI.txt', dtype=int)\n",
    "for i in range(0,70):\n",
    "        normal_mat[i][i] = 0\n",
    "G_Normal = nx.from_numpy_matrix(normal_mat)\n",
    "print(\"Number Of Edges: \",len(G_Normal.edges()))\n",
    "print(\"Number Of Nodes: \",len(G_Normal.nodes()))"
   ]
  },
  {
   "cell_type": "code",
   "execution_count": 5,
   "metadata": {},
   "outputs": [
    {
     "name": "stdout",
     "output_type": "stream",
     "text": [
      "Number Of Edges:  1364\n",
      "Number Of Nodes:  70\n"
     ]
    }
   ],
   "source": [
    "# Load the adjacency matrix into a numpy array.\n",
    "eMCI_mat = np.loadtxt('../AD.txt', dtype=int)\n",
    "for i in range(0,70):\n",
    "        eMCI_mat[i][i] = 0\n",
    "G_eMCI = nx.from_numpy_matrix(eMCI_mat)\n",
    "print(\"Number Of Edges: \",len(G_eMCI.edges()))\n",
    "print(\"Number Of Nodes: \",len(G_eMCI.nodes()))"
   ]
  },
  {
   "cell_type": "markdown",
   "metadata": {},
   "source": [
    "# Train model based on normal state"
   ]
  },
  {
   "cell_type": "code",
   "execution_count": 6,
   "metadata": {},
   "outputs": [
    {
     "data": {
      "text/html": [
       "<div>\n",
       "<style scoped>\n",
       "    .dataframe tbody tr th:only-of-type {\n",
       "        vertical-align: middle;\n",
       "    }\n",
       "\n",
       "    .dataframe tbody tr th {\n",
       "        vertical-align: top;\n",
       "    }\n",
       "\n",
       "    .dataframe thead th {\n",
       "        text-align: right;\n",
       "    }\n",
       "</style>\n",
       "<table border=\"1\" class=\"dataframe\">\n",
       "  <thead>\n",
       "    <tr style=\"text-align: right;\">\n",
       "      <th></th>\n",
       "      <th>node_1</th>\n",
       "      <th>node_2</th>\n",
       "    </tr>\n",
       "  </thead>\n",
       "  <tbody>\n",
       "    <tr>\n",
       "      <td>0</td>\n",
       "      <td>0</td>\n",
       "      <td>1</td>\n",
       "    </tr>\n",
       "    <tr>\n",
       "      <td>1</td>\n",
       "      <td>0</td>\n",
       "      <td>2</td>\n",
       "    </tr>\n",
       "    <tr>\n",
       "      <td>2</td>\n",
       "      <td>0</td>\n",
       "      <td>4</td>\n",
       "    </tr>\n",
       "    <tr>\n",
       "      <td>3</td>\n",
       "      <td>0</td>\n",
       "      <td>5</td>\n",
       "    </tr>\n",
       "    <tr>\n",
       "      <td>4</td>\n",
       "      <td>0</td>\n",
       "      <td>6</td>\n",
       "    </tr>\n",
       "  </tbody>\n",
       "</table>\n",
       "</div>"
      ],
      "text/plain": [
       "   node_1  node_2\n",
       "0       0       1\n",
       "1       0       2\n",
       "2       0       4\n",
       "3       0       5\n",
       "4       0       6"
      ]
     },
     "execution_count": 6,
     "metadata": {},
     "output_type": "execute_result"
    }
   ],
   "source": [
    "edges = list(G_Normal.edges)\n",
    "node_list_1 = [item[0] for item in edges]\n",
    "node_list_2 = [item[1] for item in edges]\n",
    "# combine all nodes in a list\n",
    "node_list = node_list_1 + node_list_2\n",
    "\n",
    "# remove duplicate items from the list\n",
    "node_list = list(dict.fromkeys(node_list))\n",
    "fb_df = pd.DataFrame({'node_1': node_list_1, 'node_2': node_list_2})\n",
    "\n",
    "fb_df.head()"
   ]
  },
  {
   "cell_type": "code",
   "execution_count": 7,
   "metadata": {},
   "outputs": [
    {
     "name": "stdout",
     "output_type": "stream",
     "text": [
      "Number Of Edges:  1380\n",
      "Number Of Nodes:  68\n"
     ]
    }
   ],
   "source": [
    "G = nx.from_pandas_edgelist(fb_df, \"node_1\", \"node_2\", create_using=nx.Graph())\n",
    "adj_G = nx.to_numpy_matrix(G,nodelist = node_list)\n",
    "adj_G.shape\n",
    "print(\"Number Of Edges: \",len(G.edges()))\n",
    "print(\"Number Of Nodes: \",len(G.nodes()))"
   ]
  },
  {
   "cell_type": "code",
   "execution_count": 8,
   "metadata": {},
   "outputs": [
    {
     "name": "stdout",
     "output_type": "stream",
     "text": [
      "68\n"
     ]
    }
   ],
   "source": [
    "edges = list(G_Normal.edges)\n",
    "node_list_1 = [item[0] for item in edges]\n",
    "node_list_2 = [item[1] for item in edges]\n",
    "# combine all nodes in a list\n",
    "node_list = node_list_1 + node_list_2\n",
    "\n",
    "# remove duplicate items from the list\n",
    "node_list = list(dict.fromkeys(node_list))\n",
    "print(len(node_list))"
   ]
  },
  {
   "cell_type": "code",
   "execution_count": 9,
   "metadata": {},
   "outputs": [],
   "source": [
    "df_train = pd.DataFrame()\n",
    "AA = []\n",
    "PA = []\n",
    "RAI = []\n",
    "JC = []\n",
    "CSH = []\n",
    "RAISH = []\n",
    "WIC = []\n",
    "_node1 = []\n",
    "_node2 = []\n",
    "target = []\n",
    "CN=[]"
   ]
  },
  {
   "cell_type": "code",
   "execution_count": 10,
   "metadata": {},
   "outputs": [],
   "source": [
    "for i in node_list:\n",
    "    for j in node_list:\n",
    "        if i != j:\n",
    "            _node1.append(i)\n",
    "            _node2.append(j)\n",
    "            AA.append(list(nx.adamic_adar_index(G,ebunch=[(i,j)]))[0][2])\n",
    "            RAI.append(list(nx.resource_allocation_index(G,ebunch=[(i,j)]))[0][2])\n",
    "            PA.append(list(nx.preferential_attachment(G,ebunch=[(i,j)]))[0][2])\n",
    "            JC.append(list(nx.jaccard_coefficient(G,ebunch=[(i,j)]))[0][2])\n",
    "            CN.append(len(list(nx.common_neighbors(G, i, j))))\n",
    "            #CNC.append(list(nx.common_neighbor_centrality(G, ebunch=[(i, j)]))[0][2])\n",
    "            if G.has_edge(i,j)==True:\n",
    "                target.append(1)\n",
    "            else:\n",
    "                target.append(0)"
   ]
  },
  {
   "cell_type": "code",
   "execution_count": 11,
   "metadata": {},
   "outputs": [],
   "source": [
    "df_train['node1'] = _node1\n",
    "df_train['node2'] = _node2     \n",
    "df_train['AA'] = AA     \n",
    "df_train['RAI'] = RAI\n",
    "df_train['PA'] = PA\n",
    "df_train['JC'] = JC \n",
    "df_train['CN'] = CN\n",
    "#df_train['CNC'] = CNC \n",
    "df_train['Target'] = target"
   ]
  },
  {
   "cell_type": "code",
   "execution_count": 12,
   "metadata": {},
   "outputs": [
    {
     "data": {
      "text/html": [
       "<div>\n",
       "<style scoped>\n",
       "    .dataframe tbody tr th:only-of-type {\n",
       "        vertical-align: middle;\n",
       "    }\n",
       "\n",
       "    .dataframe tbody tr th {\n",
       "        vertical-align: top;\n",
       "    }\n",
       "\n",
       "    .dataframe thead th {\n",
       "        text-align: right;\n",
       "    }\n",
       "</style>\n",
       "<table border=\"1\" class=\"dataframe\">\n",
       "  <thead>\n",
       "    <tr style=\"text-align: right;\">\n",
       "      <th></th>\n",
       "      <th>node1</th>\n",
       "      <th>node2</th>\n",
       "      <th>AA</th>\n",
       "      <th>RAI</th>\n",
       "      <th>PA</th>\n",
       "      <th>JC</th>\n",
       "      <th>CN</th>\n",
       "      <th>Target</th>\n",
       "    </tr>\n",
       "  </thead>\n",
       "  <tbody>\n",
       "    <tr>\n",
       "      <td>0</td>\n",
       "      <td>0</td>\n",
       "      <td>1</td>\n",
       "      <td>7.135953</td>\n",
       "      <td>0.617124</td>\n",
       "      <td>1598</td>\n",
       "      <td>0.500000</td>\n",
       "      <td>27</td>\n",
       "      <td>1</td>\n",
       "    </tr>\n",
       "    <tr>\n",
       "      <td>1</td>\n",
       "      <td>0</td>\n",
       "      <td>2</td>\n",
       "      <td>7.252830</td>\n",
       "      <td>0.658329</td>\n",
       "      <td>1326</td>\n",
       "      <td>0.586957</td>\n",
       "      <td>27</td>\n",
       "      <td>1</td>\n",
       "    </tr>\n",
       "    <tr>\n",
       "      <td>2</td>\n",
       "      <td>0</td>\n",
       "      <td>4</td>\n",
       "      <td>7.431110</td>\n",
       "      <td>0.651248</td>\n",
       "      <td>1224</td>\n",
       "      <td>0.666667</td>\n",
       "      <td>28</td>\n",
       "      <td>1</td>\n",
       "    </tr>\n",
       "    <tr>\n",
       "      <td>3</td>\n",
       "      <td>0</td>\n",
       "      <td>5</td>\n",
       "      <td>6.445049</td>\n",
       "      <td>0.584288</td>\n",
       "      <td>884</td>\n",
       "      <td>0.666667</td>\n",
       "      <td>24</td>\n",
       "      <td>1</td>\n",
       "    </tr>\n",
       "    <tr>\n",
       "      <td>4</td>\n",
       "      <td>0</td>\n",
       "      <td>6</td>\n",
       "      <td>8.874118</td>\n",
       "      <td>0.809910</td>\n",
       "      <td>1360</td>\n",
       "      <td>0.804878</td>\n",
       "      <td>33</td>\n",
       "      <td>1</td>\n",
       "    </tr>\n",
       "  </tbody>\n",
       "</table>\n",
       "</div>"
      ],
      "text/plain": [
       "   node1  node2        AA       RAI    PA        JC  CN  Target\n",
       "0      0      1  7.135953  0.617124  1598  0.500000  27       1\n",
       "1      0      2  7.252830  0.658329  1326  0.586957  27       1\n",
       "2      0      4  7.431110  0.651248  1224  0.666667  28       1\n",
       "3      0      5  6.445049  0.584288   884  0.666667  24       1\n",
       "4      0      6  8.874118  0.809910  1360  0.804878  33       1"
      ]
     },
     "execution_count": 12,
     "metadata": {},
     "output_type": "execute_result"
    }
   ],
   "source": [
    "df_train.head(5)"
   ]
  },
  {
   "cell_type": "code",
   "execution_count": 13,
   "metadata": {},
   "outputs": [],
   "source": [
    "columns = ['AA','RAI','PA','JC','CN']\n",
    "target = 'Target'"
   ]
  },
  {
   "cell_type": "code",
   "execution_count": 14,
   "metadata": {},
   "outputs": [],
   "source": [
    "param_grid = {\n",
    "    'bootstrap': [True],\n",
    "    'max_depth': [1,3,5,6,10],\n",
    "    'max_features': [2, 3, 4],\n",
    "    'min_samples_leaf': [1,2,3],\n",
    "    'min_samples_split': [4,5,6,10],\n",
    "    'n_estimators': [100, 200, 300, 500]\n",
    "}# Create a based model\n",
    "rf = RandomForestClassifier()# Instantiate the grid search model\n",
    "#grid_search = GridSearchCV(estimator = rf, param_grid = param_grid, n_jobs = -1, verbose = 3)"
   ]
  },
  {
   "cell_type": "code",
   "execution_count": 15,
   "metadata": {},
   "outputs": [
    {
     "name": "stderr",
     "output_type": "stream",
     "text": [
      "C:\\Users\\Divay Mohan\\Anaconda3\\lib\\site-packages\\sklearn\\ensemble\\forest.py:245: FutureWarning: The default value of n_estimators will change from 10 in version 0.20 to 100 in 0.22.\n",
      "  \"10 in version 0.20 to 100 in 0.22.\", FutureWarning)\n"
     ]
    },
    {
     "data": {
      "text/plain": [
       "RandomForestClassifier(bootstrap=True, class_weight=None, criterion='gini',\n",
       "                       max_depth=None, max_features='auto', max_leaf_nodes=None,\n",
       "                       min_impurity_decrease=0.0, min_impurity_split=None,\n",
       "                       min_samples_leaf=1, min_samples_split=2,\n",
       "                       min_weight_fraction_leaf=0.0, n_estimators=10,\n",
       "                       n_jobs=None, oob_score=False, random_state=None,\n",
       "                       verbose=0, warm_start=False)"
      ]
     },
     "execution_count": 15,
     "metadata": {},
     "output_type": "execute_result"
    }
   ],
   "source": [
    "rf.fit(df_train[columns], df_train['Target'])\n",
    "#grid_search.best_params_"
   ]
  },
  {
   "cell_type": "markdown",
   "metadata": {},
   "source": [
    "# Test data on lmci state"
   ]
  },
  {
   "cell_type": "code",
   "execution_count": 16,
   "metadata": {},
   "outputs": [
    {
     "data": {
      "text/html": [
       "<div>\n",
       "<style scoped>\n",
       "    .dataframe tbody tr th:only-of-type {\n",
       "        vertical-align: middle;\n",
       "    }\n",
       "\n",
       "    .dataframe tbody tr th {\n",
       "        vertical-align: top;\n",
       "    }\n",
       "\n",
       "    .dataframe thead th {\n",
       "        text-align: right;\n",
       "    }\n",
       "</style>\n",
       "<table border=\"1\" class=\"dataframe\">\n",
       "  <thead>\n",
       "    <tr style=\"text-align: right;\">\n",
       "      <th></th>\n",
       "      <th>node_1</th>\n",
       "      <th>node_2</th>\n",
       "    </tr>\n",
       "  </thead>\n",
       "  <tbody>\n",
       "    <tr>\n",
       "      <td>0</td>\n",
       "      <td>0</td>\n",
       "      <td>1</td>\n",
       "    </tr>\n",
       "    <tr>\n",
       "      <td>1</td>\n",
       "      <td>0</td>\n",
       "      <td>2</td>\n",
       "    </tr>\n",
       "    <tr>\n",
       "      <td>2</td>\n",
       "      <td>0</td>\n",
       "      <td>4</td>\n",
       "    </tr>\n",
       "    <tr>\n",
       "      <td>3</td>\n",
       "      <td>0</td>\n",
       "      <td>5</td>\n",
       "    </tr>\n",
       "    <tr>\n",
       "      <td>4</td>\n",
       "      <td>0</td>\n",
       "      <td>6</td>\n",
       "    </tr>\n",
       "  </tbody>\n",
       "</table>\n",
       "</div>"
      ],
      "text/plain": [
       "   node_1  node_2\n",
       "0       0       1\n",
       "1       0       2\n",
       "2       0       4\n",
       "3       0       5\n",
       "4       0       6"
      ]
     },
     "execution_count": 16,
     "metadata": {},
     "output_type": "execute_result"
    }
   ],
   "source": [
    "edges = list(G_eMCI.edges)\n",
    "node_list_1 = [item[0] for item in edges]\n",
    "node_list_2 = [item[1] for item in edges]\n",
    "# combine all nodes in a list\n",
    "node_list = node_list_1 + node_list_2\n",
    "\n",
    "# remove duplicate items from the list\n",
    "node_list = list(dict.fromkeys(node_list))\n",
    "fb_df = pd.DataFrame({'node_1': node_list_1, 'node_2': node_list_2})\n",
    "\n",
    "fb_df.head()"
   ]
  },
  {
   "cell_type": "code",
   "execution_count": 17,
   "metadata": {},
   "outputs": [
    {
     "name": "stdout",
     "output_type": "stream",
     "text": [
      "Number Of Edges:  1364\n",
      "Number Of Nodes:  68\n"
     ]
    }
   ],
   "source": [
    "G = nx.from_pandas_edgelist(fb_df, \"node_1\", \"node_2\", create_using=nx.Graph())\n",
    "adj_G = nx.to_numpy_matrix(G,nodelist = node_list)\n",
    "adj_G.shape\n",
    "print(\"Number Of Edges: \",len(G.edges()))\n",
    "print(\"Number Of Nodes: \",len(G.nodes()))"
   ]
  },
  {
   "cell_type": "code",
   "execution_count": 18,
   "metadata": {},
   "outputs": [
    {
     "name": "stdout",
     "output_type": "stream",
     "text": [
      "68\n"
     ]
    }
   ],
   "source": [
    "edges = list(G_eMCI.edges)\n",
    "node_list_1 = [item[0] for item in edges]\n",
    "node_list_2 = [item[1] for item in edges]\n",
    "# combine all nodes in a list\n",
    "node_list = node_list_1 + node_list_2\n",
    "\n",
    "# remove duplicate items from the list\n",
    "node_list = list(dict.fromkeys(node_list))\n",
    "print(len(node_list))"
   ]
  },
  {
   "cell_type": "code",
   "execution_count": 19,
   "metadata": {},
   "outputs": [],
   "source": [
    "df_Test = pd.DataFrame()\n",
    "AA = []\n",
    "PA = []\n",
    "RAI = []\n",
    "JC = []\n",
    "CSH = []\n",
    "RAISH = []\n",
    "WIC = []\n",
    "_node1 = []\n",
    "_node2 = []\n",
    "target = []\n",
    "CN=[]"
   ]
  },
  {
   "cell_type": "code",
   "execution_count": 20,
   "metadata": {},
   "outputs": [],
   "source": [
    "for i in node_list:\n",
    "    for j in node_list:\n",
    "        if i != j:\n",
    "            _node1.append(i)\n",
    "            _node2.append(j)\n",
    "            AA.append(list(nx.adamic_adar_index(G,ebunch=[(i,j)]))[0][2])\n",
    "            RAI.append(list(nx.resource_allocation_index(G,ebunch=[(i,j)]))[0][2])\n",
    "            PA.append(list(nx.preferential_attachment(G,ebunch=[(i,j)]))[0][2])\n",
    "            JC.append(list(nx.jaccard_coefficient(G,ebunch=[(i,j)]))[0][2])\n",
    "            CN.append(len(list(nx.common_neighbors(G, i, j))))\n",
    "            #CNC.append(list(nx.common_neighbor_centrality(G, ebunch=[(i, j)]))[0][2])\n",
    "            if G.has_edge(i,j)==True:\n",
    "                target.append(1)\n",
    "            else:\n",
    "                target.append(0)"
   ]
  },
  {
   "cell_type": "code",
   "execution_count": 21,
   "metadata": {},
   "outputs": [],
   "source": [
    "df_Test['node1'] = _node1\n",
    "df_Test['node2'] = _node2     \n",
    "df_Test['AA'] = AA     \n",
    "df_Test['RAI'] = RAI\n",
    "df_Test['PA'] = PA\n",
    "df_Test['JC'] = JC \n",
    "df_Test['CN'] = CN\n",
    "#df_AllNodes['CNC'] = CNC \n",
    "df_Test['Target'] = target"
   ]
  },
  {
   "cell_type": "code",
   "execution_count": 22,
   "metadata": {},
   "outputs": [
    {
     "data": {
      "text/html": [
       "<div>\n",
       "<style scoped>\n",
       "    .dataframe tbody tr th:only-of-type {\n",
       "        vertical-align: middle;\n",
       "    }\n",
       "\n",
       "    .dataframe tbody tr th {\n",
       "        vertical-align: top;\n",
       "    }\n",
       "\n",
       "    .dataframe thead th {\n",
       "        text-align: right;\n",
       "    }\n",
       "</style>\n",
       "<table border=\"1\" class=\"dataframe\">\n",
       "  <thead>\n",
       "    <tr style=\"text-align: right;\">\n",
       "      <th></th>\n",
       "      <th>node1</th>\n",
       "      <th>node2</th>\n",
       "      <th>AA</th>\n",
       "      <th>RAI</th>\n",
       "      <th>PA</th>\n",
       "      <th>JC</th>\n",
       "      <th>CN</th>\n",
       "      <th>Target</th>\n",
       "    </tr>\n",
       "  </thead>\n",
       "  <tbody>\n",
       "    <tr>\n",
       "      <td>0</td>\n",
       "      <td>0</td>\n",
       "      <td>1</td>\n",
       "      <td>7.427108</td>\n",
       "      <td>0.648640</td>\n",
       "      <td>1584</td>\n",
       "      <td>0.538462</td>\n",
       "      <td>28</td>\n",
       "      <td>1</td>\n",
       "    </tr>\n",
       "    <tr>\n",
       "      <td>1</td>\n",
       "      <td>0</td>\n",
       "      <td>2</td>\n",
       "      <td>8.624333</td>\n",
       "      <td>0.790268</td>\n",
       "      <td>1476</td>\n",
       "      <td>0.711111</td>\n",
       "      <td>32</td>\n",
       "      <td>1</td>\n",
       "    </tr>\n",
       "    <tr>\n",
       "      <td>2</td>\n",
       "      <td>0</td>\n",
       "      <td>4</td>\n",
       "      <td>7.220715</td>\n",
       "      <td>0.647017</td>\n",
       "      <td>1296</td>\n",
       "      <td>0.600000</td>\n",
       "      <td>27</td>\n",
       "      <td>1</td>\n",
       "    </tr>\n",
       "    <tr>\n",
       "      <td>3</td>\n",
       "      <td>0</td>\n",
       "      <td>5</td>\n",
       "      <td>6.428171</td>\n",
       "      <td>0.578452</td>\n",
       "      <td>900</td>\n",
       "      <td>0.648649</td>\n",
       "      <td>24</td>\n",
       "      <td>1</td>\n",
       "    </tr>\n",
       "    <tr>\n",
       "      <td>4</td>\n",
       "      <td>0</td>\n",
       "      <td>6</td>\n",
       "      <td>8.608197</td>\n",
       "      <td>0.785129</td>\n",
       "      <td>1404</td>\n",
       "      <td>0.744186</td>\n",
       "      <td>32</td>\n",
       "      <td>1</td>\n",
       "    </tr>\n",
       "  </tbody>\n",
       "</table>\n",
       "</div>"
      ],
      "text/plain": [
       "   node1  node2        AA       RAI    PA        JC  CN  Target\n",
       "0      0      1  7.427108  0.648640  1584  0.538462  28       1\n",
       "1      0      2  8.624333  0.790268  1476  0.711111  32       1\n",
       "2      0      4  7.220715  0.647017  1296  0.600000  27       1\n",
       "3      0      5  6.428171  0.578452   900  0.648649  24       1\n",
       "4      0      6  8.608197  0.785129  1404  0.744186  32       1"
      ]
     },
     "execution_count": 22,
     "metadata": {},
     "output_type": "execute_result"
    }
   ],
   "source": [
    "df_Test.head()"
   ]
  },
  {
   "cell_type": "code",
   "execution_count": 23,
   "metadata": {},
   "outputs": [],
   "source": [
    "predictions_test = rf.predict(df_Test[columns])\n",
    "predictions_train = rf.predict(df_train[columns])\n",
    "actual_test = df_Test['Target']\n",
    "actual_train = df_train['Target']"
   ]
  },
  {
   "cell_type": "code",
   "execution_count": 24,
   "metadata": {},
   "outputs": [
    {
     "name": "stdout",
     "output_type": "stream",
     "text": [
      "    Measures     Score\n",
      "0   Accuracy  0.844601\n",
      "1     Recall  0.876866\n",
      "2  Precision  0.861437\n"
     ]
    },
    {
     "data": {
      "text/plain": [
       "'Feature importance'"
      ]
     },
     "metadata": {},
     "output_type": "display_data"
    },
    {
     "data": {
      "image/png": "[encoded data removed]",
      "text/plain": [
       "<Figure size 432x288 with 1 Axes>"
      ]
     },
     "metadata": {
      "needs_background": "light"
     },
     "output_type": "display_data"
    }
   ],
   "source": [
    "print(evaluate_model(predictions_test,actual_test))\n",
    "features_importance(columns,rf)"
   ]
  },
  {
   "cell_type": "code",
   "execution_count": 25,
   "metadata": {},
   "outputs": [
    {
     "name": "stdout",
     "output_type": "stream",
     "text": [
      "    Measures     Score\n",
      "0   Accuracy  0.999561\n",
      "1     Recall  1.000000\n",
      "2  Precision  0.999275\n"
     ]
    },
    {
     "data": {
      "text/plain": [
       "'Feature importance'"
      ]
     },
     "metadata": {},
     "output_type": "display_data"
    },
    {
     "data": {
      "image/png": "[encoded data removed]",
      "text/plain": [
       "<Figure size 432x288 with 1 Axes>"
      ]
     },
     "metadata": {
      "needs_background": "light"
     },
     "output_type": "display_data"
    }
   ],
   "source": [
    "print(evaluate_model(predictions_train,actual_train))\n",
    "features_importance(columns,rf)"
   ]
  },
  {
   "cell_type": "code",
   "execution_count": 26,
   "metadata": {},
   "outputs": [
    {
     "name": "stdout",
     "output_type": "stream",
     "text": [
      "Confusion matrix test: \n",
      " [[1498  330]\n",
      " [ 378 2350]]\n",
      "Confusion matrix train: \n",
      " [[1796    0]\n",
      " [   2 2758]]\n"
     ]
    }
   ],
   "source": [
    "print(\"Confusion matrix test: \\n\",confusion_matrix(df_Test['Target'],predictions_test))\n",
    "print(\"Confusion matrix train: \\n\",confusion_matrix(df_train['Target'],predictions_train))"
   ]
  },
  {
   "cell_type": "code",
   "execution_count": 27,
   "metadata": {},
   "outputs": [],
   "source": [
    "prob = []\n",
    "for item in rf.predict_proba(df_Test[['AA','RAI','PA','JC','CN']]):\n",
    "    prob.append(item[1])\n",
    "df_Test['pred'] = prob"
   ]
  },
  {
   "cell_type": "markdown",
   "metadata": {},
   "source": [
    "## Model on Complement"
   ]
  },
  {
   "cell_type": "code",
   "execution_count": 28,
   "metadata": {},
   "outputs": [
    {
     "name": "stdout",
     "output_type": "stream",
     "text": [
      "Number Of Edges:  1035\n",
      "Number Of Nodes:  70\n"
     ]
    }
   ],
   "source": [
    "G_Normal_complement = nx.complement(G_Normal)\n",
    "print(\"Number Of Edges: \",len(G_Normal_complement.edges()))\n",
    "print(\"Number Of Nodes: \",len(G_Normal_complement.nodes()))"
   ]
  },
  {
   "cell_type": "code",
   "execution_count": 29,
   "metadata": {},
   "outputs": [
    {
     "name": "stdout",
     "output_type": "stream",
     "text": [
      "Number of edges:  1051\n",
      "Number of nodes:  70\n"
     ]
    }
   ],
   "source": [
    "G_eMCI_Complement = nx.complement(G_eMCI)\n",
    "print(\"Number of edges: \",len(G_eMCI_Complement.edges()))\n",
    "print(\"Number of nodes: \",len(G_eMCI_Complement.nodes()))"
   ]
  },
  {
   "cell_type": "markdown",
   "metadata": {},
   "source": [
    "# Training Model"
   ]
  },
  {
   "cell_type": "code",
   "execution_count": 30,
   "metadata": {},
   "outputs": [
    {
     "data": {
      "text/html": [
       "<div>\n",
       "<style scoped>\n",
       "    .dataframe tbody tr th:only-of-type {\n",
       "        vertical-align: middle;\n",
       "    }\n",
       "\n",
       "    .dataframe tbody tr th {\n",
       "        vertical-align: top;\n",
       "    }\n",
       "\n",
       "    .dataframe thead th {\n",
       "        text-align: right;\n",
       "    }\n",
       "</style>\n",
       "<table border=\"1\" class=\"dataframe\">\n",
       "  <thead>\n",
       "    <tr style=\"text-align: right;\">\n",
       "      <th></th>\n",
       "      <th>node_1</th>\n",
       "      <th>node_2</th>\n",
       "    </tr>\n",
       "  </thead>\n",
       "  <tbody>\n",
       "    <tr>\n",
       "      <td>0</td>\n",
       "      <td>0</td>\n",
       "      <td>3</td>\n",
       "    </tr>\n",
       "    <tr>\n",
       "      <td>1</td>\n",
       "      <td>0</td>\n",
       "      <td>18</td>\n",
       "    </tr>\n",
       "    <tr>\n",
       "      <td>2</td>\n",
       "      <td>0</td>\n",
       "      <td>25</td>\n",
       "    </tr>\n",
       "    <tr>\n",
       "      <td>3</td>\n",
       "      <td>0</td>\n",
       "      <td>31</td>\n",
       "    </tr>\n",
       "    <tr>\n",
       "      <td>4</td>\n",
       "      <td>0</td>\n",
       "      <td>35</td>\n",
       "    </tr>\n",
       "  </tbody>\n",
       "</table>\n",
       "</div>"
      ],
      "text/plain": [
       "   node_1  node_2\n",
       "0       0       3\n",
       "1       0      18\n",
       "2       0      25\n",
       "3       0      31\n",
       "4       0      35"
      ]
     },
     "execution_count": 30,
     "metadata": {},
     "output_type": "execute_result"
    }
   ],
   "source": [
    "edges = list(G_Normal_complement.edges)\n",
    "node_list_1 = [item[0] for item in edges]\n",
    "node_list_2 = [item[1] for item in edges]\n",
    "# combine all nodes in a list\n",
    "node_list = node_list_1 + node_list_2\n",
    "\n",
    "# remove duplicate items from the list\n",
    "node_list = list(dict.fromkeys(node_list))\n",
    "fb_df = pd.DataFrame({'node_1': node_list_1, 'node_2': node_list_2})\n",
    "\n",
    "fb_df.head()"
   ]
  },
  {
   "cell_type": "code",
   "execution_count": 31,
   "metadata": {},
   "outputs": [
    {
     "name": "stdout",
     "output_type": "stream",
     "text": [
      "Number Of Edges:  1035\n",
      "Number Of Nodes:  70\n"
     ]
    }
   ],
   "source": [
    "G = nx.from_pandas_edgelist(fb_df, \"node_1\", \"node_2\", create_using=nx.Graph())\n",
    "adj_G = nx.to_numpy_matrix(G,nodelist = node_list)\n",
    "adj_G.shape\n",
    "print(\"Number Of Edges: \",len(G.edges()))\n",
    "print(\"Number Of Nodes: \",len(G.nodes()))"
   ]
  },
  {
   "cell_type": "code",
   "execution_count": 32,
   "metadata": {},
   "outputs": [
    {
     "name": "stdout",
     "output_type": "stream",
     "text": [
      "70\n"
     ]
    }
   ],
   "source": [
    "edges = list(G_Normal_complement.edges)\n",
    "node_list_1 = [item[0] for item in edges]\n",
    "node_list_2 = [item[1] for item in edges]\n",
    "# combine all nodes in a list\n",
    "node_list = node_list_1 + node_list_2\n",
    "\n",
    "# remove duplicate items from the list\n",
    "node_list = list(dict.fromkeys(node_list))\n",
    "print(len(node_list))"
   ]
  },
  {
   "cell_type": "code",
   "execution_count": 33,
   "metadata": {},
   "outputs": [],
   "source": [
    "df_train_complement = pd.DataFrame()\n",
    "AA = []\n",
    "PA = []\n",
    "RAI = []\n",
    "JC = []\n",
    "CSH = []\n",
    "RAISH = []\n",
    "WIC = []\n",
    "_node1 = []\n",
    "_node2 = []\n",
    "target = []\n",
    "CN=[]"
   ]
  },
  {
   "cell_type": "code",
   "execution_count": 34,
   "metadata": {},
   "outputs": [],
   "source": [
    "for i in node_list:\n",
    "    for j in node_list:\n",
    "        if i != j:\n",
    "            _node1.append(i)\n",
    "            _node2.append(j)\n",
    "            AA.append(list(nx.adamic_adar_index(G,ebunch=[(i,j)]))[0][2])\n",
    "            RAI.append(list(nx.resource_allocation_index(G,ebunch=[(i,j)]))[0][2])\n",
    "            PA.append(list(nx.preferential_attachment(G,ebunch=[(i,j)]))[0][2])\n",
    "            JC.append(list(nx.jaccard_coefficient(G,ebunch=[(i,j)]))[0][2])\n",
    "            CN.append(len(list(nx.common_neighbors(G, i, j))))\n",
    "            #CNC.append(list(nx.common_neighbor_centrality(G, ebunch=[(i, j)]))[0][2])\n",
    "            if G.has_edge(i,j)==True:\n",
    "                target.append(1)\n",
    "            else:\n",
    "                target.append(0)"
   ]
  },
  {
   "cell_type": "code",
   "execution_count": 35,
   "metadata": {},
   "outputs": [],
   "source": [
    "df_train_complement['node1'] = _node1\n",
    "df_train_complement['node2'] = _node2     \n",
    "df_train_complement['AA'] = AA     \n",
    "df_train_complement['RAI'] = RAI\n",
    "df_train_complement['PA'] = PA\n",
    "df_train_complement['JC'] = JC \n",
    "df_train_complement['CN'] = CN\n",
    "#df_train['CNC'] = CNC \n",
    "df_train_complement['Target'] = target"
   ]
  },
  {
   "cell_type": "code",
   "execution_count": 36,
   "metadata": {},
   "outputs": [
    {
     "data": {
      "text/html": [
       "<div>\n",
       "<style scoped>\n",
       "    .dataframe tbody tr th:only-of-type {\n",
       "        vertical-align: middle;\n",
       "    }\n",
       "\n",
       "    .dataframe tbody tr th {\n",
       "        vertical-align: top;\n",
       "    }\n",
       "\n",
       "    .dataframe thead th {\n",
       "        text-align: right;\n",
       "    }\n",
       "</style>\n",
       "<table border=\"1\" class=\"dataframe\">\n",
       "  <thead>\n",
       "    <tr style=\"text-align: right;\">\n",
       "      <th></th>\n",
       "      <th>node1</th>\n",
       "      <th>node2</th>\n",
       "      <th>AA</th>\n",
       "      <th>RAI</th>\n",
       "      <th>PA</th>\n",
       "      <th>JC</th>\n",
       "      <th>CN</th>\n",
       "      <th>Target</th>\n",
       "    </tr>\n",
       "  </thead>\n",
       "  <tbody>\n",
       "    <tr>\n",
       "      <td>0</td>\n",
       "      <td>0</td>\n",
       "      <td>1</td>\n",
       "      <td>4.489142</td>\n",
       "      <td>0.461483</td>\n",
       "      <td>770</td>\n",
       "      <td>0.390244</td>\n",
       "      <td>16</td>\n",
       "      <td>0</td>\n",
       "    </tr>\n",
       "    <tr>\n",
       "      <td>1</td>\n",
       "      <td>0</td>\n",
       "      <td>2</td>\n",
       "      <td>6.877625</td>\n",
       "      <td>0.744938</td>\n",
       "      <td>1050</td>\n",
       "      <td>0.585366</td>\n",
       "      <td>24</td>\n",
       "      <td>0</td>\n",
       "    </tr>\n",
       "    <tr>\n",
       "      <td>2</td>\n",
       "      <td>0</td>\n",
       "      <td>3</td>\n",
       "      <td>10.075267</td>\n",
       "      <td>1.184785</td>\n",
       "      <td>2415</td>\n",
       "      <td>0.485714</td>\n",
       "      <td>34</td>\n",
       "      <td>1</td>\n",
       "    </tr>\n",
       "    <tr>\n",
       "      <td>3</td>\n",
       "      <td>0</td>\n",
       "      <td>4</td>\n",
       "      <td>8.110068</td>\n",
       "      <td>0.904055</td>\n",
       "      <td>1155</td>\n",
       "      <td>0.700000</td>\n",
       "      <td>28</td>\n",
       "      <td>0</td>\n",
       "    </tr>\n",
       "    <tr>\n",
       "      <td>4</td>\n",
       "      <td>0</td>\n",
       "      <td>5</td>\n",
       "      <td>10.040359</td>\n",
       "      <td>1.174278</td>\n",
       "      <td>1505</td>\n",
       "      <td>0.772727</td>\n",
       "      <td>34</td>\n",
       "      <td>0</td>\n",
       "    </tr>\n",
       "  </tbody>\n",
       "</table>\n",
       "</div>"
      ],
      "text/plain": [
       "   node1  node2         AA       RAI    PA        JC  CN  Target\n",
       "0      0      1   4.489142  0.461483   770  0.390244  16       0\n",
       "1      0      2   6.877625  0.744938  1050  0.585366  24       0\n",
       "2      0      3  10.075267  1.184785  2415  0.485714  34       1\n",
       "3      0      4   8.110068  0.904055  1155  0.700000  28       0\n",
       "4      0      5  10.040359  1.174278  1505  0.772727  34       0"
      ]
     },
     "execution_count": 36,
     "metadata": {},
     "output_type": "execute_result"
    }
   ],
   "source": [
    "df_train_complement.head(5)"
   ]
  },
  {
   "cell_type": "code",
   "execution_count": 37,
   "metadata": {},
   "outputs": [
    {
     "data": {
      "text/plain": [
       "['AA', 'RAI', 'PA', 'JC', 'CN']"
      ]
     },
     "execution_count": 37,
     "metadata": {},
     "output_type": "execute_result"
    }
   ],
   "source": [
    "columns"
   ]
  },
  {
   "cell_type": "code",
   "execution_count": 38,
   "metadata": {},
   "outputs": [
    {
     "name": "stderr",
     "output_type": "stream",
     "text": [
      "C:\\Users\\Divay Mohan\\Anaconda3\\lib\\site-packages\\sklearn\\ensemble\\forest.py:245: FutureWarning: The default value of n_estimators will change from 10 in version 0.20 to 100 in 0.22.\n",
      "  \"10 in version 0.20 to 100 in 0.22.\", FutureWarning)\n"
     ]
    },
    {
     "data": {
      "text/plain": [
       "RandomForestClassifier(bootstrap=True, class_weight=None, criterion='gini',\n",
       "                       max_depth=2, max_features='auto', max_leaf_nodes=None,\n",
       "                       min_impurity_decrease=0.0, min_impurity_split=None,\n",
       "                       min_samples_leaf=1, min_samples_split=2,\n",
       "                       min_weight_fraction_leaf=0.0, n_estimators=10,\n",
       "                       n_jobs=None, oob_score=False, random_state=0, verbose=0,\n",
       "                       warm_start=False)"
      ]
     },
     "execution_count": 38,
     "metadata": {},
     "output_type": "execute_result"
    }
   ],
   "source": [
    "rf = RandomForestClassifier(max_depth=2, random_state=0)\n",
    "rf.fit(df_train_complement[columns], df_train_complement['Target'])"
   ]
  },
  {
   "cell_type": "markdown",
   "metadata": {},
   "source": [
    "# Test on next state"
   ]
  },
  {
   "cell_type": "code",
   "execution_count": 39,
   "metadata": {},
   "outputs": [
    {
     "data": {
      "text/html": [
       "<div>\n",
       "<style scoped>\n",
       "    .dataframe tbody tr th:only-of-type {\n",
       "        vertical-align: middle;\n",
       "    }\n",
       "\n",
       "    .dataframe tbody tr th {\n",
       "        vertical-align: top;\n",
       "    }\n",
       "\n",
       "    .dataframe thead th {\n",
       "        text-align: right;\n",
       "    }\n",
       "</style>\n",
       "<table border=\"1\" class=\"dataframe\">\n",
       "  <thead>\n",
       "    <tr style=\"text-align: right;\">\n",
       "      <th></th>\n",
       "      <th>node_1</th>\n",
       "      <th>node_2</th>\n",
       "    </tr>\n",
       "  </thead>\n",
       "  <tbody>\n",
       "    <tr>\n",
       "      <td>0</td>\n",
       "      <td>0</td>\n",
       "      <td>3</td>\n",
       "    </tr>\n",
       "    <tr>\n",
       "      <td>1</td>\n",
       "      <td>0</td>\n",
       "      <td>18</td>\n",
       "    </tr>\n",
       "    <tr>\n",
       "      <td>2</td>\n",
       "      <td>0</td>\n",
       "      <td>31</td>\n",
       "    </tr>\n",
       "    <tr>\n",
       "      <td>3</td>\n",
       "      <td>0</td>\n",
       "      <td>35</td>\n",
       "    </tr>\n",
       "    <tr>\n",
       "      <td>4</td>\n",
       "      <td>0</td>\n",
       "      <td>37</td>\n",
       "    </tr>\n",
       "  </tbody>\n",
       "</table>\n",
       "</div>"
      ],
      "text/plain": [
       "   node_1  node_2\n",
       "0       0       3\n",
       "1       0      18\n",
       "2       0      31\n",
       "3       0      35\n",
       "4       0      37"
      ]
     },
     "execution_count": 39,
     "metadata": {},
     "output_type": "execute_result"
    }
   ],
   "source": [
    "edges = list(G_eMCI_Complement.edges)\n",
    "node_list_1 = [item[0] for item in edges]\n",
    "node_list_2 = [item[1] for item in edges]\n",
    "# combine all nodes in a list\n",
    "node_list = node_list_1 + node_list_2\n",
    "\n",
    "# remove duplicate items from the list\n",
    "node_list = list(dict.fromkeys(node_list))\n",
    "fb_df = pd.DataFrame({'node_1': node_list_1, 'node_2': node_list_2})\n",
    "\n",
    "fb_df.head()"
   ]
  },
  {
   "cell_type": "code",
   "execution_count": 40,
   "metadata": {},
   "outputs": [
    {
     "name": "stdout",
     "output_type": "stream",
     "text": [
      "Number Of Edges:  1051\n",
      "Number Of Nodes:  70\n"
     ]
    }
   ],
   "source": [
    "G = nx.from_pandas_edgelist(fb_df, \"node_1\", \"node_2\", create_using=nx.Graph())\n",
    "adj_G = nx.to_numpy_matrix(G,nodelist = node_list)\n",
    "adj_G.shape\n",
    "print(\"Number Of Edges: \",len(G.edges()))\n",
    "print(\"Number Of Nodes: \",len(G.nodes()))"
   ]
  },
  {
   "cell_type": "code",
   "execution_count": 41,
   "metadata": {},
   "outputs": [
    {
     "name": "stdout",
     "output_type": "stream",
     "text": [
      "70\n"
     ]
    }
   ],
   "source": [
    "edges = list(G_eMCI_Complement.edges)\n",
    "node_list_1 = [item[0] for item in edges]\n",
    "node_list_2 = [item[1] for item in edges]\n",
    "# combine all nodes in a list\n",
    "node_list = node_list_1 + node_list_2\n",
    "\n",
    "# remove duplicate items from the list\n",
    "node_list = list(dict.fromkeys(node_list))\n",
    "print(len(node_list))"
   ]
  },
  {
   "cell_type": "code",
   "execution_count": 42,
   "metadata": {},
   "outputs": [],
   "source": [
    "df_Test_Complement = pd.DataFrame()\n",
    "AA = []\n",
    "PA = []\n",
    "RAI = []\n",
    "JC = []\n",
    "CSH = []\n",
    "RAISH = []\n",
    "WIC = []\n",
    "_node1 = []\n",
    "_node2 = []\n",
    "target = []\n",
    "CN=[]"
   ]
  },
  {
   "cell_type": "code",
   "execution_count": 43,
   "metadata": {},
   "outputs": [],
   "source": [
    "for i in node_list:\n",
    "    for j in node_list:\n",
    "        if i != j:\n",
    "            _node1.append(i)\n",
    "            _node2.append(j)\n",
    "            AA.append(list(nx.adamic_adar_index(G,ebunch=[(i,j)]))[0][2])\n",
    "            RAI.append(list(nx.resource_allocation_index(G,ebunch=[(i,j)]))[0][2])\n",
    "            PA.append(list(nx.preferential_attachment(G,ebunch=[(i,j)]))[0][2])\n",
    "            JC.append(list(nx.jaccard_coefficient(G,ebunch=[(i,j)]))[0][2])\n",
    "            CN.append(len(list(nx.common_neighbors(G, i, j))))\n",
    "            #CNC.append(list(nx.common_neighbor_centrality(G, ebunch=[(i, j)]))[0][2])\n",
    "            if G.has_edge(i,j)==True:\n",
    "                target.append(1)\n",
    "            else:\n",
    "                target.append(0)"
   ]
  },
  {
   "cell_type": "code",
   "execution_count": 44,
   "metadata": {},
   "outputs": [],
   "source": [
    "df_Test_Complement['node1'] = _node1\n",
    "df_Test_Complement['node2'] = _node2     \n",
    "df_Test_Complement['AA'] = AA     \n",
    "df_Test_Complement['RAI'] = RAI\n",
    "df_Test_Complement['PA'] = PA\n",
    "df_Test_Complement['JC'] = JC \n",
    "df_Test_Complement['CN'] = CN\n",
    "#df_AllNodes['CNC'] = CNC \n",
    "df_Test_Complement['Target'] = target"
   ]
  },
  {
   "cell_type": "code",
   "execution_count": 45,
   "metadata": {},
   "outputs": [
    {
     "data": {
      "text/html": [
       "<div>\n",
       "<style scoped>\n",
       "    .dataframe tbody tr th:only-of-type {\n",
       "        vertical-align: middle;\n",
       "    }\n",
       "\n",
       "    .dataframe tbody tr th {\n",
       "        vertical-align: top;\n",
       "    }\n",
       "\n",
       "    .dataframe thead th {\n",
       "        text-align: right;\n",
       "    }\n",
       "</style>\n",
       "<table border=\"1\" class=\"dataframe\">\n",
       "  <thead>\n",
       "    <tr style=\"text-align: right;\">\n",
       "      <th></th>\n",
       "      <th>node1</th>\n",
       "      <th>node2</th>\n",
       "      <th>AA</th>\n",
       "      <th>RAI</th>\n",
       "      <th>PA</th>\n",
       "      <th>JC</th>\n",
       "      <th>CN</th>\n",
       "      <th>Target</th>\n",
       "    </tr>\n",
       "  </thead>\n",
       "  <tbody>\n",
       "    <tr>\n",
       "      <td>0</td>\n",
       "      <td>0</td>\n",
       "      <td>1</td>\n",
       "      <td>5.045143</td>\n",
       "      <td>0.516616</td>\n",
       "      <td>825</td>\n",
       "      <td>0.450000</td>\n",
       "      <td>18</td>\n",
       "      <td>0</td>\n",
       "    </tr>\n",
       "    <tr>\n",
       "      <td>1</td>\n",
       "      <td>0</td>\n",
       "      <td>2</td>\n",
       "      <td>7.129023</td>\n",
       "      <td>0.762614</td>\n",
       "      <td>924</td>\n",
       "      <td>0.694444</td>\n",
       "      <td>25</td>\n",
       "      <td>0</td>\n",
       "    </tr>\n",
       "    <tr>\n",
       "      <td>2</td>\n",
       "      <td>0</td>\n",
       "      <td>3</td>\n",
       "      <td>9.346974</td>\n",
       "      <td>1.061382</td>\n",
       "      <td>2277</td>\n",
       "      <td>0.457143</td>\n",
       "      <td>32</td>\n",
       "      <td>1</td>\n",
       "    </tr>\n",
       "    <tr>\n",
       "      <td>3</td>\n",
       "      <td>0</td>\n",
       "      <td>4</td>\n",
       "      <td>7.186373</td>\n",
       "      <td>0.789588</td>\n",
       "      <td>1089</td>\n",
       "      <td>0.609756</td>\n",
       "      <td>25</td>\n",
       "      <td>0</td>\n",
       "    </tr>\n",
       "    <tr>\n",
       "      <td>4</td>\n",
       "      <td>0</td>\n",
       "      <td>5</td>\n",
       "      <td>9.583151</td>\n",
       "      <td>1.075875</td>\n",
       "      <td>1452</td>\n",
       "      <td>0.750000</td>\n",
       "      <td>33</td>\n",
       "      <td>0</td>\n",
       "    </tr>\n",
       "  </tbody>\n",
       "</table>\n",
       "</div>"
      ],
      "text/plain": [
       "   node1  node2        AA       RAI    PA        JC  CN  Target\n",
       "0      0      1  5.045143  0.516616   825  0.450000  18       0\n",
       "1      0      2  7.129023  0.762614   924  0.694444  25       0\n",
       "2      0      3  9.346974  1.061382  2277  0.457143  32       1\n",
       "3      0      4  7.186373  0.789588  1089  0.609756  25       0\n",
       "4      0      5  9.583151  1.075875  1452  0.750000  33       0"
      ]
     },
     "execution_count": 45,
     "metadata": {},
     "output_type": "execute_result"
    }
   ],
   "source": [
    "df_Test_Complement.head()"
   ]
  },
  {
   "cell_type": "code",
   "execution_count": 46,
   "metadata": {},
   "outputs": [],
   "source": [
    "predictions_test = rf.predict(df_Test_Complement[['AA','RAI','PA','JC','CN']])\n",
    "predictions_train = rf.predict(df_train_complement[['AA','RAI','PA','JC','CN']])\n",
    "actual_test = df_Test_Complement['Target']\n",
    "actual_train = df_train_complement['Target']"
   ]
  },
  {
   "cell_type": "code",
   "execution_count": 47,
   "metadata": {},
   "outputs": [
    {
     "name": "stdout",
     "output_type": "stream",
     "text": [
      "    Measures     Score\n",
      "0   Accuracy  0.814907\n",
      "1     Recall  0.842404\n",
      "2  Precision  0.706946\n"
     ]
    },
    {
     "data": {
      "text/plain": [
       "'Feature importance'"
      ]
     },
     "metadata": {},
     "output_type": "display_data"
    },
    {
     "data": {
      "image/png": "[encoded data removed]",
      "text/plain": [
       "<Figure size 432x288 with 1 Axes>"
      ]
     },
     "metadata": {
      "needs_background": "light"
     },
     "output_type": "display_data"
    }
   ],
   "source": [
    "print(evaluate_model(predictions_test,actual_test))\n",
    "features_importance(columns,rf)"
   ]
  },
  {
   "cell_type": "code",
   "execution_count": 48,
   "metadata": {},
   "outputs": [
    {
     "name": "stdout",
     "output_type": "stream",
     "text": [
      "    Measures     Score\n",
      "0   Accuracy  0.826501\n",
      "1     Recall  0.846067\n",
      "2  Precision  0.727536\n"
     ]
    },
    {
     "data": {
      "text/plain": [
       "'Feature importance'"
      ]
     },
     "metadata": {},
     "output_type": "display_data"
    },
    {
     "data": {
      "image/png": "[encoded data removed]",
      "text/plain": [
       "<Figure size 432x288 with 1 Axes>"
      ]
     },
     "metadata": {
      "needs_background": "light"
     },
     "output_type": "display_data"
    }
   ],
   "source": [
    "print(evaluate_model(predictions_train,actual_train))\n",
    "features_importance(columns,rf)"
   ]
  },
  {
   "cell_type": "code",
   "execution_count": 49,
   "metadata": {},
   "outputs": [
    {
     "name": "stdout",
     "output_type": "stream",
     "text": [
      "Confusion matrix test: \n",
      " [[2450  278]\n",
      " [ 616 1486]]\n",
      "Confusion matrix train: \n",
      " [[2486  274]\n",
      " [ 564 1506]]\n"
     ]
    }
   ],
   "source": [
    "print(\"Confusion matrix test: \\n\",confusion_matrix(df_Test_Complement['Target'],predictions_test))\n",
    "print(\"Confusion matrix train: \\n\",confusion_matrix(df_train_complement['Target'],predictions_train))"
   ]
  },
  {
   "cell_type": "code",
   "execution_count": 50,
   "metadata": {},
   "outputs": [],
   "source": [
    "prob = []\n",
    "for item in rf.predict_proba(df_Test_Complement[['AA','RAI','PA','JC','CN']]):\n",
    "    prob.append(item[1])\n",
    "df_Test_Complement['pred'] = prob"
   ]
  },
  {
   "cell_type": "markdown",
   "metadata": {},
   "source": [
    "# MLP with prob as a score"
   ]
  },
  {
   "cell_type": "code",
   "execution_count": 51,
   "metadata": {},
   "outputs": [
    {
     "data": {
      "text/html": [
       "<div>\n",
       "<style scoped>\n",
       "    .dataframe tbody tr th:only-of-type {\n",
       "        vertical-align: middle;\n",
       "    }\n",
       "\n",
       "    .dataframe tbody tr th {\n",
       "        vertical-align: top;\n",
       "    }\n",
       "\n",
       "    .dataframe thead th {\n",
       "        text-align: right;\n",
       "    }\n",
       "</style>\n",
       "<table border=\"1\" class=\"dataframe\">\n",
       "  <thead>\n",
       "    <tr style=\"text-align: right;\">\n",
       "      <th></th>\n",
       "      <th>node1</th>\n",
       "      <th>node2</th>\n",
       "      <th>AA</th>\n",
       "      <th>RAI</th>\n",
       "      <th>PA</th>\n",
       "      <th>JC</th>\n",
       "      <th>CN</th>\n",
       "      <th>Target</th>\n",
       "      <th>pred</th>\n",
       "    </tr>\n",
       "  </thead>\n",
       "  <tbody>\n",
       "    <tr>\n",
       "      <td>0</td>\n",
       "      <td>0</td>\n",
       "      <td>1</td>\n",
       "      <td>7.427108</td>\n",
       "      <td>0.648640</td>\n",
       "      <td>1584</td>\n",
       "      <td>0.538462</td>\n",
       "      <td>28</td>\n",
       "      <td>1</td>\n",
       "      <td>1.0</td>\n",
       "    </tr>\n",
       "    <tr>\n",
       "      <td>1</td>\n",
       "      <td>0</td>\n",
       "      <td>2</td>\n",
       "      <td>8.624333</td>\n",
       "      <td>0.790268</td>\n",
       "      <td>1476</td>\n",
       "      <td>0.711111</td>\n",
       "      <td>32</td>\n",
       "      <td>1</td>\n",
       "      <td>1.0</td>\n",
       "    </tr>\n",
       "    <tr>\n",
       "      <td>2</td>\n",
       "      <td>0</td>\n",
       "      <td>4</td>\n",
       "      <td>7.220715</td>\n",
       "      <td>0.647017</td>\n",
       "      <td>1296</td>\n",
       "      <td>0.600000</td>\n",
       "      <td>27</td>\n",
       "      <td>1</td>\n",
       "      <td>1.0</td>\n",
       "    </tr>\n",
       "    <tr>\n",
       "      <td>3</td>\n",
       "      <td>0</td>\n",
       "      <td>5</td>\n",
       "      <td>6.428171</td>\n",
       "      <td>0.578452</td>\n",
       "      <td>900</td>\n",
       "      <td>0.648649</td>\n",
       "      <td>24</td>\n",
       "      <td>1</td>\n",
       "      <td>0.8</td>\n",
       "    </tr>\n",
       "    <tr>\n",
       "      <td>4</td>\n",
       "      <td>0</td>\n",
       "      <td>6</td>\n",
       "      <td>8.608197</td>\n",
       "      <td>0.785129</td>\n",
       "      <td>1404</td>\n",
       "      <td>0.744186</td>\n",
       "      <td>32</td>\n",
       "      <td>1</td>\n",
       "      <td>1.0</td>\n",
       "    </tr>\n",
       "  </tbody>\n",
       "</table>\n",
       "</div>"
      ],
      "text/plain": [
       "   node1  node2        AA       RAI    PA        JC  CN  Target  pred\n",
       "0      0      1  7.427108  0.648640  1584  0.538462  28       1   1.0\n",
       "1      0      2  8.624333  0.790268  1476  0.711111  32       1   1.0\n",
       "2      0      4  7.220715  0.647017  1296  0.600000  27       1   1.0\n",
       "3      0      5  6.428171  0.578452   900  0.648649  24       1   0.8\n",
       "4      0      6  8.608197  0.785129  1404  0.744186  32       1   1.0"
      ]
     },
     "execution_count": 51,
     "metadata": {},
     "output_type": "execute_result"
    }
   ],
   "source": [
    "df_Test.head()"
   ]
  },
  {
   "cell_type": "code",
   "execution_count": 52,
   "metadata": {},
   "outputs": [
    {
     "data": {
      "text/html": [
       "<div>\n",
       "<style scoped>\n",
       "    .dataframe tbody tr th:only-of-type {\n",
       "        vertical-align: middle;\n",
       "    }\n",
       "\n",
       "    .dataframe tbody tr th {\n",
       "        vertical-align: top;\n",
       "    }\n",
       "\n",
       "    .dataframe thead th {\n",
       "        text-align: right;\n",
       "    }\n",
       "</style>\n",
       "<table border=\"1\" class=\"dataframe\">\n",
       "  <thead>\n",
       "    <tr style=\"text-align: right;\">\n",
       "      <th></th>\n",
       "      <th>node1</th>\n",
       "      <th>node2</th>\n",
       "      <th>AA</th>\n",
       "      <th>RAI</th>\n",
       "      <th>PA</th>\n",
       "      <th>JC</th>\n",
       "      <th>CN</th>\n",
       "      <th>Target</th>\n",
       "      <th>pred</th>\n",
       "    </tr>\n",
       "  </thead>\n",
       "  <tbody>\n",
       "    <tr>\n",
       "      <td>0</td>\n",
       "      <td>0</td>\n",
       "      <td>1</td>\n",
       "      <td>5.045143</td>\n",
       "      <td>0.516616</td>\n",
       "      <td>825</td>\n",
       "      <td>0.450000</td>\n",
       "      <td>18</td>\n",
       "      <td>0</td>\n",
       "      <td>0.221620</td>\n",
       "    </tr>\n",
       "    <tr>\n",
       "      <td>1</td>\n",
       "      <td>0</td>\n",
       "      <td>2</td>\n",
       "      <td>7.129023</td>\n",
       "      <td>0.762614</td>\n",
       "      <td>924</td>\n",
       "      <td>0.694444</td>\n",
       "      <td>25</td>\n",
       "      <td>0</td>\n",
       "      <td>0.196765</td>\n",
       "    </tr>\n",
       "    <tr>\n",
       "      <td>2</td>\n",
       "      <td>0</td>\n",
       "      <td>3</td>\n",
       "      <td>9.346974</td>\n",
       "      <td>1.061382</td>\n",
       "      <td>2277</td>\n",
       "      <td>0.457143</td>\n",
       "      <td>32</td>\n",
       "      <td>1</td>\n",
       "      <td>0.417830</td>\n",
       "    </tr>\n",
       "    <tr>\n",
       "      <td>3</td>\n",
       "      <td>0</td>\n",
       "      <td>4</td>\n",
       "      <td>7.186373</td>\n",
       "      <td>0.789588</td>\n",
       "      <td>1089</td>\n",
       "      <td>0.609756</td>\n",
       "      <td>25</td>\n",
       "      <td>0</td>\n",
       "      <td>0.196765</td>\n",
       "    </tr>\n",
       "    <tr>\n",
       "      <td>4</td>\n",
       "      <td>0</td>\n",
       "      <td>5</td>\n",
       "      <td>9.583151</td>\n",
       "      <td>1.075875</td>\n",
       "      <td>1452</td>\n",
       "      <td>0.750000</td>\n",
       "      <td>33</td>\n",
       "      <td>0</td>\n",
       "      <td>0.392974</td>\n",
       "    </tr>\n",
       "  </tbody>\n",
       "</table>\n",
       "</div>"
      ],
      "text/plain": [
       "   node1  node2        AA       RAI    PA        JC  CN  Target      pred\n",
       "0      0      1  5.045143  0.516616   825  0.450000  18       0  0.221620\n",
       "1      0      2  7.129023  0.762614   924  0.694444  25       0  0.196765\n",
       "2      0      3  9.346974  1.061382  2277  0.457143  32       1  0.417830\n",
       "3      0      4  7.186373  0.789588  1089  0.609756  25       0  0.196765\n",
       "4      0      5  9.583151  1.075875  1452  0.750000  33       0  0.392974"
      ]
     },
     "execution_count": 52,
     "metadata": {},
     "output_type": "execute_result"
    }
   ],
   "source": [
    "df_Test_Complement.head()"
   ]
  },
  {
   "cell_type": "code",
   "execution_count": 53,
   "metadata": {},
   "outputs": [],
   "source": [
    "#utility function to get removed edges\n",
    "def removedEdges(first,second):\n",
    "    removed = 0\n",
    "    for edge in first:\n",
    "        if edge not in second:\n",
    "            removed+=1\n",
    "    return removed\n",
    "#utility function to get added adges\n",
    "def addedEdges(first,second):\n",
    "    added = 0\n",
    "    for edge in second:\n",
    "        if edge not in first:\n",
    "            added+=1\n",
    "    return added"
   ]
  },
  {
   "cell_type": "code",
   "execution_count": 54,
   "metadata": {},
   "outputs": [],
   "source": [
    "def linkPredictWithAdamic(first,second):\n",
    "    #loading matrix of first state\n",
    "    normal_mat = np.loadtxt(first, dtype=int)\n",
    "    #removing self loops\n",
    "    for i in range(0,70):\n",
    "            normal_mat[i][i] = 0\n",
    "    #bilding graphs\n",
    "    G_Normal = nx.from_numpy_matrix(normal_mat)\n",
    "    print(\"Number Of Edges: \",len(G_Normal.edges()))\n",
    "    print(\"Number Of Nodes: \",len(G_Normal.nodes()))\n",
    "    #loading matrix of second state\n",
    "    emci_mat = np.loadtxt(second, dtype=int)\n",
    "    #removing self loops\n",
    "    for i in range(0,70):\n",
    "        emci_mat[i][i] = 0\n",
    "    #building graph of second state\n",
    "    G_eMCI = nx.from_numpy_matrix(emci_mat)\n",
    "    #G_lMCI = nx.from_numpy_matrix(lmci_mat)\n",
    "    print(\"Number Of Edges: \",len(G_eMCI.edges()))\n",
    "    print(\"Number Of Nodes: \",len(G_eMCI.nodes()))\n",
    "    print(\"Number Of Removed Edges: \",removedEdges(G_Normal.edges(),G_eMCI.edges()))\n",
    "    print(\"Number of new Edges:\",addedEdges(G_Normal.edges(),G_eMCI.edges()))\n",
    "    #print(emci_mat)\n",
    "    #print(type(emci_mat))\n",
    "    ecmi_pred = emci_mat.copy()\n",
    "    #prepare the positive score matrix\n",
    "    #pred_adamic = list(nx.adamic_adar_index(G_Normal))\n",
    "    positive_score_mat = np.zeros((70,70))\n",
    "    for i,j,k in zip(df_Test['node1'],df_Test['node2'],df_Test['pred']):\n",
    "        positive_score_mat[i][j] = k\n",
    "\n",
    "    #preparing negative score matrix\n",
    "    G_Normal_complement = nx.complement(G_Normal)\n",
    "    #pred_adamic = list(nx.adamic_adar_index(G_Normal_complement))\n",
    "    negative_score_mat = np.zeros((70,70))\n",
    "    for i,j,k in zip(df_Test_Complement['node1'],df_Test_Complement['node2'],df_Test_Complement['pred']):\n",
    "        negative_score_mat[i][j] = k\n",
    "    A = addedEdges(G_Normal.edges(),G_eMCI.edges())\n",
    "    B = removedEdges(G_Normal.edges(),G_eMCI.edges())\n",
    "    score=(A+B)*2\n",
    "    \n",
    "    done = []\n",
    "    while(A>0 and B>0):\n",
    "        maxIndex = 70\n",
    "        TopRank=-1\n",
    "        x=0\n",
    "        y=0\n",
    "        for i in range(maxIndex-1):\n",
    "            for j in range(i+1,maxIndex):\n",
    "                \n",
    "                if(normal_mat[i][j]==0 and (i,j) not in done):\n",
    "                    #print(i,j)\n",
    "                    tempRank = positive_score_mat[i][j]\n",
    "                    if(tempRank>TopRank):\n",
    "                        x=i\n",
    "                        y=j\n",
    "                        TopRank = tempRank\n",
    "        #positive_score_mat[x][y] = -positive_score_mat[x][y]\n",
    "        if(positive_score_mat[x][y]>negative_score_mat[x][y]):\n",
    "            #adding link\n",
    "            ecmi_pred[x][y] = 1\n",
    "            A-=1\n",
    "            \n",
    "            done.append((x,y))\n",
    "        elif(ecmi_pred[x][y]==1):\n",
    "            #removing edge\n",
    "            ecmi_pred[x][y] = 0\n",
    "            B-=1\n",
    "            print(x,y)\n",
    "            done.append((x,y))\n",
    "        else:\n",
    "            done.append((x,y))\n",
    "    \n",
    "        \n",
    "    \n",
    "    while(A>0):\n",
    "        maxIndex = 70\n",
    "        TopRank=-1\n",
    "        x=0\n",
    "        y=0\n",
    "        for i in range(maxIndex-1):\n",
    "            for j in range(i+1,maxIndex):\n",
    "                if(normal_mat[i][j]==0 and (i,j) not in done):\n",
    "                    tempRank = positive_score_mat[i][j]\n",
    "                    if(tempRank>TopRank):\n",
    "                        x=i\n",
    "                        y=j\n",
    "                        TopRank = tempRank\n",
    "    \n",
    "        ecmi_pred[x][y] = 1\n",
    "        A-=1\n",
    "        done.append((x,y))\n",
    "        print(x,y)\n",
    "    while(B>0):\n",
    "        maxIndex = 70\n",
    "        TopRank=-1\n",
    "        x=0\n",
    "        y=0\n",
    "        for i in range(maxIndex-1):\n",
    "            for j in range(i+1,maxIndex):\n",
    "                if(normal_mat[i][j]==1 and (i,j) not in done):\n",
    "                    tempRank = negative_score_mat[i][j]\n",
    "                    if(tempRank>TopRank):\n",
    "                        x=i\n",
    "                        y=j\n",
    "                        TopRank = tempRank\n",
    "    \n",
    "        ecmi_pred[x][y] = 0\n",
    "        B-=1\n",
    "        done.append((x,y))\n",
    "    diff = np.subtract(emci_mat,ecmi_pred)    \n",
    "    dist = 0\n",
    "    for i in range(70):\n",
    "        for j in range(i,70):\n",
    "            if diff[i][j]!=0:\n",
    "                dist+=1\n",
    "    print(\"score: \",score)\n",
    "    matching  = (score-dist)/score\n",
    "    print(\"Matching Score:: \",matching)\n",
    "    print(len(done))"
   ]
  },
  {
   "cell_type": "code",
   "execution_count": 55,
   "metadata": {},
   "outputs": [
    {
     "name": "stdout",
     "output_type": "stream",
     "text": [
      "Number Of Edges:  1380\n",
      "Number Of Nodes:  70\n",
      "Number Of Edges:  1364\n",
      "Number Of Nodes:  70\n",
      "Number Of Removed Edges:  90\n",
      "Number of new Edges: 74\n",
      "score:  328\n",
      "Matching Score::  0.6585365853658537\n",
      "164\n"
     ]
    }
   ],
   "source": [
    "linkPredictWithAdamic('../lMCI.txt','../AD.txt')"
   ]
  },
  {
   "cell_type": "code",
   "execution_count": null,
   "metadata": {},
   "outputs": [],
   "source": []
  },
  {
   "cell_type": "code",
   "execution_count": null,
   "metadata": {},
   "outputs": [],
   "source": []
  }
 ],
 "metadata": {
  "kernelspec": {
   "display_name": "Python 3",
   "language": "python",
   "name": "python3"
  },
  "language_info": {
   "codemirror_mode": {
    "name": "ipython",
    "version": 3
   },
   "file_extension": ".py",
   "mimetype": "text/x-python",
   "name": "python",
   "nbconvert_exporter": "python",
   "pygments_lexer": "ipython3",
   "version": "3.7.4"
  }
 },
 "nbformat": 4,
 "nbformat_minor": 4
}
