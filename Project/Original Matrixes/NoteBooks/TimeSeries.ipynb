{
 "cells": [
  {
   "cell_type": "code",
   "execution_count": 52,
   "metadata": {},
   "outputs": [],
   "source": [
    "import pandas as pd\n",
    "import numpy as np\n",
    "import random\n",
    "import networkx as nx\n",
    "from tqdm import tqdm\n",
    "import re\n",
    "import matplotlib.pyplot as plt\n",
    "from sklearn.linear_model import LogisticRegression\n",
    "from sklearn.metrics import classification_report, roc_auc_score,accuracy_score,precision_score,recall_score\n",
    "from sklearn.model_selection import train_test_split\n",
    "from sklearn.metrics import confusion_matrix\n",
    "from sklearn.ensemble import RandomForestClassifier\n",
    "from sklearn.model_selection import GridSearchCV# Create the parameter grid based on the results of random search "
   ]
  },
  {
   "cell_type": "markdown",
   "metadata": {},
   "source": [
    "## Normal with Early to Late"
   ]
  },
  {
   "cell_type": "code",
   "execution_count": 53,
   "metadata": {},
   "outputs": [
    {
     "name": "stdout",
     "output_type": "stream",
     "text": [
      "Number Of Edges:  1490\n",
      "Number Of Nodes:  70\n"
     ]
    }
   ],
   "source": [
    "# Load the adjacency matrix into a numpy array.\n",
    "normal_mat = np.loadtxt('../Normal.txt', dtype=int)\n",
    "for i in range(0,70):\n",
    "        normal_mat[i][i] = 0\n",
    "G = nx.from_numpy_matrix(normal_mat)\n",
    "print(\"Number Of Edges: \",len(G.edges()))\n",
    "print(\"Number Of Nodes: \",len(G.nodes()))"
   ]
  },
  {
   "cell_type": "code",
   "execution_count": 54,
   "metadata": {},
   "outputs": [
    {
     "name": "stdout",
     "output_type": "stream",
     "text": [
      "Number Of Edges:  1510\n",
      "Number Of Nodes:  70\n"
     ]
    }
   ],
   "source": [
    "# Load the adjacency matrix into a numpy array.\n",
    "eMCI_mat = np.loadtxt('../eMCI.txt', dtype=int)\n",
    "for i in range(0,70):\n",
    "        eMCI_mat[i][i] = 0\n",
    "G_eMCI = nx.from_numpy_matrix(eMCI_mat)\n",
    "print(\"Number Of Edges: \",len(G_eMCI.edges()))\n",
    "print(\"Number Of Nodes: \",len(G_eMCI.nodes()))"
   ]
  },
  {
   "cell_type": "code",
   "execution_count": 55,
   "metadata": {},
   "outputs": [
    {
     "name": "stdout",
     "output_type": "stream",
     "text": [
      "Number Of Edges:  1380\n",
      "Number Of Nodes:  70\n"
     ]
    }
   ],
   "source": [
    "# Load the adjacency matrix into a numpy array.\n",
    "lMCI_mat = np.loadtxt('../lMCI.txt', dtype=int)\n",
    "for i in range(0,70):\n",
    "        lMCI_mat[i][i] = 0\n",
    "G_lMCI = nx.from_numpy_matrix(lMCI_mat)\n",
    "print(\"Number Of Edges: \",len(G_lMCI.edges()))\n",
    "print(\"Number Of Nodes: \",len(G_lMCI.nodes()))"
   ]
  },
  {
   "cell_type": "code",
   "execution_count": 56,
   "metadata": {},
   "outputs": [
    {
     "name": "stdout",
     "output_type": "stream",
     "text": [
      "Number Of Edges:  1364\n",
      "Number Of Nodes:  70\n"
     ]
    }
   ],
   "source": [
    "# Load the adjacency matrix into a numpy array.\n",
    "AD_mat = np.loadtxt('../AD.txt', dtype=int)\n",
    "for i in range(0,70):\n",
    "        AD_mat[i][i] = 0\n",
    "G_AD = nx.from_numpy_matrix(AD_mat)\n",
    "print(\"Number Of Edges: \",len(G_AD.edges()))\n",
    "print(\"Number Of Nodes: \",len(G_AD.nodes()))"
   ]
  },
  {
   "cell_type": "code",
   "execution_count": 57,
   "metadata": {},
   "outputs": [],
   "source": [
    "def evaluate_model(predictions,actual):\n",
    "    return pd.DataFrame({\n",
    "        \"Measures\":[\"Accuracy\",\"Recall\",\"Precision\"],\n",
    "        \"Score\": [accuracy_score(actual,predictions),precision_score(actual,predictions),recall_score(actual,predictions)]\n",
    "    })\n",
    "\n",
    "def features_importance(columns,classifier):\n",
    "    display(\"Feature importance\")\n",
    "    df = pd.DataFrame({\n",
    "        \"Features\":columns,\n",
    "        \"Importance\":classifier.feature_importances_\n",
    "    })\n",
    "    df = df.sort_values(\"Importance\",ascending=False)\n",
    "    ax = df.plot(kind=\"bar\",x = \"Features\",y=\"Importance\",legend=None)\n",
    "    plt.tight_layout()\n",
    "    plt.show()\n",
    "    #utility function to get removed edges\n",
    "def removedEdges(first,second):\n",
    "    removed = 0\n",
    "    for edge in first:\n",
    "        if edge not in second:\n",
    "            removed+=1\n",
    "    return removed\n",
    "#utility function to get added adges\n",
    "def addedEdges(first,second):\n",
    "    added = 0\n",
    "    for edge in second:\n",
    "        if edge not in first:\n",
    "            added+=1\n",
    "    return added"
   ]
  },
  {
   "cell_type": "markdown",
   "metadata": {},
   "source": [
    "## Let's Prepare Data from Normal state and lable them with the help of next state which is eMCI"
   ]
  },
  {
   "cell_type": "code",
   "execution_count": 58,
   "metadata": {},
   "outputs": [
    {
     "data": {
      "text/html": [
       "<div>\n",
       "<style scoped>\n",
       "    .dataframe tbody tr th:only-of-type {\n",
       "        vertical-align: middle;\n",
       "    }\n",
       "\n",
       "    .dataframe tbody tr th {\n",
       "        vertical-align: top;\n",
       "    }\n",
       "\n",
       "    .dataframe thead th {\n",
       "        text-align: right;\n",
       "    }\n",
       "</style>\n",
       "<table border=\"1\" class=\"dataframe\">\n",
       "  <thead>\n",
       "    <tr style=\"text-align: right;\">\n",
       "      <th></th>\n",
       "      <th>node_1</th>\n",
       "      <th>node_2</th>\n",
       "    </tr>\n",
       "  </thead>\n",
       "  <tbody>\n",
       "    <tr>\n",
       "      <td>0</td>\n",
       "      <td>0</td>\n",
       "      <td>1</td>\n",
       "    </tr>\n",
       "    <tr>\n",
       "      <td>1</td>\n",
       "      <td>0</td>\n",
       "      <td>2</td>\n",
       "    </tr>\n",
       "    <tr>\n",
       "      <td>2</td>\n",
       "      <td>0</td>\n",
       "      <td>4</td>\n",
       "    </tr>\n",
       "    <tr>\n",
       "      <td>3</td>\n",
       "      <td>0</td>\n",
       "      <td>5</td>\n",
       "    </tr>\n",
       "    <tr>\n",
       "      <td>4</td>\n",
       "      <td>0</td>\n",
       "      <td>6</td>\n",
       "    </tr>\n",
       "  </tbody>\n",
       "</table>\n",
       "</div>"
      ],
      "text/plain": [
       "   node_1  node_2\n",
       "0       0       1\n",
       "1       0       2\n",
       "2       0       4\n",
       "3       0       5\n",
       "4       0       6"
      ]
     },
     "execution_count": 58,
     "metadata": {},
     "output_type": "execute_result"
    }
   ],
   "source": [
    "edges = list(G.edges)\n",
    "node_list_1 = [item[0] for item in edges]\n",
    "node_list_2 = [item[1] for item in edges]\n",
    "# combine all nodes in a list\n",
    "node_list = node_list_1 + node_list_2\n",
    "# remove duplicate items from the list\n",
    "node_list = list(dict.fromkeys(node_list))\n",
    "first_df = pd.DataFrame({'node_1': node_list_1, 'node_2': node_list_2})\n",
    "first_df.head()"
   ]
  },
  {
   "cell_type": "code",
   "execution_count": 59,
   "metadata": {},
   "outputs": [],
   "source": [
    "def _preparedataset(G,G_,edges):\n",
    "    df_train = pd.DataFrame()\n",
    "    AA = []\n",
    "    PA = []\n",
    "    RAI = []\n",
    "    JC = []\n",
    "    CSH = []\n",
    "    RAISH = []\n",
    "    WIC = []\n",
    "    _node1 = []\n",
    "    _node2 = []\n",
    "    target = []\n",
    "    CN=[]\n",
    "    for (i,j) in edges:\n",
    "        if i != j:\n",
    "            _node1.append(i)\n",
    "            _node2.append(j)\n",
    "            AA.append(list(nx.adamic_adar_index(G,ebunch=[(i,j)]))[0][2])\n",
    "            RAI.append(list(nx.resource_allocation_index(G,ebunch=[(i,j)]))[0][2])\n",
    "            PA.append(list(nx.preferential_attachment(G,ebunch=[(i,j)]))[0][2])\n",
    "            JC.append(list(nx.jaccard_coefficient(G,ebunch=[(i,j)]))[0][2])\n",
    "            CN.append(len(list(nx.common_neighbors(G, i, j))))\n",
    "            #CNC.append(list(nx.common_neighbor_centrality(G, ebunch=[(i, j)]))[0][2])\n",
    "            if G_.has_edge(i,j)==True:\n",
    "                target.append(1)\n",
    "            else:\n",
    "                target.append(0)\n",
    "    df_train['node1'] = _node1\n",
    "    df_train['node2'] = _node2     \n",
    "    df_train['AA'] = AA     \n",
    "    df_train['RAI'] = RAI\n",
    "    df_train['PA'] = PA\n",
    "    df_train['JC'] = JC \n",
    "    df_train['CN'] = CN\n",
    "    #df_train['CNC'] = CNC \n",
    "    df_train['Target'] = target\n",
    "    return df_train"
   ]
  },
  {
   "cell_type": "markdown",
   "metadata": {},
   "source": [
    "### Just extract the addable edges"
   ]
  },
  {
   "cell_type": "code",
   "execution_count": 60,
   "metadata": {},
   "outputs": [],
   "source": [
    "def _extractEdges(node_list,adj,target=0):\n",
    "    edges = []\n",
    "    for i in node_list:\n",
    "        for j in node_list[i:]:\n",
    "            if(i!=j ):\n",
    "                edges.append((i,j));\n",
    "    return edges\n",
    "#and adj[i][j]==target"
   ]
  },
  {
   "cell_type": "markdown",
   "metadata": {},
   "source": [
    "## Just prepare test date with the help of eMCI and lMCI"
   ]
  },
  {
   "cell_type": "code",
   "execution_count": 61,
   "metadata": {},
   "outputs": [],
   "source": [
    "columns = ['AA','RAI','PA','JC','CN']\n",
    "target = 'Target'"
   ]
  },
  {
   "cell_type": "code",
   "execution_count": 62,
   "metadata": {},
   "outputs": [],
   "source": [
    "edges = _extractEdges(node_list,normal_mat,0)\n",
    "train_df = _preparedataset(G,G_eMCI,edges)"
   ]
  },
  {
   "cell_type": "code",
   "execution_count": 63,
   "metadata": {},
   "outputs": [
    {
     "name": "stderr",
     "output_type": "stream",
     "text": [
      "C:\\Users\\Divay Mohan\\Anaconda3\\lib\\site-packages\\sklearn\\ensemble\\forest.py:245: FutureWarning: The default value of n_estimators will change from 10 in version 0.20 to 100 in 0.22.\n",
      "  \"10 in version 0.20 to 100 in 0.22.\", FutureWarning)\n"
     ]
    },
    {
     "data": {
      "text/plain": [
       "RandomForestClassifier(bootstrap=True, class_weight=None, criterion='gini',\n",
       "                       max_depth=2, max_features='auto', max_leaf_nodes=None,\n",
       "                       min_impurity_decrease=0.0, min_impurity_split=None,\n",
       "                       min_samples_leaf=1, min_samples_split=2,\n",
       "                       min_weight_fraction_leaf=0.0, n_estimators=10,\n",
       "                       n_jobs=None, oob_score=False, random_state=0, verbose=0,\n",
       "                       warm_start=False)"
      ]
     },
     "execution_count": 63,
     "metadata": {},
     "output_type": "execute_result"
    }
   ],
   "source": [
    "rf = RandomForestClassifier(max_depth=2, random_state=0)\n",
    "rf.fit(train_df[columns], train_df['Target'])"
   ]
  },
  {
   "cell_type": "code",
   "execution_count": 64,
   "metadata": {},
   "outputs": [],
   "source": [
    "edges = _extractEdges(node_list,eMCI_mat,0)\n",
    "test_df = _preparedataset(G_eMCI,G_lMCI,edges)"
   ]
  },
  {
   "cell_type": "code",
   "execution_count": 65,
   "metadata": {},
   "outputs": [],
   "source": [
    "predictions_test = rf.predict(test_df[['AA','RAI','PA','JC','CN']])\n",
    "actual_test = test_df['Target']"
   ]
  },
  {
   "cell_type": "code",
   "execution_count": 66,
   "metadata": {},
   "outputs": [
    {
     "data": {
      "text/plain": [
       "1784"
      ]
     },
     "execution_count": 66,
     "metadata": {},
     "output_type": "execute_result"
    }
   ],
   "source": [
    "predictions_test.sum()"
   ]
  },
  {
   "cell_type": "code",
   "execution_count": 67,
   "metadata": {},
   "outputs": [
    {
     "name": "stdout",
     "output_type": "stream",
     "text": [
      "    Measures     Score\n",
      "0   Accuracy  0.779804\n",
      "1     Recall  0.740471\n",
      "2  Precision  0.976349\n"
     ]
    },
    {
     "data": {
      "text/plain": [
       "'Feature importance'"
      ]
     },
     "metadata": {},
     "output_type": "display_data"
    },
    {
     "data": {
      "image/png": "[encoded data removed]",
      "text/plain": [
       "<Figure size 432x288 with 1 Axes>"
      ]
     },
     "metadata": {
      "needs_background": "light"
     },
     "output_type": "display_data"
    }
   ],
   "source": [
    "print(evaluate_model(predictions_test,actual_test))\n",
    "features_importance(columns,rf)"
   ]
  },
  {
   "cell_type": "code",
   "execution_count": 68,
   "metadata": {},
   "outputs": [
    {
     "name": "stdout",
     "output_type": "stream",
     "text": [
      "Total edges 2248\n",
      "Total Links 1353\n",
      "Total No Links 895\n",
      "Actual Removed:  173\n",
      "Predicted Removed:  51\n",
      "Actual Added:  43\n",
      "Predicted Added:  352\n",
      "Actual Unchanged:  2032\n",
      "Predicted Unchanged:  1845\n"
     ]
    },
    {
     "name": "stderr",
     "output_type": "stream",
     "text": [
      "C:\\Users\\Divay Mohan\\Anaconda3\\lib\\site-packages\\ipykernel_launcher.py:14: UserWarning: Boolean Series key will be reindexed to match DataFrame index.\n",
      "  \n"
     ]
    },
    {
     "name": "stdout",
     "output_type": "stream",
     "text": [
      "Truely added links prediction 39\n"
     ]
    },
    {
     "name": "stderr",
     "output_type": "stream",
     "text": [
      "C:\\Users\\Divay Mohan\\Anaconda3\\lib\\site-packages\\ipykernel_launcher.py:15: UserWarning: Boolean Series key will be reindexed to match DataFrame index.\n",
      "  from ipykernel import kernelapp as app\n"
     ]
    },
    {
     "name": "stdout",
     "output_type": "stream",
     "text": [
      "Truely removal links prediction 23\n"
     ]
    }
   ],
   "source": [
    "cdf  = test_df\n",
    "cdf[\"actual\"] = actual_test\n",
    "cdf[\"prediction\"] = predictions_test\n",
    "cdf[\"changedFrom\"] = train_df['Target']\n",
    "print(\"Total edges\",cdf[\"actual\"].count())\n",
    "print(\"Total Links\",cdf[\"actual\"].sum())\n",
    "print(\"Total No Links\",cdf[cdf[\"actual\"]==0][\"actual\"].count())\n",
    "print(\"Actual Removed: \",cdf[cdf[\"changedFrom\"]-cdf[\"actual\"] == 1][\"changedFrom\"].count())\n",
    "print(\"Predicted Removed: \",cdf[cdf[\"changedFrom\"]-cdf[\"prediction\"] == 1][\"changedFrom\"].count())\n",
    "print(\"Actual Added: \",cdf[cdf[\"changedFrom\"]-cdf[\"actual\"] == -1][\"changedFrom\"].count())\n",
    "print(\"Predicted Added: \",cdf[cdf[\"changedFrom\"]-cdf[\"prediction\"] == -1][\"changedFrom\"].count())\n",
    "print(\"Actual Unchanged: \",cdf[cdf[\"changedFrom\"]-cdf[\"actual\"] == 0][\"changedFrom\"].count())\n",
    "print(\"Predicted Unchanged: \",cdf[cdf[\"changedFrom\"]-cdf[\"prediction\"] == 0][\"changedFrom\"].count())\n",
    "print(\"Truely added links prediction\",cdf[cdf[\"changedFrom\"]-cdf[\"actual\"] == -1][cdf[\"prediction\"]==1][\"changedFrom\"].count())\n",
    "print(\"Truely removal links prediction\",cdf[cdf[\"changedFrom\"]-cdf[\"actual\"] == 1][cdf[\"prediction\"]==0][\"changedFrom\"].count())"
   ]
  },
  {
   "cell_type": "markdown",
   "metadata": {},
   "source": [
    "## Just prepare test date with the help of lMCI and AD"
   ]
  },
  {
   "cell_type": "code",
   "execution_count": 69,
   "metadata": {},
   "outputs": [],
   "source": [
    "edges = _extractEdges(node_list,eMCI_mat,0)\n",
    "train_df = _preparedataset(G_eMCI,G_lMCI,edges)"
   ]
  },
  {
   "cell_type": "code",
   "execution_count": 70,
   "metadata": {},
   "outputs": [
    {
     "name": "stderr",
     "output_type": "stream",
     "text": [
      "C:\\Users\\Divay Mohan\\Anaconda3\\lib\\site-packages\\sklearn\\ensemble\\forest.py:245: FutureWarning: The default value of n_estimators will change from 10 in version 0.20 to 100 in 0.22.\n",
      "  \"10 in version 0.20 to 100 in 0.22.\", FutureWarning)\n"
     ]
    },
    {
     "data": {
      "text/plain": [
       "RandomForestClassifier(bootstrap=True, class_weight=None, criterion='gini',\n",
       "                       max_depth=2, max_features='auto', max_leaf_nodes=None,\n",
       "                       min_impurity_decrease=0.0, min_impurity_split=None,\n",
       "                       min_samples_leaf=1, min_samples_split=2,\n",
       "                       min_weight_fraction_leaf=0.0, n_estimators=10,\n",
       "                       n_jobs=None, oob_score=False, random_state=0, verbose=0,\n",
       "                       warm_start=False)"
      ]
     },
     "execution_count": 70,
     "metadata": {},
     "output_type": "execute_result"
    }
   ],
   "source": [
    "rf = RandomForestClassifier(max_depth=2, random_state=0)\n",
    "rf.fit(train_df[columns], train_df['Target'])"
   ]
  },
  {
   "cell_type": "code",
   "execution_count": 71,
   "metadata": {},
   "outputs": [],
   "source": [
    "edges = _extractEdges(node_list,lMCI_mat,0)\n",
    "test_df = _preparedataset(G_lMCI,G_AD,edges)"
   ]
  },
  {
   "cell_type": "code",
   "execution_count": 72,
   "metadata": {},
   "outputs": [],
   "source": [
    "predictions_test = rf.predict(test_df[['AA','RAI','PA','JC','CN']])\n",
    "actual_test = test_df['Target']"
   ]
  },
  {
   "cell_type": "code",
   "execution_count": 73,
   "metadata": {},
   "outputs": [
    {
     "data": {
      "text/plain": [
       "1122"
      ]
     },
     "execution_count": 73,
     "metadata": {},
     "output_type": "execute_result"
    }
   ],
   "source": [
    "predictions_test.sum()"
   ]
  },
  {
   "cell_type": "code",
   "execution_count": 74,
   "metadata": {},
   "outputs": [
    {
     "name": "stdout",
     "output_type": "stream",
     "text": [
      "    Measures     Score\n",
      "0   Accuracy  0.838523\n",
      "1     Recall  0.934046\n",
      "2  Precision  0.783844\n"
     ]
    },
    {
     "data": {
      "text/plain": [
       "'Feature importance'"
      ]
     },
     "metadata": {},
     "output_type": "display_data"
    },
    {
     "data": {
      "image/png": "[encoded data removed]",
      "text/plain": [
       "<Figure size 432x288 with 1 Axes>"
      ]
     },
     "metadata": {
      "needs_background": "light"
     },
     "output_type": "display_data"
    }
   ],
   "source": [
    "print(evaluate_model(predictions_test,actual_test))\n",
    "features_importance(columns,rf)"
   ]
  },
  {
   "cell_type": "code",
   "execution_count": 75,
   "metadata": {},
   "outputs": [
    {
     "name": "stdout",
     "output_type": "stream",
     "text": [
      "Total edges 2248\n",
      "Total Links 1337\n",
      "Total No Links 911\n",
      "Actual Removed:  89\n",
      "Predicted Removed:  310\n",
      "Actual Added:  73\n",
      "Predicted Added:  79\n",
      "Actual Unchanged:  2086\n",
      "Predicted Unchanged:  1859\n"
     ]
    },
    {
     "name": "stderr",
     "output_type": "stream",
     "text": [
      "C:\\Users\\Divay Mohan\\Anaconda3\\lib\\site-packages\\ipykernel_launcher.py:14: UserWarning: Boolean Series key will be reindexed to match DataFrame index.\n",
      "  \n"
     ]
    },
    {
     "name": "stdout",
     "output_type": "stream",
     "text": [
      "Truely added links prediction 28\n"
     ]
    },
    {
     "name": "stderr",
     "output_type": "stream",
     "text": [
      "C:\\Users\\Divay Mohan\\Anaconda3\\lib\\site-packages\\ipykernel_launcher.py:15: UserWarning: Boolean Series key will be reindexed to match DataFrame index.\n",
      "  from ipykernel import kernelapp as app\n"
     ]
    },
    {
     "name": "stdout",
     "output_type": "stream",
     "text": [
      "Truely removal links prediction 66\n"
     ]
    }
   ],
   "source": [
    "cdf  = test_df\n",
    "cdf[\"actual\"] = actual_test\n",
    "cdf[\"prediction\"] = predictions_test\n",
    "cdf[\"changedFrom\"] = train_df['Target']\n",
    "print(\"Total edges\",cdf[\"actual\"].count())\n",
    "print(\"Total Links\",cdf[\"actual\"].sum())\n",
    "print(\"Total No Links\",cdf[cdf[\"actual\"]==0][\"actual\"].count())\n",
    "print(\"Actual Removed: \",cdf[cdf[\"changedFrom\"]-cdf[\"actual\"] == 1][\"changedFrom\"].count())\n",
    "print(\"Predicted Removed: \",cdf[cdf[\"changedFrom\"]-cdf[\"prediction\"] == 1][\"changedFrom\"].count())\n",
    "print(\"Actual Added: \",cdf[cdf[\"changedFrom\"]-cdf[\"actual\"] == -1][\"changedFrom\"].count())\n",
    "print(\"Predicted Added: \",cdf[cdf[\"changedFrom\"]-cdf[\"prediction\"] == -1][\"changedFrom\"].count())\n",
    "print(\"Actual Unchanged: \",cdf[cdf[\"changedFrom\"]-cdf[\"actual\"] == 0][\"changedFrom\"].count())\n",
    "print(\"Predicted Unchanged: \",cdf[cdf[\"changedFrom\"]-cdf[\"prediction\"] == 0][\"changedFrom\"].count())\n",
    "print(\"Truely added links prediction\",cdf[cdf[\"changedFrom\"]-cdf[\"actual\"] == -1][cdf[\"prediction\"]==1][\"changedFrom\"].count())\n",
    "print(\"Truely removal links prediction\",cdf[cdf[\"changedFrom\"]-cdf[\"actual\"] == 1][cdf[\"prediction\"]==0][\"changedFrom\"].count())"
   ]
  },
  {
   "cell_type": "code",
   "execution_count": null,
   "metadata": {},
   "outputs": [],
   "source": []
  },
  {
   "cell_type": "code",
   "execution_count": null,
   "metadata": {},
   "outputs": [],
   "source": []
  },
  {
   "cell_type": "code",
   "execution_count": null,
   "metadata": {},
   "outputs": [],
   "source": []
  },
  {
   "cell_type": "code",
   "execution_count": null,
   "metadata": {},
   "outputs": [],
   "source": []
  },
  {
   "cell_type": "code",
   "execution_count": null,
   "metadata": {},
   "outputs": [],
   "source": []
  },
  {
   "cell_type": "code",
   "execution_count": null,
   "metadata": {},
   "outputs": [],
   "source": []
  }
 ],
 "metadata": {
  "kernelspec": {
   "display_name": "Python 3",
   "language": "python",
   "name": "python3"
  },
  "language_info": {
   "codemirror_mode": {
    "name": "ipython",
    "version": 3
   },
   "file_extension": ".py",
   "mimetype": "text/x-python",
   "name": "python",
   "nbconvert_exporter": "python",
   "pygments_lexer": "ipython3",
   "version": "3.7.4"
  }
 },
 "nbformat": 4,
 "nbformat_minor": 4
}
