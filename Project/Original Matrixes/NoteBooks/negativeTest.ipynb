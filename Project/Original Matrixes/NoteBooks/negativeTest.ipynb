{
 "cells": [
  {
   "cell_type": "code",
   "execution_count": 43,
   "metadata": {},
   "outputs": [],
   "source": [
    "from random import *\n",
    "import pandas as pd\n",
    "import numpy as np\n",
    "import networkx as nx\n",
    "from tqdm import tqdm\n",
    "from sklearn.metrics import accuracy_score\n"
   ]
  },
  {
   "cell_type": "code",
   "execution_count": 7,
   "metadata": {},
   "outputs": [],
   "source": [
    "#utility function to get removed edges\n",
    "def removedEdges(first,second):\n",
    "    removed = 0\n",
    "    for edge in first:\n",
    "        if edge not in second:\n",
    "            removed+=1\n",
    "    return removed\n",
    "#utility function to get added adges\n",
    "def addedEdges(first,second):\n",
    "    added = 0\n",
    "    for edge in second:\n",
    "        if edge not in first:\n",
    "            added+=1\n",
    "    return added"
   ]
  },
  {
   "cell_type": "code",
   "execution_count": 9,
   "metadata": {},
   "outputs": [
    {
     "name": "stdout",
     "output_type": "stream",
     "text": [
      "Number Of Edges:  1490\n",
      "Number Of Nodes:  70\n"
     ]
    }
   ],
   "source": [
    "# Load the adjacency matrix into a numpy array.\n",
    "normal_mat = np.loadtxt('../Normal.txt', dtype=int)\n",
    "for i in range(0,70):\n",
    "        normal_mat[i][i] = 0\n",
    "G_Normal = nx.from_numpy_matrix(normal_mat)\n",
    "print(\"Number Of Edges: \",len(G_Normal.edges()))\n",
    "print(\"Number Of Nodes: \",len(G_Normal.nodes()))"
   ]
  },
  {
   "cell_type": "code",
   "execution_count": 10,
   "metadata": {},
   "outputs": [
    {
     "name": "stdout",
     "output_type": "stream",
     "text": [
      "Number Of Edges:  1364\n",
      "Number Of Nodes:  70\n"
     ]
    }
   ],
   "source": [
    "# Load the adjacency matrix into a numpy array.\n",
    "eMCI_mat = np.loadtxt('../AD.txt', dtype=int)\n",
    "for i in range(0,70):\n",
    "        eMCI_mat[i][i] = 0\n",
    "G_eMCI = nx.from_numpy_matrix(eMCI_mat)\n",
    "print(\"Number Of Edges: \",len(G_eMCI.edges()))\n",
    "print(\"Number Of Nodes: \",len(G_eMCI.nodes()))"
   ]
  },
  {
   "cell_type": "code",
   "execution_count": 13,
   "metadata": {},
   "outputs": [
    {
     "name": "stdout",
     "output_type": "stream",
     "text": [
      "Number Of Edges:  1380\n",
      "Number Of Nodes:  70\n"
     ]
    }
   ],
   "source": [
    "lmci_mat = np.loadtxt('../lMCI.txt', dtype=int)\n",
    "#removing self loops\n",
    "for i in range(0,70):\n",
    "        lmci_mat[i][i] = 0\n",
    "\n",
    "G_lMCI = nx.from_numpy_matrix(lmci_mat)\n",
    "print(\"Number Of Edges: \",len(G_lMCI.edges()))\n",
    "print(\"Number Of Nodes: \",len(G_lMCI.nodes()))"
   ]
  },
  {
   "cell_type": "code",
   "execution_count": 15,
   "metadata": {},
   "outputs": [
    {
     "name": "stdout",
     "output_type": "stream",
     "text": [
      "Number Of Edges:  1364\n",
      "Number Of Nodes:  70\n"
     ]
    }
   ],
   "source": [
    "# Load the adjacency matrix into a numpy array.\n",
    "ad_mat = np.loadtxt('../AD.txt', dtype=int)\n",
    "for i in range(0,70):\n",
    "        ad_mat[i][i] = 0\n",
    "G_AD = nx.from_numpy_matrix(ad_mat)\n",
    "print(\"Number Of Edges: \",len(G_AD.edges()))\n",
    "print(\"Number Of Nodes: \",len(G_AD.nodes()))"
   ]
  },
  {
   "cell_type": "code",
   "execution_count": 24,
   "metadata": {},
   "outputs": [],
   "source": [
    "def randomTest(first,second,thresold = 0.5):\n",
    "    first_mat = np.loadtxt(first,dtype=int)\n",
    "    second_mat = np.loadtxt(second,dtype=int)\n",
    "    G_first = nx.from_numpy_matrix(first_mat)\n",
    "    G_second = nx.from_numpy_matrix(second_mat)\n",
    "    \n",
    "    _add = addedEdges(G_first.edges(),G_second.edges())\n",
    "    _remove = removedEdges(G_first.edges(),G_second.edges())\n",
    "    pred = first_mat.copy()\n",
    "    a = 0\n",
    "    r = 0\n",
    "    for i in range(70):\n",
    "        for j in range(70):\n",
    "            num = random()\n",
    "            if num>thresold and pred[i][j]==0 and a < _add:\n",
    "                pred[i][j]=1\n",
    "                a = a+1\n",
    "            elif num<=thresold and pred[i][j]==1 and r < _remove:\n",
    "                pred[i][j]=0\n",
    "                r = r+1\n",
    "    diff = np.subtract(second_mat,pred)    \n",
    "    dist = 0\n",
    "    for i in range(70):\n",
    "        for j in range(i,70):\n",
    "            if diff[i][j]!=0:\n",
    "                dist+=1\n",
    "    score=(_add+_remove)*2\n",
    "    print(\"score: \",score)\n",
    "    matching  = (score-dist)/score\n",
    "    print(\"Matching Score:: \",matching)\n",
    "    \n",
    "        \n",
    "        \n",
    "    \n",
    "    \n",
    "    "
   ]
  },
  {
   "cell_type": "code",
   "execution_count": 25,
   "metadata": {},
   "outputs": [
    {
     "name": "stderr",
     "output_type": "stream",
     "text": [
      "  0%|          | 0/20 [00:00<?, ?it/s]"
     ]
    },
    {
     "name": "stdout",
     "output_type": "stream",
     "text": [
      "score:  356\n",
      "Matching Score::  0.11797752808988764\n"
     ]
    },
    {
     "name": "stderr",
     "output_type": "stream",
     "text": [
      "  5%|▌         | 1/20 [00:00<00:03,  6.26it/s]"
     ]
    },
    {
     "name": "stdout",
     "output_type": "stream",
     "text": [
      "score:  356\n",
      "Matching Score::  0.0898876404494382\n"
     ]
    },
    {
     "name": "stderr",
     "output_type": "stream",
     "text": [
      " 10%|█         | 2/20 [00:00<00:03,  5.67it/s]"
     ]
    },
    {
     "name": "stdout",
     "output_type": "stream",
     "text": [
      "score:  356\n",
      "Matching Score::  0.07584269662921349\n"
     ]
    },
    {
     "name": "stderr",
     "output_type": "stream",
     "text": [
      " 15%|█▌        | 3/20 [00:00<00:02,  6.13it/s]"
     ]
    },
    {
     "name": "stdout",
     "output_type": "stream",
     "text": [
      "score:  356\n",
      "Matching Score::  0.11235955056179775\n"
     ]
    },
    {
     "name": "stderr",
     "output_type": "stream",
     "text": [
      " 20%|██        | 4/20 [00:00<00:02,  6.49it/s]"
     ]
    },
    {
     "name": "stdout",
     "output_type": "stream",
     "text": [
      "score:  356\n",
      "Matching Score::  0.10955056179775281\n"
     ]
    },
    {
     "name": "stderr",
     "output_type": "stream",
     "text": [
      " 25%|██▌       | 5/20 [00:00<00:02,  6.48it/s]"
     ]
    },
    {
     "name": "stdout",
     "output_type": "stream",
     "text": [
      "score:  356\n",
      "Matching Score::  0.08707865168539326\n"
     ]
    },
    {
     "name": "stderr",
     "output_type": "stream",
     "text": [
      " 30%|███       | 6/20 [00:00<00:02,  6.68it/s]"
     ]
    },
    {
     "name": "stdout",
     "output_type": "stream",
     "text": [
      "score:  356\n",
      "Matching Score::  0.08426966292134831\n"
     ]
    },
    {
     "name": "stderr",
     "output_type": "stream",
     "text": [
      " 35%|███▌      | 7/20 [00:01<00:01,  6.80it/s]"
     ]
    },
    {
     "name": "stdout",
     "output_type": "stream",
     "text": [
      "score:  356\n",
      "Matching Score::  0.10674157303370786\n"
     ]
    },
    {
     "name": "stderr",
     "output_type": "stream",
     "text": [
      " 40%|████      | 8/20 [00:01<00:01,  6.75it/s]"
     ]
    },
    {
     "name": "stdout",
     "output_type": "stream",
     "text": [
      "score:  356\n",
      "Matching Score::  0.10393258426966293\n"
     ]
    },
    {
     "name": "stderr",
     "output_type": "stream",
     "text": [
      " 45%|████▌     | 9/20 [00:01<00:01,  7.01it/s]"
     ]
    },
    {
     "name": "stdout",
     "output_type": "stream",
     "text": [
      "score:  356\n",
      "Matching Score::  0.12078651685393259\n"
     ]
    },
    {
     "name": "stderr",
     "output_type": "stream",
     "text": [
      " 50%|█████     | 10/20 [00:01<00:01,  7.36it/s]"
     ]
    },
    {
     "name": "stdout",
     "output_type": "stream",
     "text": [
      "score:  356\n",
      "Matching Score::  0.0898876404494382\n"
     ]
    },
    {
     "name": "stderr",
     "output_type": "stream",
     "text": [
      " 55%|█████▌    | 11/20 [00:01<00:01,  7.63it/s]"
     ]
    },
    {
     "name": "stdout",
     "output_type": "stream",
     "text": [
      "score:  356\n",
      "Matching Score::  0.11235955056179775\n"
     ]
    },
    {
     "name": "stderr",
     "output_type": "stream",
     "text": [
      " 60%|██████    | 12/20 [00:01<00:01,  7.29it/s]"
     ]
    },
    {
     "name": "stdout",
     "output_type": "stream",
     "text": [
      "score:  356\n",
      "Matching Score::  0.08426966292134831\n"
     ]
    },
    {
     "name": "stderr",
     "output_type": "stream",
     "text": [
      " 65%|██████▌   | 13/20 [00:01<00:00,  7.19it/s]"
     ]
    },
    {
     "name": "stdout",
     "output_type": "stream",
     "text": [
      "score:  356\n",
      "Matching Score::  0.10393258426966293\n"
     ]
    },
    {
     "name": "stderr",
     "output_type": "stream",
     "text": [
      " 70%|███████   | 14/20 [00:02<00:00,  7.10it/s]"
     ]
    },
    {
     "name": "stdout",
     "output_type": "stream",
     "text": [
      "score:  356\n",
      "Matching Score::  0.0702247191011236\n"
     ]
    },
    {
     "name": "stderr",
     "output_type": "stream",
     "text": [
      " 75%|███████▌  | 15/20 [00:02<00:00,  6.78it/s]"
     ]
    },
    {
     "name": "stdout",
     "output_type": "stream",
     "text": [
      "score:  356\n",
      "Matching Score::  0.10112359550561797\n"
     ]
    },
    {
     "name": "stderr",
     "output_type": "stream",
     "text": [
      " 80%|████████  | 16/20 [00:02<00:00,  6.39it/s]"
     ]
    },
    {
     "name": "stdout",
     "output_type": "stream",
     "text": [
      "score:  356\n",
      "Matching Score::  0.07584269662921349\n"
     ]
    },
    {
     "name": "stderr",
     "output_type": "stream",
     "text": [
      " 85%|████████▌ | 17/20 [00:02<00:00,  5.89it/s]"
     ]
    },
    {
     "name": "stdout",
     "output_type": "stream",
     "text": [
      "score:  356\n",
      "Matching Score::  0.12359550561797752\n"
     ]
    },
    {
     "name": "stderr",
     "output_type": "stream",
     "text": [
      " 90%|█████████ | 18/20 [00:02<00:00,  5.65it/s]"
     ]
    },
    {
     "name": "stdout",
     "output_type": "stream",
     "text": [
      "score:  356\n",
      "Matching Score::  0.10674157303370786\n"
     ]
    },
    {
     "name": "stderr",
     "output_type": "stream",
     "text": [
      " 95%|█████████▌| 19/20 [00:03<00:00,  4.97it/s]"
     ]
    },
    {
     "name": "stdout",
     "output_type": "stream",
     "text": [
      "score:  356\n",
      "Matching Score::  0.08707865168539326\n"
     ]
    },
    {
     "name": "stderr",
     "output_type": "stream",
     "text": [
      "100%|██████████| 20/20 [00:03<00:00,  5.98it/s]\n"
     ]
    }
   ],
   "source": [
    "for i in tqdm(range(20)):\n",
    "    randomTest('../Normal.txt','../eMCI.txt')"
   ]
  },
  {
   "cell_type": "code",
   "execution_count": 26,
   "metadata": {},
   "outputs": [
    {
     "name": "stderr",
     "output_type": "stream",
     "text": [
      "  0%|          | 0/20 [00:00<?, ?it/s]"
     ]
    },
    {
     "name": "stdout",
     "output_type": "stream",
     "text": [
      "score:  436\n",
      "Matching Score::  0.1559633027522936\n"
     ]
    },
    {
     "name": "stderr",
     "output_type": "stream",
     "text": [
      "  5%|▌         | 1/20 [00:00<00:02,  7.99it/s]"
     ]
    },
    {
     "name": "stdout",
     "output_type": "stream",
     "text": [
      "score:  436\n",
      "Matching Score::  0.13302752293577982\n"
     ]
    },
    {
     "name": "stderr",
     "output_type": "stream",
     "text": [
      " 10%|█         | 2/20 [00:00<00:02,  7.46it/s]"
     ]
    },
    {
     "name": "stdout",
     "output_type": "stream",
     "text": [
      "score:  436\n",
      "Matching Score::  0.13073394495412843\n"
     ]
    },
    {
     "name": "stderr",
     "output_type": "stream",
     "text": [
      " 15%|█▌        | 3/20 [00:00<00:02,  7.98it/s]"
     ]
    },
    {
     "name": "stdout",
     "output_type": "stream",
     "text": [
      "score:  436\n",
      "Matching Score::  0.1353211009174312\n"
     ]
    },
    {
     "name": "stderr",
     "output_type": "stream",
     "text": [
      " 20%|██        | 4/20 [00:00<00:01,  8.28it/s]"
     ]
    },
    {
     "name": "stdout",
     "output_type": "stream",
     "text": [
      "score:  436\n",
      "Matching Score::  0.1353211009174312\n"
     ]
    },
    {
     "name": "stderr",
     "output_type": "stream",
     "text": [
      " 25%|██▌       | 5/20 [00:00<00:01,  8.57it/s]"
     ]
    },
    {
     "name": "stdout",
     "output_type": "stream",
     "text": [
      "score:  436\n",
      "Matching Score::  0.13302752293577982\n"
     ]
    },
    {
     "name": "stderr",
     "output_type": "stream",
     "text": [
      " 30%|███       | 6/20 [00:00<00:01,  8.54it/s]"
     ]
    },
    {
     "name": "stdout",
     "output_type": "stream",
     "text": [
      "score:  436\n",
      "Matching Score::  0.14908256880733944\n"
     ]
    },
    {
     "name": "stderr",
     "output_type": "stream",
     "text": [
      " 35%|███▌      | 7/20 [00:00<00:01,  8.27it/s]"
     ]
    },
    {
     "name": "stdout",
     "output_type": "stream",
     "text": [
      "score:  436\n",
      "Matching Score::  0.11467889908256881\n"
     ]
    },
    {
     "name": "stderr",
     "output_type": "stream",
     "text": [
      " 40%|████      | 8/20 [00:01<00:01,  7.54it/s]"
     ]
    },
    {
     "name": "stdout",
     "output_type": "stream",
     "text": [
      "score:  436\n",
      "Matching Score::  0.1536697247706422\n"
     ]
    },
    {
     "name": "stderr",
     "output_type": "stream",
     "text": [
      " 45%|████▌     | 9/20 [00:01<00:01,  7.18it/s]"
     ]
    },
    {
     "name": "stdout",
     "output_type": "stream",
     "text": [
      "score:  436\n",
      "Matching Score::  0.1536697247706422\n"
     ]
    },
    {
     "name": "stderr",
     "output_type": "stream",
     "text": [
      " 50%|█████     | 10/20 [00:01<00:01,  7.66it/s]"
     ]
    },
    {
     "name": "stdout",
     "output_type": "stream",
     "text": [
      "score:  436\n",
      "Matching Score::  0.1628440366972477\n"
     ]
    },
    {
     "name": "stderr",
     "output_type": "stream",
     "text": [
      " 55%|█████▌    | 11/20 [00:01<00:01,  6.81it/s]"
     ]
    },
    {
     "name": "stdout",
     "output_type": "stream",
     "text": [
      "score:  436\n",
      "Matching Score::  0.1559633027522936\n"
     ]
    },
    {
     "name": "stderr",
     "output_type": "stream",
     "text": [
      " 60%|██████    | 12/20 [00:01<00:01,  6.26it/s]"
     ]
    },
    {
     "name": "stdout",
     "output_type": "stream",
     "text": [
      "score:  436\n",
      "Matching Score::  0.1444954128440367\n"
     ]
    },
    {
     "name": "stderr",
     "output_type": "stream",
     "text": [
      " 65%|██████▌   | 13/20 [00:01<00:01,  6.50it/s]"
     ]
    },
    {
     "name": "stdout",
     "output_type": "stream",
     "text": [
      "score:  436\n",
      "Matching Score::  0.13073394495412843\n"
     ]
    },
    {
     "name": "stderr",
     "output_type": "stream",
     "text": [
      " 70%|███████   | 14/20 [00:01<00:00,  6.88it/s]"
     ]
    },
    {
     "name": "stdout",
     "output_type": "stream",
     "text": [
      "score:  436\n",
      "Matching Score::  0.12614678899082568\n"
     ]
    },
    {
     "name": "stderr",
     "output_type": "stream",
     "text": [
      " 75%|███████▌  | 15/20 [00:02<00:00,  7.27it/s]"
     ]
    },
    {
     "name": "stdout",
     "output_type": "stream",
     "text": [
      "score:  436\n",
      "Matching Score::  0.12155963302752294\n"
     ]
    },
    {
     "name": "stderr",
     "output_type": "stream",
     "text": [
      " 80%|████████  | 16/20 [00:02<00:00,  6.28it/s]"
     ]
    },
    {
     "name": "stdout",
     "output_type": "stream",
     "text": [
      "score:  436\n",
      "Matching Score::  0.12385321100917432\n"
     ]
    },
    {
     "name": "stderr",
     "output_type": "stream",
     "text": [
      " 85%|████████▌ | 17/20 [00:02<00:00,  5.49it/s]"
     ]
    },
    {
     "name": "stdout",
     "output_type": "stream",
     "text": [
      "score:  436\n",
      "Matching Score::  0.11926605504587157\n"
     ]
    },
    {
     "name": "stderr",
     "output_type": "stream",
     "text": [
      " 90%|█████████ | 18/20 [00:02<00:00,  5.65it/s]"
     ]
    },
    {
     "name": "stdout",
     "output_type": "stream",
     "text": [
      "score:  436\n",
      "Matching Score::  0.11238532110091744\n"
     ]
    },
    {
     "name": "stderr",
     "output_type": "stream",
     "text": [
      " 95%|█████████▌| 19/20 [00:02<00:00,  5.67it/s]"
     ]
    },
    {
     "name": "stdout",
     "output_type": "stream",
     "text": [
      "score:  436\n",
      "Matching Score::  0.1353211009174312\n"
     ]
    },
    {
     "name": "stderr",
     "output_type": "stream",
     "text": [
      "100%|██████████| 20/20 [00:02<00:00,  6.68it/s]\n"
     ]
    }
   ],
   "source": [
    "for i in tqdm(range(20)):\n",
    "    randomTest('../eMCI.txt','../lMCI.txt')"
   ]
  },
  {
   "cell_type": "code",
   "execution_count": 27,
   "metadata": {},
   "outputs": [
    {
     "name": "stderr",
     "output_type": "stream",
     "text": [
      "  0%|          | 0/20 [00:00<?, ?it/s]"
     ]
    },
    {
     "name": "stdout",
     "output_type": "stream",
     "text": [
      "score:  328\n",
      "Matching Score::  0.07317073170731707\n"
     ]
    },
    {
     "name": "stderr",
     "output_type": "stream",
     "text": [
      "  5%|▌         | 1/20 [00:00<00:02,  7.40it/s]"
     ]
    },
    {
     "name": "stdout",
     "output_type": "stream",
     "text": [
      "score:  328\n",
      "Matching Score::  0.07621951219512195\n"
     ]
    },
    {
     "name": "stderr",
     "output_type": "stream",
     "text": [
      " 10%|█         | 2/20 [00:00<00:02,  7.49it/s]"
     ]
    },
    {
     "name": "stdout",
     "output_type": "stream",
     "text": [
      "score:  328\n",
      "Matching Score::  0.07621951219512195\n"
     ]
    },
    {
     "name": "stderr",
     "output_type": "stream",
     "text": [
      " 15%|█▌        | 3/20 [00:00<00:02,  7.73it/s]"
     ]
    },
    {
     "name": "stdout",
     "output_type": "stream",
     "text": [
      "score:  328\n",
      "Matching Score::  0.057926829268292686\n"
     ]
    },
    {
     "name": "stderr",
     "output_type": "stream",
     "text": [
      " 20%|██        | 4/20 [00:00<00:02,  7.90it/s]"
     ]
    },
    {
     "name": "stdout",
     "output_type": "stream",
     "text": [
      "score:  328\n",
      "Matching Score::  0.09451219512195122\n"
     ]
    },
    {
     "name": "stderr",
     "output_type": "stream",
     "text": [
      " 25%|██▌       | 5/20 [00:00<00:01,  7.93it/s]"
     ]
    },
    {
     "name": "stdout",
     "output_type": "stream",
     "text": [
      "score:  328\n",
      "Matching Score::  0.051829268292682924\n"
     ]
    },
    {
     "name": "stderr",
     "output_type": "stream",
     "text": [
      " 30%|███       | 6/20 [00:00<00:01,  7.85it/s]"
     ]
    },
    {
     "name": "stdout",
     "output_type": "stream",
     "text": [
      "score:  328\n",
      "Matching Score::  0.057926829268292686\n"
     ]
    },
    {
     "name": "stderr",
     "output_type": "stream",
     "text": [
      " 35%|███▌      | 7/20 [00:00<00:01,  7.99it/s]"
     ]
    },
    {
     "name": "stdout",
     "output_type": "stream",
     "text": [
      "score:  328\n",
      "Matching Score::  0.08536585365853659\n"
     ]
    },
    {
     "name": "stderr",
     "output_type": "stream",
     "text": [
      " 40%|████      | 8/20 [00:01<00:01,  6.45it/s]"
     ]
    },
    {
     "name": "stdout",
     "output_type": "stream",
     "text": [
      "score:  328\n",
      "Matching Score::  0.10365853658536585\n"
     ]
    },
    {
     "name": "stderr",
     "output_type": "stream",
     "text": [
      " 45%|████▌     | 9/20 [00:01<00:01,  6.71it/s]"
     ]
    },
    {
     "name": "stdout",
     "output_type": "stream",
     "text": [
      "score:  328\n",
      "Matching Score::  0.08841463414634146\n"
     ]
    },
    {
     "name": "stderr",
     "output_type": "stream",
     "text": [
      " 50%|█████     | 10/20 [00:01<00:01,  6.84it/s]"
     ]
    },
    {
     "name": "stdout",
     "output_type": "stream",
     "text": [
      "score:  328\n",
      "Matching Score::  0.0975609756097561\n"
     ]
    },
    {
     "name": "stderr",
     "output_type": "stream",
     "text": [
      " 55%|█████▌    | 11/20 [00:01<00:01,  7.22it/s]"
     ]
    },
    {
     "name": "stdout",
     "output_type": "stream",
     "text": [
      "score:  328\n",
      "Matching Score::  0.0701219512195122\n"
     ]
    },
    {
     "name": "stderr",
     "output_type": "stream",
     "text": [
      " 60%|██████    | 12/20 [00:01<00:01,  7.79it/s]"
     ]
    },
    {
     "name": "stdout",
     "output_type": "stream",
     "text": [
      "score:  328\n",
      "Matching Score::  0.07926829268292683\n"
     ]
    },
    {
     "name": "stderr",
     "output_type": "stream",
     "text": [
      " 65%|██████▌   | 13/20 [00:01<00:00,  8.34it/s]"
     ]
    },
    {
     "name": "stdout",
     "output_type": "stream",
     "text": [
      "score:  328\n",
      "Matching Score::  0.07621951219512195\n"
     ]
    },
    {
     "name": "stderr",
     "output_type": "stream",
     "text": [
      " 70%|███████   | 14/20 [00:01<00:00,  8.55it/s]"
     ]
    },
    {
     "name": "stdout",
     "output_type": "stream",
     "text": [
      "score:  328\n",
      "Matching Score::  0.051829268292682924\n"
     ]
    },
    {
     "name": "stderr",
     "output_type": "stream",
     "text": [
      " 75%|███████▌  | 15/20 [00:01<00:00,  8.82it/s]"
     ]
    },
    {
     "name": "stdout",
     "output_type": "stream",
     "text": [
      "score:  328\n",
      "Matching Score::  0.06402439024390244\n"
     ]
    },
    {
     "name": "stderr",
     "output_type": "stream",
     "text": [
      " 80%|████████  | 16/20 [00:02<00:00,  8.04it/s]"
     ]
    },
    {
     "name": "stdout",
     "output_type": "stream",
     "text": [
      "score:  328\n",
      "Matching Score::  0.054878048780487805\n"
     ]
    },
    {
     "name": "stderr",
     "output_type": "stream",
     "text": [
      " 85%|████████▌ | 17/20 [00:02<00:00,  7.17it/s]"
     ]
    },
    {
     "name": "stdout",
     "output_type": "stream",
     "text": [
      "score:  328\n",
      "Matching Score::  0.08231707317073171\n"
     ]
    },
    {
     "name": "stderr",
     "output_type": "stream",
     "text": [
      " 90%|█████████ | 18/20 [00:02<00:00,  6.87it/s]"
     ]
    },
    {
     "name": "stdout",
     "output_type": "stream",
     "text": [
      "score:  328\n",
      "Matching Score::  0.08841463414634146\n"
     ]
    },
    {
     "name": "stderr",
     "output_type": "stream",
     "text": [
      " 95%|█████████▌| 19/20 [00:02<00:00,  7.09it/s]"
     ]
    },
    {
     "name": "stdout",
     "output_type": "stream",
     "text": [
      "score:  328\n",
      "Matching Score::  0.04878048780487805\n"
     ]
    },
    {
     "name": "stderr",
     "output_type": "stream",
     "text": [
      "100%|██████████| 20/20 [00:02<00:00,  7.51it/s]\n"
     ]
    }
   ],
   "source": [
    "for i in tqdm(range(20)):\n",
    "    randomTest('../lMCI.txt','../AD.txt')"
   ]
  },
  {
   "cell_type": "code",
   "execution_count": 28,
   "metadata": {},
   "outputs": [
    {
     "name": "stderr",
     "output_type": "stream",
     "text": [
      "  0%|          | 0/20 [00:00<?, ?it/s]"
     ]
    },
    {
     "name": "stdout",
     "output_type": "stream",
     "text": [
      "score:  436\n",
      "Matching Score::  0.16743119266055045\n"
     ]
    },
    {
     "name": "stderr",
     "output_type": "stream",
     "text": [
      "  5%|▌         | 1/20 [00:00<00:02,  7.69it/s]"
     ]
    },
    {
     "name": "stdout",
     "output_type": "stream",
     "text": [
      "score:  436\n",
      "Matching Score::  0.14678899082568808\n"
     ]
    },
    {
     "name": "stderr",
     "output_type": "stream",
     "text": [
      " 10%|█         | 2/20 [00:00<00:02,  6.50it/s]"
     ]
    },
    {
     "name": "stdout",
     "output_type": "stream",
     "text": [
      "score:  436\n",
      "Matching Score::  0.1353211009174312\n"
     ]
    },
    {
     "name": "stderr",
     "output_type": "stream",
     "text": [
      " 15%|█▌        | 3/20 [00:00<00:02,  6.81it/s]"
     ]
    },
    {
     "name": "stdout",
     "output_type": "stream",
     "text": [
      "score:  436\n",
      "Matching Score::  0.13302752293577982\n",
      "score:  436\n",
      "Matching Score::  0.14678899082568808\n"
     ]
    },
    {
     "name": "stderr",
     "output_type": "stream",
     "text": [
      " 25%|██▌       | 5/20 [00:00<00:01,  7.53it/s]"
     ]
    },
    {
     "name": "stdout",
     "output_type": "stream",
     "text": [
      "score:  436\n",
      "Matching Score::  0.12844036697247707\n"
     ]
    },
    {
     "name": "stderr",
     "output_type": "stream",
     "text": [
      " 30%|███       | 6/20 [00:00<00:01,  7.85it/s]"
     ]
    },
    {
     "name": "stdout",
     "output_type": "stream",
     "text": [
      "score:  436\n",
      "Matching Score::  0.15825688073394495\n"
     ]
    },
    {
     "name": "stderr",
     "output_type": "stream",
     "text": [
      " 35%|███▌      | 7/20 [00:00<00:01,  8.08it/s]"
     ]
    },
    {
     "name": "stdout",
     "output_type": "stream",
     "text": [
      "score:  436\n",
      "Matching Score::  0.15137614678899083\n"
     ]
    },
    {
     "name": "stderr",
     "output_type": "stream",
     "text": [
      " 40%|████      | 8/20 [00:01<00:01,  7.86it/s]"
     ]
    },
    {
     "name": "stdout",
     "output_type": "stream",
     "text": [
      "score:  436\n",
      "Matching Score::  0.16743119266055045\n"
     ]
    },
    {
     "name": "stderr",
     "output_type": "stream",
     "text": [
      " 45%|████▌     | 9/20 [00:01<00:01,  7.72it/s]"
     ]
    },
    {
     "name": "stdout",
     "output_type": "stream",
     "text": [
      "score:  436\n",
      "Matching Score::  0.12385321100917432\n"
     ]
    },
    {
     "name": "stderr",
     "output_type": "stream",
     "text": [
      " 50%|█████     | 10/20 [00:01<00:01,  7.63it/s]"
     ]
    },
    {
     "name": "stdout",
     "output_type": "stream",
     "text": [
      "score:  436\n",
      "Matching Score::  0.1353211009174312\n"
     ]
    },
    {
     "name": "stderr",
     "output_type": "stream",
     "text": [
      " 55%|█████▌    | 11/20 [00:01<00:01,  7.31it/s]"
     ]
    },
    {
     "name": "stdout",
     "output_type": "stream",
     "text": [
      "score:  436\n",
      "Matching Score::  0.15825688073394495\n"
     ]
    },
    {
     "name": "stderr",
     "output_type": "stream",
     "text": [
      " 60%|██████    | 12/20 [00:01<00:01,  7.77it/s]"
     ]
    },
    {
     "name": "stdout",
     "output_type": "stream",
     "text": [
      "score:  436\n",
      "Matching Score::  0.14908256880733944\n"
     ]
    },
    {
     "name": "stderr",
     "output_type": "stream",
     "text": [
      " 65%|██████▌   | 13/20 [00:01<00:00,  8.23it/s]"
     ]
    },
    {
     "name": "stdout",
     "output_type": "stream",
     "text": [
      "score:  436\n",
      "Matching Score::  0.1444954128440367\n"
     ]
    },
    {
     "name": "stderr",
     "output_type": "stream",
     "text": [
      " 70%|███████   | 14/20 [00:01<00:00,  7.42it/s]"
     ]
    },
    {
     "name": "stdout",
     "output_type": "stream",
     "text": [
      "score:  436\n",
      "Matching Score::  0.13990825688073394\n"
     ]
    },
    {
     "name": "stderr",
     "output_type": "stream",
     "text": [
      " 75%|███████▌  | 15/20 [00:02<00:00,  6.68it/s]"
     ]
    },
    {
     "name": "stdout",
     "output_type": "stream",
     "text": [
      "score:  436\n",
      "Matching Score::  0.1353211009174312\n"
     ]
    },
    {
     "name": "stderr",
     "output_type": "stream",
     "text": [
      " 80%|████████  | 16/20 [00:02<00:00,  7.09it/s]"
     ]
    },
    {
     "name": "stdout",
     "output_type": "stream",
     "text": [
      "score:  436\n",
      "Matching Score::  0.15137614678899083\n"
     ]
    },
    {
     "name": "stderr",
     "output_type": "stream",
     "text": [
      " 85%|████████▌ | 17/20 [00:02<00:00,  7.19it/s]"
     ]
    },
    {
     "name": "stdout",
     "output_type": "stream",
     "text": [
      "score:  436\n",
      "Matching Score::  0.1536697247706422\n"
     ]
    },
    {
     "name": "stderr",
     "output_type": "stream",
     "text": [
      " 90%|█████████ | 18/20 [00:02<00:00,  7.03it/s]"
     ]
    },
    {
     "name": "stdout",
     "output_type": "stream",
     "text": [
      "score:  436\n",
      "Matching Score::  0.1353211009174312\n"
     ]
    },
    {
     "name": "stderr",
     "output_type": "stream",
     "text": [
      " 95%|█████████▌| 19/20 [00:02<00:00,  6.51it/s]"
     ]
    },
    {
     "name": "stdout",
     "output_type": "stream",
     "text": [
      "score:  436\n",
      "Matching Score::  0.13761467889908258\n"
     ]
    },
    {
     "name": "stderr",
     "output_type": "stream",
     "text": [
      "100%|██████████| 20/20 [00:02<00:00,  7.18it/s]\n"
     ]
    }
   ],
   "source": [
    "for i in tqdm(range(20)):\n",
    "    randomTest('../Normal.txt','../AD.txt')"
   ]
  },
  {
   "cell_type": "code",
   "execution_count": 35,
   "metadata": {},
   "outputs": [],
   "source": [
    "def linkPredictWithRandom(first,second):\n",
    "    #loading matrix of first state\n",
    "    normal_mat = np.loadtxt(first, dtype=int)\n",
    "    #removing self loops\n",
    "    for i in range(0,70):\n",
    "            normal_mat[i][i] = 0\n",
    "    #bilding graphs\n",
    "    G_Normal = nx.from_numpy_matrix(normal_mat)\n",
    "    print(\"Number Of Edges: \",len(G_Normal.edges()))\n",
    "    print(\"Number Of Nodes: \",len(G_Normal.nodes()))\n",
    "    #loading matrix of second state\n",
    "    emci_mat = np.loadtxt(second, dtype=int)\n",
    "    #removing self loops\n",
    "    for i in range(0,70):\n",
    "        emci_mat[i][i] = 0\n",
    "    #building graph of second state\n",
    "    G_eMCI = nx.from_numpy_matrix(emci_mat)\n",
    "    #G_lMCI = nx.from_numpy_matrix(lmci_mat)\n",
    "    print(\"Number Of Edges: \",len(G_eMCI.edges()))\n",
    "    print(\"Number Of Nodes: \",len(G_eMCI.nodes()))\n",
    "    print(\"Number Of Removed Edges: \",removedEdges(G_Normal.edges(),G_eMCI.edges()))\n",
    "    print(\"Number of new Edges:\",addedEdges(G_Normal.edges(),G_eMCI.edges()))\n",
    "    #print(emci_mat)\n",
    "    #print(type(emci_mat))\n",
    "    ecmi_pred = emci_mat.copy()\n",
    "    #prepare the positive score matrix\n",
    "    pred_adamic = list(nx.adamic_adar_index(G_Normal))\n",
    "    positive_score_mat = np.zeros((70,70))\n",
    "    for item in pred_adamic:\n",
    "        positive_score_mat[item[0]][item[1]] = random()\n",
    "\n",
    "    #preparing negative score matrix\n",
    "    G_Normal_complement = nx.complement(G_Normal)\n",
    "    pred_adamic = list(nx.adamic_adar_index(G_Normal_complement))\n",
    "    negative_score_mat = np.zeros((70,70))\n",
    "    for item in pred_adamic:\n",
    "        negative_score_mat[item[0]][item[1]] = random()\n",
    "    A = addedEdges(G_Normal.edges(),G_eMCI.edges())\n",
    "    B = removedEdges(G_Normal.edges(),G_eMCI.edges())\n",
    "    score=(A+B)*2\n",
    "    \n",
    "    done = []\n",
    "    while(A>0 and B>0):\n",
    "        maxIndex = 70\n",
    "        TopRank=-1\n",
    "        x=0\n",
    "        y=0\n",
    "        for i in range(maxIndex-1):\n",
    "            for j in range(i+1,maxIndex):\n",
    "                \n",
    "                if(normal_mat[i][j]==0 and (i,j) not in done):\n",
    "                    #print(i,j)\n",
    "                    tempRank = positive_score_mat[i][j]\n",
    "                    if(tempRank>TopRank):\n",
    "                        x=i\n",
    "                        y=j\n",
    "                        TopRank = tempRank\n",
    "        #positive_score_mat[x][y] = -positive_score_mat[x][y]\n",
    "        if(positive_score_mat[x][y]>negative_score_mat[x][y]):\n",
    "            #adding link\n",
    "            ecmi_pred[x][y] = 1\n",
    "            A-=1\n",
    "            \n",
    "            done.append((x,y))\n",
    "        elif(ecmi_pred[x][y]==1):\n",
    "            #removing edge\n",
    "            ecmi_pred[x][y] = 0\n",
    "            B-=1\n",
    "            print(x,y)\n",
    "            done.append((x,y))\n",
    "        else:\n",
    "            done.append((x,y))\n",
    "    \n",
    "        \n",
    "    \n",
    "    while(A>0):\n",
    "        maxIndex = 70\n",
    "        TopRank=-1\n",
    "        x=0\n",
    "        y=0\n",
    "        for i in range(maxIndex-1):\n",
    "            for j in range(i+1,maxIndex):\n",
    "                if(normal_mat[i][j]==0 and (i,j) not in done):\n",
    "                    tempRank = positive_score_mat[i][j]\n",
    "                    if(tempRank>TopRank):\n",
    "                        x=i\n",
    "                        y=j\n",
    "                        TopRank = tempRank\n",
    "    \n",
    "        ecmi_pred[x][y] = 1\n",
    "        A-=1\n",
    "        done.append((x,y))\n",
    "        print(x,y)\n",
    "    while(B>0):\n",
    "        maxIndex = 70\n",
    "        TopRank=-1\n",
    "        x=0\n",
    "        y=0\n",
    "        for i in range(maxIndex-1):\n",
    "            for j in range(i+1,maxIndex):\n",
    "                if(normal_mat[i][j]==1 and (i,j) not in done):\n",
    "                    tempRank = negative_score_mat[i][j]\n",
    "                    if(tempRank>TopRank):\n",
    "                        x=i\n",
    "                        y=j\n",
    "                        TopRank = tempRank\n",
    "    \n",
    "        ecmi_pred[x][y] = 0\n",
    "        B-=1\n",
    "        done.append((x,y))\n",
    "    diff = np.subtract(emci_mat,ecmi_pred)    \n",
    "    dist = 0\n",
    "    for i in range(70):\n",
    "        for j in range(i,70):\n",
    "            if diff[i][j]!=0:\n",
    "                dist+=1\n",
    "    print(\"score: \",score)\n",
    "    matching  = (score-dist)/score\n",
    "    print(\"Matching Score:: \",matching)\n",
    "    print(len(done))"
   ]
  },
  {
   "cell_type": "code",
   "execution_count": 36,
   "metadata": {},
   "outputs": [
    {
     "name": "stdout",
     "output_type": "stream",
     "text": [
      "Number Of Edges:  1490\n",
      "Number Of Nodes:  70\n",
      "Number Of Edges:  1510\n",
      "Number Of Nodes:  70\n",
      "Number Of Removed Edges:  79\n",
      "Number of new Edges: 99\n",
      "score:  356\n",
      "Matching Score::  0.5449438202247191\n",
      "178\n"
     ]
    }
   ],
   "source": [
    "linkPredictWithRandom('../Normal.txt','../eMCI.txt')"
   ]
  },
  {
   "cell_type": "code",
   "execution_count": 37,
   "metadata": {},
   "outputs": [
    {
     "name": "stdout",
     "output_type": "stream",
     "text": [
      "Number Of Edges:  1510\n",
      "Number Of Nodes:  70\n",
      "Number Of Edges:  1380\n",
      "Number Of Nodes:  70\n",
      "Number Of Removed Edges:  174\n",
      "Number of new Edges: 44\n",
      "score:  436\n",
      "Matching Score::  0.555045871559633\n",
      "218\n"
     ]
    }
   ],
   "source": [
    "linkPredictWithRandom('../eMCI.txt','../lMCI.txt')"
   ]
  },
  {
   "cell_type": "code",
   "execution_count": 38,
   "metadata": {},
   "outputs": [
    {
     "name": "stdout",
     "output_type": "stream",
     "text": [
      "Number Of Edges:  1380\n",
      "Number Of Nodes:  70\n",
      "Number Of Edges:  1364\n",
      "Number Of Nodes:  70\n",
      "Number Of Removed Edges:  90\n",
      "Number of new Edges: 74\n",
      "score:  328\n",
      "Matching Score::  0.5304878048780488\n",
      "164\n"
     ]
    }
   ],
   "source": [
    "linkPredictWithRandom('../lMCI.txt','../AD.txt')"
   ]
  },
  {
   "cell_type": "code",
   "execution_count": 39,
   "metadata": {},
   "outputs": [
    {
     "name": "stdout",
     "output_type": "stream",
     "text": [
      "Number Of Edges:  1490\n",
      "Number Of Nodes:  70\n",
      "Number Of Edges:  1364\n",
      "Number Of Nodes:  70\n",
      "Number Of Removed Edges:  172\n",
      "Number of new Edges: 46\n",
      "score:  436\n",
      "Matching Score::  0.5665137614678899\n",
      "218\n"
     ]
    }
   ],
   "source": [
    "linkPredictWithRandom('../Normal.txt','../AD.txt')"
   ]
  },
  {
   "cell_type": "code",
   "execution_count": 51,
   "metadata": {},
   "outputs": [],
   "source": [
    "def randomTest(first,second,thresold = 0.5):\n",
    "    first_mat = np.loadtxt(first,dtype=int)\n",
    "    second_mat = np.loadtxt(second,dtype=int)\n",
    "    G_first = nx.from_numpy_matrix(first_mat)\n",
    "    G_second = nx.from_numpy_matrix(second_mat)\n",
    "    \n",
    "    _add = addedEdges(G_first.edges(),G_second.edges())\n",
    "    _remove = removedEdges(G_first.edges(),G_second.edges())\n",
    "    pred = first_mat.copy()\n",
    "    a = 0\n",
    "    r = 0\n",
    "    for i in range(70):\n",
    "        for j in range(70):\n",
    "            num = random()\n",
    "            if num>thresold:\n",
    "                pred[i][j]=1\n",
    "            else:\n",
    "                pred[i][j]=0\n",
    "    original = [] \n",
    "    predicted = []\n",
    "    for i in range(70):\n",
    "        for j in range(70):\n",
    "            original.append(second_mat[i][j])\n",
    "            predicted.append(pred[i][j])\n",
    "    print(\"Accuracy: \",accuracy_score(original,predicted))\n",
    "    "
   ]
  },
  {
   "cell_type": "code",
   "execution_count": 52,
   "metadata": {},
   "outputs": [
    {
     "name": "stdout",
     "output_type": "stream",
     "text": [
      "Accuracy:  0.5012244897959184\n"
     ]
    }
   ],
   "source": [
    "randomTest('../Normal.txt','../eMCI.txt')"
   ]
  },
  {
   "cell_type": "code",
   "execution_count": 53,
   "metadata": {},
   "outputs": [
    {
     "name": "stdout",
     "output_type": "stream",
     "text": [
      "Accuracy:  0.49734693877551023\n"
     ]
    }
   ],
   "source": [
    "randomTest('../eMCI.txt','../lMCI.txt')"
   ]
  },
  {
   "cell_type": "code",
   "execution_count": 54,
   "metadata": {},
   "outputs": [
    {
     "name": "stdout",
     "output_type": "stream",
     "text": [
      "Accuracy:  0.5095918367346939\n"
     ]
    }
   ],
   "source": [
    "randomTest('../lMCI.txt','../AD.txt')"
   ]
  },
  {
   "cell_type": "code",
   "execution_count": 55,
   "metadata": {},
   "outputs": [
    {
     "name": "stdout",
     "output_type": "stream",
     "text": [
      "Accuracy:  0.4987755102040816\n"
     ]
    }
   ],
   "source": [
    "randomTest('../lMCI.txt','../AD.txt')"
   ]
  },
  {
   "cell_type": "code",
   "execution_count": null,
   "metadata": {},
   "outputs": [],
   "source": []
  }
 ],
 "metadata": {
  "kernelspec": {
   "display_name": "Python 3",
   "language": "python",
   "name": "python3"
  },
  "language_info": {
   "codemirror_mode": {
    "name": "ipython",
    "version": 3
   },
   "file_extension": ".py",
   "mimetype": "text/x-python",
   "name": "python",
   "nbconvert_exporter": "python",
   "pygments_lexer": "ipython3",
   "version": "3.7.4"
  }
 },
 "nbformat": 4,
 "nbformat_minor": 4
}
