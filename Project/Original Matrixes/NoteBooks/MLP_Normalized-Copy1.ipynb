{
 "cells": [
  {
   "cell_type": "code",
   "execution_count": 1,
   "metadata": {},
   "outputs": [],
   "source": [
    "import pandas as pd\n",
    "import numpy as np\n",
    "import random\n",
    "from IPython.display import Image\n",
    "import matplotlib.pyplot as plt\n",
    "import itertools\n",
    "from sklearn.metrics import accuracy_score\n",
    "from sklearn.metrics import roc_curve\n",
    "from sklearn.metrics import roc_auc_score\n",
    "import networkx as nx\n",
    "from networkx.algorithms import community\n",
    "# Node2Vec\n",
    "from sklearn.preprocessing import normalize"
   ]
  },
  {
   "cell_type": "code",
   "execution_count": 2,
   "metadata": {},
   "outputs": [
    {
     "name": "stdout",
     "output_type": "stream",
     "text": [
      "Number Of Edges:  1364\n",
      "Number Of Nodes:  70\n"
     ]
    }
   ],
   "source": [
    "# Load the adjacency matrix into a numpy array.\n",
    "ad_mat = np.loadtxt('../AD.txt', dtype=int)\n",
    "for i in range(0,70):\n",
    "        ad_mat[i][i] = 0\n",
    "G_AD = nx.from_numpy_matrix(ad_mat)\n",
    "print(\"Number Of Edges: \",len(G_AD.edges()))\n",
    "print(\"Number Of Nodes: \",len(G_AD.nodes()))"
   ]
  },
  {
   "cell_type": "code",
   "execution_count": 3,
   "metadata": {},
   "outputs": [
    {
     "name": "stdout",
     "output_type": "stream",
     "text": [
      "Number Of Edges:  1510\n",
      "Number Of Nodes:  70\n"
     ]
    }
   ],
   "source": [
    "emci_mat = np.loadtxt('../eMCI.txt', dtype=int)\n",
    "#removing self loops\n",
    "for i in range(0,70):\n",
    "        emci_mat[i][i] = 0\n",
    "G_eMCI = nx.from_numpy_matrix(emci_mat)\n",
    "print(\"Number Of Edges: \",len(G_eMCI.edges()))\n",
    "print(\"Number Of Nodes: \",len(G_eMCI.nodes()))"
   ]
  },
  {
   "cell_type": "code",
   "execution_count": 4,
   "metadata": {},
   "outputs": [
    {
     "name": "stdout",
     "output_type": "stream",
     "text": [
      "Number Of Edges:  1380\n",
      "Number Of Nodes:  70\n"
     ]
    }
   ],
   "source": [
    "lmci_mat = np.loadtxt('../lMCI.txt', dtype=int)\n",
    "#removing self loops\n",
    "for i in range(0,70):\n",
    "        lmci_mat[i][i] = 0\n",
    "G_eMCI = nx.from_numpy_matrix(emci_mat)\n",
    "G_lMCI = nx.from_numpy_matrix(lmci_mat)\n",
    "print(\"Number Of Edges: \",len(G_lMCI.edges()))\n",
    "print(\"Number Of Nodes: \",len(G_lMCI.nodes()))"
   ]
  },
  {
   "cell_type": "code",
   "execution_count": 5,
   "metadata": {},
   "outputs": [
    {
     "name": "stdout",
     "output_type": "stream",
     "text": [
      "Number Of Edges:  1490\n",
      "Number Of Nodes:  70\n"
     ]
    }
   ],
   "source": [
    "normal_mat = np.loadtxt('../Normal.txt', dtype=int)\n",
    "#removing self loops\n",
    "for i in range(0,70):\n",
    "        normal_mat[i][i] = 0\n",
    "G_eMCI = nx.from_numpy_matrix(emci_mat)\n",
    "G_Normal = nx.from_numpy_matrix(normal_mat)\n",
    "print(\"Number Of Edges: \",len(G_Normal.edges()))\n",
    "print(\"Number Of Nodes: \",len(G_Normal.nodes()))"
   ]
  },
  {
   "cell_type": "code",
   "execution_count": 6,
   "metadata": {},
   "outputs": [],
   "source": [
    "#utility function to get removed edges\n",
    "def removedEdges(first,second):\n",
    "    removed = 0\n",
    "    for edge in first:\n",
    "        if edge not in second:\n",
    "            removed+=1\n",
    "    return removed\n",
    "#utility function to get added adges\n",
    "def addedEdges(first,second):\n",
    "    added = 0\n",
    "    for edge in second:\n",
    "        if edge not in first:\n",
    "            added+=1\n",
    "    return added"
   ]
  },
  {
   "cell_type": "code",
   "execution_count": 7,
   "metadata": {},
   "outputs": [],
   "source": [
    "def linkPredictWithAdamic(first,second):\n",
    "    #loading matrix of first state\n",
    "    normal_mat = np.loadtxt(first, dtype=int)\n",
    "    #removing self loops\n",
    "    for i in range(0,70):\n",
    "            normal_mat[i][i] = 0\n",
    "    #bilding graphs\n",
    "    G_Normal = nx.from_numpy_matrix(normal_mat)\n",
    "    print(\"Number Of Edges: \",len(G_Normal.edges()))\n",
    "    print(\"Number Of Nodes: \",len(G_Normal.nodes()))\n",
    "    #loading matrix of second state\n",
    "    emci_mat = np.loadtxt(second, dtype=int)\n",
    "    #removing self loops\n",
    "    for i in range(0,70):\n",
    "        emci_mat[i][i] = 0\n",
    "    #building graph of second state\n",
    "    G_eMCI = nx.from_numpy_matrix(emci_mat)\n",
    "    #G_lMCI = nx.from_numpy_matrix(lmci_mat)\n",
    "    print(\"Number Of Edges: \",len(G_eMCI.edges()))\n",
    "    print(\"Number Of Nodes: \",len(G_eMCI.nodes()))\n",
    "    print(\"Number Of Removed Edges: \",removedEdges(G_Normal.edges(),G_eMCI.edges()))\n",
    "    print(\"Number of new Edges:\",addedEdges(G_Normal.edges(),G_eMCI.edges()))\n",
    "    #print(emci_mat)\n",
    "    #print(type(emci_mat))\n",
    "    ecmi_pred = emci_mat.copy()\n",
    "    #prepare the positive score matrix\n",
    "    pred_adamic = list(nx.adamic_adar_index(G_Normal))\n",
    "    positive_score_mat = np.zeros((70,70))\n",
    "    for item in pred_adamic:\n",
    "        positive_score_mat[item[0]][item[1]] = item[2]\n",
    "    positive_score_mat = normalize(positive_score_mat, axis=1, norm='max')\n",
    "\n",
    "    #preparing negative score matrix\n",
    "    G_Normal_complement = nx.complement(G_Normal)\n",
    "    pred_adamic = list(nx.adamic_adar_index(G_Normal_complement))\n",
    "    negative_score_mat = np.zeros((70,70))\n",
    "    for item in pred_adamic:\n",
    "        negative_score_mat[item[0]][item[1]] = item[2]\n",
    "    negative_score_mat = normalize(negative_score_mat, axis=1, norm='l2')\n",
    "    \n",
    "    A = addedEdges(G_Normal.edges(),G_eMCI.edges())\n",
    "    B = removedEdges(G_Normal.edges(),G_eMCI.edges())\n",
    "    score=(A+B)*2\n",
    "    \n",
    "    done = []\n",
    "    while(A>0 and B>0):\n",
    "        maxIndex = 70\n",
    "        TopRank=-1\n",
    "        x=0\n",
    "        y=0\n",
    "        for i in range(maxIndex-1):\n",
    "            for j in range(i+1,maxIndex):\n",
    "                \n",
    "                if(normal_mat[i][j]==0 and (i,j) not in done):\n",
    "                    #print(i,j)\n",
    "                    tempRank = positive_score_mat[i][j]\n",
    "                    if(tempRank>TopRank):\n",
    "                        x=i\n",
    "                        y=j\n",
    "                        TopRank = tempRank\n",
    "        #positive_score_mat[x][y] = -positive_score_mat[x][y]\n",
    "        if(positive_score_mat[x][y]>negative_score_mat[x][y]):\n",
    "            #adding link\n",
    "            ecmi_pred[x][y] = 1\n",
    "            A-=1\n",
    "            \n",
    "            done.append((x,y))\n",
    "        elif(ecmi_pred[x][y]==1):\n",
    "            #removing edge\n",
    "            ecmi_pred[x][y] = 0\n",
    "            B-=1\n",
    "            print(x,y)\n",
    "            done.append((x,y))\n",
    "        else:\n",
    "            done.append((x,y))\n",
    "    \n",
    "        \n",
    "    \n",
    "    while(A>0):\n",
    "        maxIndex = 70\n",
    "        TopRank=-1\n",
    "        x=0\n",
    "        y=0\n",
    "        for i in range(maxIndex-1):\n",
    "            for j in range(i+1,maxIndex):\n",
    "                if(normal_mat[i][j]==0 and (i,j) not in done):\n",
    "                    tempRank = positive_score_mat[i][j]\n",
    "                    if(tempRank>TopRank):\n",
    "                        x=i\n",
    "                        y=j\n",
    "                        TopRank = tempRank\n",
    "    \n",
    "        ecmi_pred[x][y] = 1\n",
    "        A-=1\n",
    "        done.append((x,y))\n",
    "        print(x,y)\n",
    "    while(B>0):\n",
    "        maxIndex = 70\n",
    "        TopRank=-1\n",
    "        x=0\n",
    "        y=0\n",
    "        for i in range(maxIndex-1):\n",
    "            for j in range(i+1,maxIndex):\n",
    "                if(normal_mat[i][j]==1 and (i,j) not in done):\n",
    "                    tempRank = negative_score_mat[i][j]\n",
    "                    if(tempRank>TopRank):\n",
    "                        x=i\n",
    "                        y=j\n",
    "                        TopRank = tempRank\n",
    "    \n",
    "        ecmi_pred[x][y] = 0\n",
    "        B-=1\n",
    "        done.append((x,y))\n",
    "    diff = np.subtract(emci_mat,ecmi_pred)    \n",
    "    dist = 0\n",
    "    for i in range(70):\n",
    "        for j in range(i,70):\n",
    "            if diff[i][j]!=0:\n",
    "                dist+=1\n",
    "    print(\"score: \",score)\n",
    "    matching  = (score-dist)/score\n",
    "    print(\"Matching Score:: \",matching)\n",
    "    print(len(done))"
   ]
  },
  {
   "cell_type": "code",
   "execution_count": 8,
   "metadata": {},
   "outputs": [
    {
     "name": "stdout",
     "output_type": "stream",
     "text": [
      "Number Of Edges:  1490\n",
      "Number Of Nodes:  70\n",
      "Number Of Edges:  1510\n",
      "Number Of Nodes:  70\n",
      "Number Of Removed Edges:  79\n",
      "Number of new Edges: 99\n",
      "score:  356\n",
      "Matching Score::  0.5786516853932584\n",
      "178\n"
     ]
    }
   ],
   "source": [
    "linkPredictWithAdamic('../Normal.txt','../eMCI.txt')"
   ]
  },
  {
   "cell_type": "code",
   "execution_count": 9,
   "metadata": {},
   "outputs": [
    {
     "name": "stdout",
     "output_type": "stream",
     "text": [
      "Number Of Edges:  1510\n",
      "Number Of Nodes:  70\n",
      "Number Of Edges:  1380\n",
      "Number Of Nodes:  70\n",
      "Number Of Removed Edges:  174\n",
      "Number of new Edges: 44\n",
      "score:  436\n",
      "Matching Score::  0.5435779816513762\n",
      "218\n"
     ]
    }
   ],
   "source": [
    "linkPredictWithAdamic('../eMCI.txt','../lMCI.txt')\n"
   ]
  },
  {
   "cell_type": "code",
   "execution_count": 10,
   "metadata": {},
   "outputs": [
    {
     "name": "stdout",
     "output_type": "stream",
     "text": [
      "Number Of Edges:  1380\n",
      "Number Of Nodes:  70\n",
      "Number Of Edges:  1364\n",
      "Number Of Nodes:  70\n",
      "Number Of Removed Edges:  90\n",
      "Number of new Edges: 74\n",
      "score:  328\n",
      "Matching Score::  0.5884146341463414\n",
      "164\n"
     ]
    }
   ],
   "source": [
    "linkPredictWithAdamic('../lMCI.txt','../AD.txt')"
   ]
  },
  {
   "cell_type": "code",
   "execution_count": 11,
   "metadata": {},
   "outputs": [
    {
     "name": "stdout",
     "output_type": "stream",
     "text": [
      "Number Of Edges:  1490\n",
      "Number Of Nodes:  70\n",
      "Number Of Edges:  1364\n",
      "Number Of Nodes:  70\n",
      "Number Of Removed Edges:  172\n",
      "Number of new Edges: 46\n",
      "score:  436\n",
      "Matching Score::  0.5619266055045872\n",
      "218\n"
     ]
    }
   ],
   "source": [
    "linkPredictWithAdamic('../Normal.txt','../AD.txt')\n"
   ]
  },
  {
   "cell_type": "code",
   "execution_count": null,
   "metadata": {},
   "outputs": [],
   "source": []
  },
  {
   "cell_type": "code",
   "execution_count": null,
   "metadata": {},
   "outputs": [],
   "source": []
  },
  {
   "cell_type": "code",
   "execution_count": null,
   "metadata": {},
   "outputs": [],
   "source": []
  },
  {
   "cell_type": "code",
   "execution_count": null,
   "metadata": {},
   "outputs": [],
   "source": []
  }
 ],
 "metadata": {
  "kernelspec": {
   "display_name": "Python 3",
   "language": "python",
   "name": "python3"
  },
  "language_info": {
   "codemirror_mode": {
    "name": "ipython",
    "version": 3
   },
   "file_extension": ".py",
   "mimetype": "text/x-python",
   "name": "python",
   "nbconvert_exporter": "python",
   "pygments_lexer": "ipython3",
   "version": "3.7.4"
  }
 },
 "nbformat": 4,
 "nbformat_minor": 4
}
