{
 "cells": [
  {
   "cell_type": "code",
   "execution_count": 18,
   "metadata": {},
   "outputs": [],
   "source": [
    "import pandas as pd\n",
    "import numpy as np\n",
    "import random\n",
    "from IPython.display import Image\n",
    "import matplotlib.pyplot as plt\n",
    "import itertools\n",
    "from sklearn.metrics import accuracy_score\n",
    "from sklearn.metrics import roc_curve\n",
    "from sklearn.metrics import roc_auc_score\n",
    "import networkx as nx\n",
    "from networkx.algorithms import community\n",
    "# Node2Vec\n",
    "from sklearn.preprocessing import normalize\n",
    "import math\n",
    "from tqdm import tqdm\n",
    "from sklearn.metrics import confusion_matrix\n"
   ]
  },
  {
   "cell_type": "code",
   "execution_count": 19,
   "metadata": {},
   "outputs": [],
   "source": [
    "#utility function to get removed edges\n",
    "def removedEdges(first,second):\n",
    "    removed = 0\n",
    "    for edge in first:\n",
    "        if edge not in second:\n",
    "            removed+=1\n",
    "    return removed\n",
    "#utility function to get added adges\n",
    "def addedEdges(first,second):\n",
    "    added = 0\n",
    "    for edge in second:\n",
    "        if edge not in first:\n",
    "            added+=1\n",
    "    return added"
   ]
  },
  {
   "cell_type": "code",
   "execution_count": 20,
   "metadata": {},
   "outputs": [],
   "source": [
    "def positiveScoreMatBuild(_graph):\n",
    "    pred_adamic = list(nx.adamic_adar_index(_graph))\n",
    "    positive_score_mat = np.zeros((70,70))\n",
    "    for item in pred_adamic:\n",
    "        positive_score_mat[item[0]][item[1]] = item[2]\n",
    "    return positive_score_mat"
   ]
  },
  {
   "cell_type": "code",
   "execution_count": 26,
   "metadata": {},
   "outputs": [],
   "source": [
    "def _target(mat):\n",
    "    target = []\n",
    "    for i in range(len(mat)):\n",
    "        for j in range(i,len(mat[0])):\n",
    "            target.append(mat[i][j])\n",
    "    return target"
   ]
  },
  {
   "cell_type": "code",
   "execution_count": 31,
   "metadata": {},
   "outputs": [],
   "source": [
    "add_Edges = []\n",
    "remove_Edges = []\n",
    "def batchApproach(first,second,batch_size=10):\n",
    "    #loading matrix of first state\n",
    "    first_mat = np.loadtxt(first, dtype=int)\n",
    "    #removing self loops\n",
    "    for i in range(0,70):\n",
    "            first_mat[i][i] = 0\n",
    "    #building graphs\n",
    "    G_First = nx.from_numpy_matrix(first_mat)\n",
    "    #print(\"Number Of Edges: \",len(G_First.edges()))\n",
    "    #print(\"Number Of Nodes: \",len(G_First.nodes()))\n",
    "    #loading matrix of second state\n",
    "    second_mat = np.loadtxt(second, dtype=int)\n",
    "    #removing self loops\n",
    "    for i in range(0,70):\n",
    "        second_mat[i][i] = 0\n",
    "    #building graph of second state\n",
    "    G_second = nx.from_numpy_matrix(second_mat)\n",
    "    #G_lMCI = nx.from_numpy_matrix(lmci_mat)\n",
    "    #print(\"Number Of Edges: \",len(G_second.edges()))\n",
    "    #print(\"Number Of Nodes: \",len(G_second.nodes()))\n",
    "    #print(\"Number Of Removed Edges: \",removedEdges(G_First.edges(),G_second.edges()))\n",
    "    #print(\"Number of new Edges:\",addedEdges(G_First.edges(),G_second.edges()))\n",
    "    #print(second_mat)\n",
    "    #print(type(second_mat))\n",
    "    first_pred = second_mat.copy()\n",
    "    #prepare the positive score matrix\n",
    "    positive_score_mat = positiveScoreMatBuild(G_First)\n",
    "    #positive_score_mat = normalize(positive_score_mat, axis=1, norm='l1')\n",
    "    #preparing negative score matrix\n",
    "    G_First_complement = nx.complement(G_First)\n",
    "    negative_score_mat = positiveScoreMatBuild(G_First_complement)\n",
    "    #negative_score_mat = normalize(negative_score_mat, axis=1, norm='l1')\n",
    "    #print(negative_score_mat)\n",
    "    \n",
    "    A = addedEdges(G_First.edges(),G_second.edges())\n",
    "    B = removedEdges(G_First.edges(),G_second.edges())\n",
    "    removed_edges = B\n",
    "    added_edges = A\n",
    "    score=(A+B)*2\n",
    "    laps = math.ceil((A+B)/batch_size)\n",
    "    done = []\n",
    "    for m in range(laps):\n",
    "        positive_score_mat = positiveScoreMatBuild(G_First)\n",
    "        G_First_complement = nx.complement(G_First)\n",
    "        negative_score_mat = positiveScoreMatBuild(G_First_complement)\n",
    "\n",
    "        for n in range(batch_size):\n",
    "            if(A>0 and B>0):\n",
    "                maxIndex = 70\n",
    "                TopRank=-1\n",
    "                x=0\n",
    "                y=0\n",
    "                for i in range(maxIndex-1):\n",
    "                    for j in range(i+1,maxIndex):\n",
    "                        if(first_mat[i][j]==0 and (i,j) not in done):\n",
    "                            #print(i,j)\n",
    "                            tempRank = positive_score_mat[i][j]\n",
    "                            if(tempRank>TopRank):\n",
    "                                x=i\n",
    "                                y=j\n",
    "                                TopRank = tempRank\n",
    "                #positive_score_mat[x][y] = -positive_score_mat[x][y]\n",
    "                if(positive_score_mat[x][y]>negative_score_mat[x][y]):\n",
    "                    #adding link\n",
    "                    add_Edges.append((x,y,positive_score_mat[x][y],negative_score_mat[x][y]))\n",
    "                    first_pred[x][y] = 1\n",
    "                    A-=1\n",
    "                    done.append((x,y))\n",
    "                    G_First.add_edge(x,y)\n",
    "                elif(first_pred[x][y]==1):\n",
    "                    #removing edge\n",
    "                    remove_Edges.append((x,y,positive_score_mat[x][y],negative_score_mat[x][y]))\n",
    "                    first_pred[x][y] = 0\n",
    "                    B-=1\n",
    "                    #print(x,y)\n",
    "                    done.append((x,y))\n",
    "                    G_First.remove_edge(x, y)\n",
    "                else:\n",
    "                    done.append((x,y))\n",
    "    \n",
    "        \n",
    "    \n",
    "            if(A>0):\n",
    "                maxIndex = 70\n",
    "                TopRank=-1\n",
    "                x=0\n",
    "                y=0\n",
    "                for i in range(maxIndex-1):\n",
    "                    for j in range(i+1,maxIndex):\n",
    "                        if(first_mat[i][j]==0 and (i,j) not in done):\n",
    "                            tempRank = positive_score_mat[i][j]\n",
    "                            if(tempRank>TopRank):\n",
    "                                x=i\n",
    "                                y=j\n",
    "                                TopRank = tempRank\n",
    "        \n",
    "                first_pred[x][y] = 1\n",
    "                A-=1\n",
    "                done.append((x,y))\n",
    "                add_Edges.append((x,y,positive_score_mat[x][y],negative_score_mat[x][y]))\n",
    "                G_First.add_edge(x,y)\n",
    "                \n",
    "        \n",
    "                #print(x,y)\n",
    "            if(B>0):\n",
    "                maxIndex = 70\n",
    "                TopRank=-1\n",
    "                x=0\n",
    "                y=0\n",
    "                for i in range(maxIndex-1):\n",
    "                    for j in range(i+1,maxIndex):\n",
    "                        if(first_mat[i][j]==1 and (i,j) not in done):\n",
    "                            tempRank = negative_score_mat[i][j]\n",
    "                            if(tempRank>TopRank):\n",
    "                                x=i\n",
    "                                y=j\n",
    "                                TopRank = tempRank\n",
    "        \n",
    "                first_pred[x][y] = 0\n",
    "                remove_Edges.append((x,y,positive_score_mat[x][y],negative_score_mat[x][y]))\n",
    "                G_First.remove_edge(x, y)\n",
    "                B-=1\n",
    "                done.append((x,y))\n",
    "    diff = np.subtract(second_mat,first_pred)    \n",
    "    dist = 0\n",
    "    removed_pred = 0\n",
    "    added_pred = 0\n",
    "    for i in range(70):\n",
    "        for j in range(i,70):\n",
    "            if diff[i][j]!=0:\n",
    "                dist+=1\n",
    "            if diff[i][j]==-1:\n",
    "                removed_pred+=1\n",
    "            if diff[i][j]==1:\n",
    "                added_pred+=1\n",
    "    #print(\"score: \",score)\n",
    "    #removal accuracy\n",
    "    \n",
    "    matching  = (score-dist)/score\n",
    "    removed_accuracy = removed_pred/(2*removed_edges)\n",
    "    added_accuracy = added_pred/(2*added_edges)\n",
    "    actual_ = _target(second_mat)\n",
    "    predicted_ = _target(first_pred)\n",
    "    print(\"removed Matching Score:: \",removed_accuracy)\n",
    "    print(\"added Matching Score:: \",added_accuracy)\n",
    "    print(\"confusion matrix\",confusion_matrix(actual_,predicted_))\n",
    "    \n",
    "    #print(\"Matching Score:: \",matching)\n",
    "    #print(len(done))\n",
    "    return matching"
   ]
  },
  {
   "cell_type": "code",
   "execution_count": 32,
   "metadata": {},
   "outputs": [
    {
     "name": "stderr",
     "output_type": "stream",
     "text": [
      "\n",
      "  0%|          | 0/19 [00:00<?, ?it/s]"
     ]
    },
    {
     "name": "stdout",
     "output_type": "stream",
     "text": [
      "removed Matching Score::  0.5316455696202531\n",
      "added Matching Score::  0.37373737373737376\n",
      "confusion matrix [[1796   84]\n",
      " [  74 2946]]\n"
     ]
    },
    {
     "name": "stderr",
     "output_type": "stream",
     "text": [
      "\n",
      "  5%|▌         | 1/19 [01:34<28:18, 94.36s/it]"
     ]
    },
    {
     "name": "stdout",
     "output_type": "stream",
     "text": [
      "removed Matching Score::  0.5316455696202531\n",
      "added Matching Score::  0.3787878787878788\n",
      "confusion matrix [[1796   84]\n",
      " [  75 2945]]\n"
     ]
    },
    {
     "name": "stderr",
     "output_type": "stream",
     "text": [
      "\n",
      " 11%|█         | 2/19 [02:34<23:48, 84.03s/it]"
     ]
    },
    {
     "name": "stdout",
     "output_type": "stream",
     "text": [
      "removed Matching Score::  0.5316455696202531\n",
      "added Matching Score::  0.37373737373737376\n",
      "confusion matrix [[1796   84]\n",
      " [  74 2946]]\n"
     ]
    },
    {
     "name": "stderr",
     "output_type": "stream",
     "text": [
      "\n",
      " 16%|█▌        | 3/19 [03:09<18:29, 69.33s/it]"
     ]
    },
    {
     "name": "stdout",
     "output_type": "stream",
     "text": [
      "removed Matching Score::  0.5126582278481012\n",
      "added Matching Score::  0.3686868686868687\n",
      "confusion matrix [[1799   81]\n",
      " [  73 2947]]\n"
     ]
    },
    {
     "name": "stderr",
     "output_type": "stream",
     "text": [
      "\n",
      " 21%|██        | 4/19 [03:35<14:04, 56.27s/it]"
     ]
    },
    {
     "name": "stdout",
     "output_type": "stream",
     "text": [
      "removed Matching Score::  0.5189873417721519\n",
      "added Matching Score::  0.37373737373737376\n",
      "confusion matrix [[1798   82]\n",
      " [  74 2946]]\n"
     ]
    },
    {
     "name": "stderr",
     "output_type": "stream",
     "text": [
      "\n",
      " 26%|██▋       | 5/19 [03:57<10:45, 46.14s/it]"
     ]
    },
    {
     "name": "stdout",
     "output_type": "stream",
     "text": [
      "removed Matching Score::  0.5189873417721519\n",
      "added Matching Score::  0.3787878787878788\n",
      "confusion matrix [[1798   82]\n",
      " [  75 2945]]\n"
     ]
    },
    {
     "name": "stderr",
     "output_type": "stream",
     "text": [
      "\n",
      " 32%|███▏      | 6/19 [04:13<08:00, 36.93s/it]"
     ]
    },
    {
     "name": "stdout",
     "output_type": "stream",
     "text": [
      "removed Matching Score::  0.5189873417721519\n",
      "added Matching Score::  0.37373737373737376\n",
      "confusion matrix [[1798   82]\n",
      " [  74 2946]]\n"
     ]
    },
    {
     "name": "stderr",
     "output_type": "stream",
     "text": [
      "\n",
      " 37%|███▋      | 7/19 [04:29<06:10, 30.86s/it]"
     ]
    },
    {
     "name": "stdout",
     "output_type": "stream",
     "text": [
      "removed Matching Score::  0.5126582278481012\n",
      "added Matching Score::  0.3686868686868687\n",
      "confusion matrix [[1799   81]\n",
      " [  73 2947]]\n"
     ]
    },
    {
     "name": "stderr",
     "output_type": "stream",
     "text": [
      "\n",
      " 42%|████▏     | 8/19 [04:47<04:54, 26.82s/it]"
     ]
    },
    {
     "name": "stdout",
     "output_type": "stream",
     "text": [
      "removed Matching Score::  0.5063291139240507\n",
      "added Matching Score::  0.3787878787878788\n",
      "confusion matrix [[1800   80]\n",
      " [  75 2945]]\n"
     ]
    },
    {
     "name": "stderr",
     "output_type": "stream",
     "text": [
      "\n",
      " 47%|████▋     | 9/19 [04:59<03:43, 22.36s/it]"
     ]
    },
    {
     "name": "stdout",
     "output_type": "stream",
     "text": [
      "removed Matching Score::  0.5126582278481012\n",
      "added Matching Score::  0.3787878787878788\n",
      "confusion matrix [[1799   81]\n",
      " [  75 2945]]\n"
     ]
    },
    {
     "name": "stderr",
     "output_type": "stream",
     "text": [
      "\n",
      " 53%|█████▎    | 10/19 [05:09<02:47, 18.66s/it]"
     ]
    },
    {
     "name": "stdout",
     "output_type": "stream",
     "text": [
      "removed Matching Score::  0.5126582278481012\n",
      "added Matching Score::  0.37373737373737376\n",
      "confusion matrix [[1799   81]\n",
      " [  74 2946]]\n"
     ]
    },
    {
     "name": "stderr",
     "output_type": "stream",
     "text": [
      "\n",
      " 58%|█████▊    | 11/19 [05:19<02:08, 16.06s/it]"
     ]
    },
    {
     "name": "stdout",
     "output_type": "stream",
     "text": [
      "removed Matching Score::  0.5126582278481012\n",
      "added Matching Score::  0.3787878787878788\n",
      "confusion matrix [[1799   81]\n",
      " [  75 2945]]\n"
     ]
    },
    {
     "name": "stderr",
     "output_type": "stream",
     "text": [
      "\n",
      " 63%|██████▎   | 12/19 [05:31<01:45, 15.03s/it]"
     ]
    },
    {
     "name": "stdout",
     "output_type": "stream",
     "text": [
      "removed Matching Score::  0.5126582278481012\n",
      "added Matching Score::  0.37373737373737376\n",
      "confusion matrix [[1799   81]\n",
      " [  74 2946]]\n"
     ]
    },
    {
     "name": "stderr",
     "output_type": "stream",
     "text": [
      "\n",
      " 68%|██████▊   | 13/19 [05:45<01:28, 14.67s/it]"
     ]
    },
    {
     "name": "stdout",
     "output_type": "stream",
     "text": [
      "removed Matching Score::  0.5126582278481012\n",
      "added Matching Score::  0.37373737373737376\n",
      "confusion matrix [[1799   81]\n",
      " [  74 2946]]\n"
     ]
    },
    {
     "name": "stderr",
     "output_type": "stream",
     "text": [
      "\n",
      " 74%|███████▎  | 14/19 [05:57<01:09, 13.86s/it]"
     ]
    },
    {
     "name": "stdout",
     "output_type": "stream",
     "text": [
      "removed Matching Score::  0.5126582278481012\n",
      "added Matching Score::  0.37373737373737376\n",
      "confusion matrix [[1799   81]\n",
      " [  74 2946]]\n"
     ]
    },
    {
     "name": "stderr",
     "output_type": "stream",
     "text": [
      "\n",
      " 79%|███████▉  | 15/19 [06:07<00:51, 12.81s/it]"
     ]
    },
    {
     "name": "stdout",
     "output_type": "stream",
     "text": [
      "removed Matching Score::  0.5126582278481012\n",
      "added Matching Score::  0.37373737373737376\n",
      "confusion matrix [[1799   81]\n",
      " [  74 2946]]\n"
     ]
    },
    {
     "name": "stderr",
     "output_type": "stream",
     "text": [
      "\n",
      " 84%|████████▍ | 16/19 [06:16<00:34, 11.41s/it]"
     ]
    },
    {
     "name": "stdout",
     "output_type": "stream",
     "text": [
      "removed Matching Score::  0.5126582278481012\n",
      "added Matching Score::  0.37373737373737376\n",
      "confusion matrix [[1799   81]\n",
      " [  74 2946]]\n"
     ]
    },
    {
     "name": "stderr",
     "output_type": "stream",
     "text": [
      "\n",
      " 89%|████████▉ | 17/19 [06:27<00:23, 11.54s/it]"
     ]
    },
    {
     "name": "stdout",
     "output_type": "stream",
     "text": [
      "removed Matching Score::  0.5253164556962026\n",
      "added Matching Score::  0.37373737373737376\n",
      "confusion matrix [[1797   83]\n",
      " [  74 2946]]\n"
     ]
    },
    {
     "name": "stderr",
     "output_type": "stream",
     "text": [
      "\n",
      " 95%|█████████▍| 18/19 [06:35<00:10, 10.27s/it]"
     ]
    },
    {
     "name": "stdout",
     "output_type": "stream",
     "text": [
      "removed Matching Score::  0.5126582278481012\n",
      "added Matching Score::  0.37373737373737376\n",
      "confusion matrix [[1799   81]\n",
      " [  74 2946]]\n"
     ]
    },
    {
     "name": "stderr",
     "output_type": "stream",
     "text": [
      "\n",
      "100%|██████████| 19/19 [06:43<00:00, 21.22s/it]\n"
     ]
    },
    {
     "data": {
      "image/png": "[encoded data removed]",
      "text/plain": [
       "<Figure size 432x288 with 1 Axes>"
      ]
     },
     "metadata": {
      "needs_background": "light"
     },
     "output_type": "display_data"
    }
   ],
   "source": [
    "add_Edges = []\n",
    "remove_Edges = []\n",
    "accuracy = []\n",
    "x = [i for i in range(1,20)]\n",
    "for b in tqdm(range(1,20)):\n",
    "    acc = batchApproach('../Normal.txt','../eMCI.txt',batch_size=b)\n",
    "    accuracy.append(acc)\n",
    "plt.plot(x,accuracy)\n",
    "plt.show()"
   ]
  },
  {
   "cell_type": "code",
   "execution_count": 33,
   "metadata": {},
   "outputs": [
    {
     "name": "stderr",
     "output_type": "stream",
     "text": [
      "\n",
      "  0%|          | 0/19 [00:00<?, ?it/s]"
     ]
    },
    {
     "name": "stdout",
     "output_type": "stream",
     "text": [
      "removed Matching Score::  0.10632183908045977\n",
      "added Matching Score::  1.7272727272727273\n",
      "confusion matrix [[2103   37]\n",
      " [ 152 2608]]\n"
     ]
    },
    {
     "name": "stderr",
     "output_type": "stream",
     "text": [
      "\n",
      "  5%|▌         | 1/19 [02:00<36:04, 120.27s/it]"
     ]
    },
    {
     "name": "stdout",
     "output_type": "stream",
     "text": [
      "removed Matching Score::  0.10632183908045977\n",
      "added Matching Score::  1.7159090909090908\n",
      "confusion matrix [[2103   37]\n",
      " [ 151 2609]]\n"
     ]
    },
    {
     "name": "stderr",
     "output_type": "stream",
     "text": [
      "\n",
      " 11%|█         | 2/19 [03:02<29:10, 102.96s/it]"
     ]
    },
    {
     "name": "stdout",
     "output_type": "stream",
     "text": [
      "removed Matching Score::  0.10632183908045977\n",
      "added Matching Score::  1.7045454545454546\n",
      "confusion matrix [[2103   37]\n",
      " [ 150 2610]]\n"
     ]
    },
    {
     "name": "stderr",
     "output_type": "stream",
     "text": [
      "\n",
      " 16%|█▌        | 3/19 [03:42<22:23, 83.97s/it] "
     ]
    },
    {
     "name": "stdout",
     "output_type": "stream",
     "text": [
      "removed Matching Score::  0.10632183908045977\n",
      "added Matching Score::  1.7045454545454546\n",
      "confusion matrix [[2103   37]\n",
      " [ 150 2610]]\n"
     ]
    },
    {
     "name": "stderr",
     "output_type": "stream",
     "text": [
      "\n",
      " 21%|██        | 4/19 [04:19<17:29, 69.97s/it]"
     ]
    },
    {
     "name": "stdout",
     "output_type": "stream",
     "text": [
      "removed Matching Score::  0.10344827586206896\n",
      "added Matching Score::  1.7159090909090908\n",
      "confusion matrix [[2104   36]\n",
      " [ 151 2609]]\n"
     ]
    },
    {
     "name": "stderr",
     "output_type": "stream",
     "text": [
      "\n",
      " 26%|██▋       | 5/19 [04:46<13:19, 57.08s/it]"
     ]
    },
    {
     "name": "stdout",
     "output_type": "stream",
     "text": [
      "removed Matching Score::  0.10344827586206896\n",
      "added Matching Score::  1.7272727272727273\n",
      "confusion matrix [[2104   36]\n",
      " [ 152 2608]]\n"
     ]
    },
    {
     "name": "stderr",
     "output_type": "stream",
     "text": [
      "\n",
      " 32%|███▏      | 6/19 [05:15<10:31, 48.56s/it]"
     ]
    },
    {
     "name": "stdout",
     "output_type": "stream",
     "text": [
      "removed Matching Score::  0.10344827586206896\n",
      "added Matching Score::  1.7272727272727273\n",
      "confusion matrix [[2104   36]\n",
      " [ 152 2608]]\n"
     ]
    },
    {
     "name": "stderr",
     "output_type": "stream",
     "text": [
      "\n",
      " 37%|███▋      | 7/19 [05:33<07:53, 39.44s/it]"
     ]
    },
    {
     "name": "stdout",
     "output_type": "stream",
     "text": [
      "removed Matching Score::  0.10057471264367816\n",
      "added Matching Score::  1.75\n",
      "confusion matrix [[2105   35]\n",
      " [ 154 2606]]\n"
     ]
    },
    {
     "name": "stderr",
     "output_type": "stream",
     "text": [
      "\n",
      " 42%|████▏     | 8/19 [05:51<06:02, 32.98s/it]"
     ]
    },
    {
     "name": "stdout",
     "output_type": "stream",
     "text": [
      "removed Matching Score::  0.10344827586206896\n",
      "added Matching Score::  1.7386363636363635\n",
      "confusion matrix [[2104   36]\n",
      " [ 153 2607]]\n"
     ]
    },
    {
     "name": "stderr",
     "output_type": "stream",
     "text": [
      "\n",
      " 47%|████▋     | 9/19 [06:07<04:39, 27.97s/it]"
     ]
    },
    {
     "name": "stdout",
     "output_type": "stream",
     "text": [
      "removed Matching Score::  0.09770114942528736\n",
      "added Matching Score::  1.7613636363636365\n",
      "confusion matrix [[2106   34]\n",
      " [ 155 2605]]\n"
     ]
    },
    {
     "name": "stderr",
     "output_type": "stream",
     "text": [
      "\n",
      " 53%|█████▎    | 10/19 [06:23<03:38, 24.30s/it]"
     ]
    },
    {
     "name": "stdout",
     "output_type": "stream",
     "text": [
      "removed Matching Score::  0.10057471264367816\n",
      "added Matching Score::  1.75\n",
      "confusion matrix [[2105   35]\n",
      " [ 154 2606]]\n"
     ]
    },
    {
     "name": "stderr",
     "output_type": "stream",
     "text": [
      "\n",
      " 58%|█████▊    | 11/19 [06:36<02:46, 20.86s/it]"
     ]
    },
    {
     "name": "stdout",
     "output_type": "stream",
     "text": [
      "removed Matching Score::  0.10057471264367816\n",
      "added Matching Score::  1.7613636363636365\n",
      "confusion matrix [[2105   35]\n",
      " [ 155 2605]]\n"
     ]
    },
    {
     "name": "stderr",
     "output_type": "stream",
     "text": [
      "\n",
      " 63%|██████▎   | 12/19 [06:54<02:19, 19.95s/it]"
     ]
    },
    {
     "name": "stdout",
     "output_type": "stream",
     "text": [
      "removed Matching Score::  0.10057471264367816\n",
      "added Matching Score::  1.7613636363636365\n",
      "confusion matrix [[2105   35]\n",
      " [ 155 2605]]\n"
     ]
    },
    {
     "name": "stderr",
     "output_type": "stream",
     "text": [
      "\n",
      " 68%|██████▊   | 13/19 [07:09<01:50, 18.40s/it]"
     ]
    },
    {
     "name": "stdout",
     "output_type": "stream",
     "text": [
      "removed Matching Score::  0.10057471264367816\n",
      "added Matching Score::  1.7613636363636365\n",
      "confusion matrix [[2105   35]\n",
      " [ 155 2605]]\n"
     ]
    },
    {
     "name": "stderr",
     "output_type": "stream",
     "text": [
      "\n",
      " 74%|███████▎  | 14/19 [07:20<01:22, 16.41s/it]"
     ]
    },
    {
     "name": "stdout",
     "output_type": "stream",
     "text": [
      "removed Matching Score::  0.10057471264367816\n",
      "added Matching Score::  1.7613636363636365\n",
      "confusion matrix [[2105   35]\n",
      " [ 155 2605]]\n"
     ]
    },
    {
     "name": "stderr",
     "output_type": "stream",
     "text": [
      "\n",
      " 79%|███████▉  | 15/19 [07:31<00:58, 14.64s/it]"
     ]
    },
    {
     "name": "stdout",
     "output_type": "stream",
     "text": [
      "removed Matching Score::  0.10344827586206896\n",
      "added Matching Score::  1.6931818181818181\n",
      "confusion matrix [[2104   36]\n",
      " [ 149 2611]]\n"
     ]
    },
    {
     "name": "stderr",
     "output_type": "stream",
     "text": [
      "\n",
      " 84%|████████▍ | 16/19 [07:42<00:40, 13.55s/it]"
     ]
    },
    {
     "name": "stdout",
     "output_type": "stream",
     "text": [
      "removed Matching Score::  0.10344827586206896\n",
      "added Matching Score::  1.6931818181818181\n",
      "confusion matrix [[2104   36]\n",
      " [ 149 2611]]\n"
     ]
    },
    {
     "name": "stderr",
     "output_type": "stream",
     "text": [
      "\n",
      " 89%|████████▉ | 17/19 [07:52<00:24, 12.43s/it]"
     ]
    },
    {
     "name": "stdout",
     "output_type": "stream",
     "text": [
      "removed Matching Score::  0.10344827586206896\n",
      "added Matching Score::  1.7045454545454546\n",
      "confusion matrix [[2104   36]\n",
      " [ 150 2610]]\n"
     ]
    },
    {
     "name": "stderr",
     "output_type": "stream",
     "text": [
      "\n",
      " 95%|█████████▍| 18/19 [08:01<00:11, 11.51s/it]"
     ]
    },
    {
     "name": "stdout",
     "output_type": "stream",
     "text": [
      "removed Matching Score::  0.10057471264367816\n",
      "added Matching Score::  1.7386363636363635\n",
      "confusion matrix [[2105   35]\n",
      " [ 153 2607]]\n"
     ]
    },
    {
     "name": "stderr",
     "output_type": "stream",
     "text": [
      "\n",
      "100%|██████████| 19/19 [08:11<00:00, 25.86s/it]\n"
     ]
    },
    {
     "data": {
      "image/png": "[encoded data removed]",
      "text/plain": [
       "<Figure size 432x288 with 1 Axes>"
      ]
     },
     "metadata": {
      "needs_background": "light"
     },
     "output_type": "display_data"
    }
   ],
   "source": [
    "add_Edges = []\n",
    "remove_Edges = []\n",
    "accuracy = []\n",
    "x = [i for i in range(1,20)]\n",
    "for b in tqdm(range(1,20)):\n",
    "    acc = batchApproach('../eMCI.txt','../lMCI.txt',batch_size=b)\n",
    "    accuracy.append(acc)\n",
    "plt.plot(x,accuracy)\n",
    "plt.show()"
   ]
  },
  {
   "cell_type": "code",
   "execution_count": null,
   "metadata": {},
   "outputs": [],
   "source": []
  },
  {
   "cell_type": "code",
   "execution_count": 34,
   "metadata": {},
   "outputs": [
    {
     "name": "stderr",
     "output_type": "stream",
     "text": [
      "\n",
      "  0%|          | 0/19 [00:00<?, ?it/s]"
     ]
    },
    {
     "name": "stdout",
     "output_type": "stream",
     "text": [
      "removed Matching Score::  0.34444444444444444\n",
      "added Matching Score::  0.5675675675675675\n",
      "confusion matrix [[2110   62]\n",
      " [  84 2644]]\n"
     ]
    },
    {
     "name": "stderr",
     "output_type": "stream",
     "text": [
      "\n",
      "  5%|▌         | 1/19 [01:29<26:56, 89.79s/it]"
     ]
    },
    {
     "name": "stdout",
     "output_type": "stream",
     "text": [
      "removed Matching Score::  0.3388888888888889\n",
      "added Matching Score::  0.5675675675675675\n",
      "confusion matrix [[2111   61]\n",
      " [  84 2644]]\n"
     ]
    },
    {
     "name": "stderr",
     "output_type": "stream",
     "text": [
      "\n",
      " 11%|█         | 2/19 [02:19<21:59, 77.62s/it]"
     ]
    },
    {
     "name": "stdout",
     "output_type": "stream",
     "text": [
      "removed Matching Score::  0.3333333333333333\n",
      "added Matching Score::  0.5675675675675675\n",
      "confusion matrix [[2112   60]\n",
      " [  84 2644]]\n"
     ]
    },
    {
     "name": "stderr",
     "output_type": "stream",
     "text": [
      "\n",
      " 16%|█▌        | 3/19 [02:56<17:27, 65.49s/it]"
     ]
    },
    {
     "name": "stdout",
     "output_type": "stream",
     "text": [
      "removed Matching Score::  0.3388888888888889\n",
      "added Matching Score::  0.5675675675675675\n",
      "confusion matrix [[2111   61]\n",
      " [  84 2644]]\n"
     ]
    },
    {
     "name": "stderr",
     "output_type": "stream",
     "text": [
      "\n",
      " 21%|██        | 4/19 [03:18<13:09, 52.66s/it]"
     ]
    },
    {
     "name": "stdout",
     "output_type": "stream",
     "text": [
      "removed Matching Score::  0.3388888888888889\n",
      "added Matching Score::  0.5675675675675675\n",
      "confusion matrix [[2111   61]\n",
      " [  84 2644]]\n"
     ]
    },
    {
     "name": "stderr",
     "output_type": "stream",
     "text": [
      "\n",
      " 26%|██▋       | 5/19 [03:42<10:16, 44.04s/it]"
     ]
    },
    {
     "name": "stdout",
     "output_type": "stream",
     "text": [
      "removed Matching Score::  0.3333333333333333\n",
      "added Matching Score::  0.5675675675675675\n",
      "confusion matrix [[2112   60]\n",
      " [  84 2644]]\n"
     ]
    },
    {
     "name": "stderr",
     "output_type": "stream",
     "text": [
      "\n",
      " 32%|███▏      | 6/19 [04:01<07:53, 36.43s/it]"
     ]
    },
    {
     "name": "stdout",
     "output_type": "stream",
     "text": [
      "removed Matching Score::  0.35555555555555557\n",
      "added Matching Score::  0.5675675675675675\n",
      "confusion matrix [[2108   64]\n",
      " [  84 2644]]\n"
     ]
    },
    {
     "name": "stderr",
     "output_type": "stream",
     "text": [
      "\n",
      " 37%|███▋      | 7/19 [04:15<05:56, 29.69s/it]"
     ]
    },
    {
     "name": "stdout",
     "output_type": "stream",
     "text": [
      "removed Matching Score::  0.3388888888888889\n",
      "added Matching Score::  0.5675675675675675\n",
      "confusion matrix [[2111   61]\n",
      " [  84 2644]]\n"
     ]
    },
    {
     "name": "stderr",
     "output_type": "stream",
     "text": [
      "\n",
      " 42%|████▏     | 8/19 [04:28<04:31, 24.71s/it]"
     ]
    },
    {
     "name": "stdout",
     "output_type": "stream",
     "text": [
      "removed Matching Score::  0.34444444444444444\n",
      "added Matching Score::  0.5675675675675675\n",
      "confusion matrix [[2110   62]\n",
      " [  84 2644]]\n"
     ]
    },
    {
     "name": "stderr",
     "output_type": "stream",
     "text": [
      "\n",
      " 47%|████▋     | 9/19 [04:44<03:42, 22.22s/it]"
     ]
    },
    {
     "name": "stdout",
     "output_type": "stream",
     "text": [
      "removed Matching Score::  0.3388888888888889\n",
      "added Matching Score::  0.5675675675675675\n",
      "confusion matrix [[2111   61]\n",
      " [  84 2644]]\n"
     ]
    },
    {
     "name": "stderr",
     "output_type": "stream",
     "text": [
      "\n",
      " 53%|█████▎    | 10/19 [04:57<02:53, 19.32s/it]"
     ]
    },
    {
     "name": "stdout",
     "output_type": "stream",
     "text": [
      "removed Matching Score::  0.3333333333333333\n",
      "added Matching Score::  0.5608108108108109\n",
      "confusion matrix [[2112   60]\n",
      " [  83 2645]]\n"
     ]
    },
    {
     "name": "stderr",
     "output_type": "stream",
     "text": [
      "\n",
      " 58%|█████▊    | 11/19 [05:07<02:11, 16.50s/it]"
     ]
    },
    {
     "name": "stdout",
     "output_type": "stream",
     "text": [
      "removed Matching Score::  0.3388888888888889\n",
      "added Matching Score::  0.5608108108108109\n",
      "confusion matrix [[2111   61]\n",
      " [  83 2645]]\n"
     ]
    },
    {
     "name": "stderr",
     "output_type": "stream",
     "text": [
      "\n",
      " 63%|██████▎   | 12/19 [05:16<01:40, 14.31s/it]"
     ]
    },
    {
     "name": "stdout",
     "output_type": "stream",
     "text": [
      "removed Matching Score::  0.3277777777777778\n",
      "added Matching Score::  0.5675675675675675\n",
      "confusion matrix [[2113   59]\n",
      " [  84 2644]]\n"
     ]
    },
    {
     "name": "stderr",
     "output_type": "stream",
     "text": [
      "\n",
      " 68%|██████▊   | 13/19 [05:25<01:15, 12.52s/it]"
     ]
    },
    {
     "name": "stdout",
     "output_type": "stream",
     "text": [
      "removed Matching Score::  0.3333333333333333\n",
      "added Matching Score::  0.5675675675675675\n",
      "confusion matrix [[2112   60]\n",
      " [  84 2644]]\n"
     ]
    },
    {
     "name": "stderr",
     "output_type": "stream",
     "text": [
      "\n",
      " 74%|███████▎  | 14/19 [05:36<01:01, 12.24s/it]"
     ]
    },
    {
     "name": "stdout",
     "output_type": "stream",
     "text": [
      "removed Matching Score::  0.34444444444444444\n",
      "added Matching Score::  0.5608108108108109\n",
      "confusion matrix [[2110   62]\n",
      " [  83 2645]]\n"
     ]
    },
    {
     "name": "stderr",
     "output_type": "stream",
     "text": [
      "\n",
      " 79%|███████▉  | 15/19 [05:47<00:46, 11.70s/it]"
     ]
    },
    {
     "name": "stdout",
     "output_type": "stream",
     "text": [
      "removed Matching Score::  0.34444444444444444\n",
      "added Matching Score::  0.5608108108108109\n",
      "confusion matrix [[2110   62]\n",
      " [  83 2645]]\n"
     ]
    },
    {
     "name": "stderr",
     "output_type": "stream",
     "text": [
      "\n",
      " 84%|████████▍ | 16/19 [05:56<00:33, 11.15s/it]"
     ]
    },
    {
     "name": "stdout",
     "output_type": "stream",
     "text": [
      "removed Matching Score::  0.34444444444444444\n",
      "added Matching Score::  0.5608108108108109\n",
      "confusion matrix [[2110   62]\n",
      " [  83 2645]]\n"
     ]
    },
    {
     "name": "stderr",
     "output_type": "stream",
     "text": [
      "\n",
      " 89%|████████▉ | 17/19 [06:04<00:20, 10.04s/it]"
     ]
    },
    {
     "name": "stdout",
     "output_type": "stream",
     "text": [
      "removed Matching Score::  0.34444444444444444\n",
      "added Matching Score::  0.5608108108108109\n",
      "confusion matrix [[2110   62]\n",
      " [  83 2645]]\n"
     ]
    },
    {
     "name": "stderr",
     "output_type": "stream",
     "text": [
      "\n",
      " 95%|█████████▍| 18/19 [06:11<00:09,  9.16s/it]"
     ]
    },
    {
     "name": "stdout",
     "output_type": "stream",
     "text": [
      "removed Matching Score::  0.34444444444444444\n",
      "added Matching Score::  0.5608108108108109\n",
      "confusion matrix [[2110   62]\n",
      " [  83 2645]]\n"
     ]
    },
    {
     "name": "stderr",
     "output_type": "stream",
     "text": [
      "\n",
      "100%|██████████| 19/19 [06:17<00:00, 19.89s/it]\n"
     ]
    },
    {
     "data": {
      "image/png": "[encoded data removed]",
      "text/plain": [
       "<Figure size 432x288 with 1 Axes>"
      ]
     },
     "metadata": {
      "needs_background": "light"
     },
     "output_type": "display_data"
    }
   ],
   "source": [
    "add_Edges = []\n",
    "remove_Edges = []\n",
    "accuracy = []\n",
    "x = [i for i in range(1,20)]\n",
    "for b in tqdm(range(1,20)):\n",
    "    acc = batchApproach('../lMCI.txt','../AD.txt',batch_size=b)\n",
    "    accuracy.append(acc)\n",
    "plt.plot(x,accuracy)\n",
    "plt.show()"
   ]
  },
  {
   "cell_type": "code",
   "execution_count": 35,
   "metadata": {},
   "outputs": [
    {
     "name": "stderr",
     "output_type": "stream",
     "text": [
      "\n",
      "  0%|          | 0/19 [00:00<?, ?it/s]"
     ]
    },
    {
     "name": "stdout",
     "output_type": "stream",
     "text": [
      "removed Matching Score::  0.11627906976744186\n",
      "added Matching Score::  1.684782608695652\n",
      "confusion matrix [[2132   40]\n",
      " [ 155 2573]]\n"
     ]
    },
    {
     "name": "stderr",
     "output_type": "stream",
     "text": [
      "\n",
      "  5%|▌         | 1/19 [02:04<37:20, 124.46s/it]"
     ]
    },
    {
     "name": "stdout",
     "output_type": "stream",
     "text": [
      "removed Matching Score::  0.11627906976744186\n",
      "added Matching Score::  1.684782608695652\n",
      "confusion matrix [[2132   40]\n",
      " [ 155 2573]]\n"
     ]
    },
    {
     "name": "stderr",
     "output_type": "stream",
     "text": [
      "\n",
      " 11%|█         | 2/19 [03:09<30:11, 106.56s/it]"
     ]
    },
    {
     "name": "stdout",
     "output_type": "stream",
     "text": [
      "removed Matching Score::  0.11627906976744186\n",
      "added Matching Score::  1.673913043478261\n",
      "confusion matrix [[2132   40]\n",
      " [ 154 2574]]\n"
     ]
    },
    {
     "name": "stderr",
     "output_type": "stream",
     "text": [
      "\n",
      " 16%|█▌        | 3/19 [03:46<22:50, 85.68s/it] "
     ]
    },
    {
     "name": "stdout",
     "output_type": "stream",
     "text": [
      "removed Matching Score::  0.11627906976744186\n",
      "added Matching Score::  1.6630434782608696\n",
      "confusion matrix [[2132   40]\n",
      " [ 153 2575]]\n"
     ]
    },
    {
     "name": "stderr",
     "output_type": "stream",
     "text": [
      "\n",
      " 21%|██        | 4/19 [04:17<17:21, 69.44s/it]"
     ]
    },
    {
     "name": "stdout",
     "output_type": "stream",
     "text": [
      "removed Matching Score::  0.11627906976744186\n",
      "added Matching Score::  1.684782608695652\n",
      "confusion matrix [[2132   40]\n",
      " [ 155 2573]]\n"
     ]
    },
    {
     "name": "stderr",
     "output_type": "stream",
     "text": [
      "\n",
      " 26%|██▋       | 5/19 [04:46<13:21, 57.23s/it]"
     ]
    },
    {
     "name": "stdout",
     "output_type": "stream",
     "text": [
      "removed Matching Score::  0.11627906976744186\n",
      "added Matching Score::  1.684782608695652\n",
      "confusion matrix [[2132   40]\n",
      " [ 155 2573]]\n"
     ]
    },
    {
     "name": "stderr",
     "output_type": "stream",
     "text": [
      "\n",
      " 32%|███▏      | 6/19 [05:07<10:01, 46.30s/it]"
     ]
    },
    {
     "name": "stdout",
     "output_type": "stream",
     "text": [
      "removed Matching Score::  0.11627906976744186\n",
      "added Matching Score::  1.684782608695652\n",
      "confusion matrix [[2132   40]\n",
      " [ 155 2573]]\n"
     ]
    },
    {
     "name": "stderr",
     "output_type": "stream",
     "text": [
      "\n",
      " 37%|███▋      | 7/19 [05:32<08:00, 40.05s/it]"
     ]
    },
    {
     "name": "stdout",
     "output_type": "stream",
     "text": [
      "removed Matching Score::  0.12209302325581395\n",
      "added Matching Score::  1.6521739130434783\n",
      "confusion matrix [[2130   42]\n",
      " [ 152 2576]]\n"
     ]
    },
    {
     "name": "stderr",
     "output_type": "stream",
     "text": [
      "\n",
      " 42%|████▏     | 8/19 [05:49<06:04, 33.16s/it]"
     ]
    },
    {
     "name": "stdout",
     "output_type": "stream",
     "text": [
      "removed Matching Score::  0.11627906976744186\n",
      "added Matching Score::  1.673913043478261\n",
      "confusion matrix [[2132   40]\n",
      " [ 154 2574]]\n"
     ]
    },
    {
     "name": "stderr",
     "output_type": "stream",
     "text": [
      "\n",
      " 47%|████▋     | 9/19 [06:04<04:37, 27.76s/it]"
     ]
    },
    {
     "name": "stdout",
     "output_type": "stream",
     "text": [
      "removed Matching Score::  0.11627906976744186\n",
      "added Matching Score::  1.673913043478261\n",
      "confusion matrix [[2132   40]\n",
      " [ 154 2574]]\n"
     ]
    },
    {
     "name": "stderr",
     "output_type": "stream",
     "text": [
      "\n",
      " 53%|█████▎    | 10/19 [06:24<03:48, 25.39s/it]"
     ]
    },
    {
     "name": "stdout",
     "output_type": "stream",
     "text": [
      "removed Matching Score::  0.11627906976744186\n",
      "added Matching Score::  1.673913043478261\n",
      "confusion matrix [[2132   40]\n",
      " [ 154 2574]]\n"
     ]
    },
    {
     "name": "stderr",
     "output_type": "stream",
     "text": [
      "\n",
      " 58%|█████▊    | 11/19 [06:41<03:01, 22.67s/it]"
     ]
    },
    {
     "name": "stdout",
     "output_type": "stream",
     "text": [
      "removed Matching Score::  0.11627906976744186\n",
      "added Matching Score::  1.6630434782608696\n",
      "confusion matrix [[2132   40]\n",
      " [ 153 2575]]\n"
     ]
    },
    {
     "name": "stderr",
     "output_type": "stream",
     "text": [
      "\n",
      " 63%|██████▎   | 12/19 [06:53<02:16, 19.50s/it]"
     ]
    },
    {
     "name": "stdout",
     "output_type": "stream",
     "text": [
      "removed Matching Score::  0.11627906976744186\n",
      "added Matching Score::  1.6630434782608696\n",
      "confusion matrix [[2132   40]\n",
      " [ 153 2575]]\n"
     ]
    },
    {
     "name": "stderr",
     "output_type": "stream",
     "text": [
      "\n",
      " 68%|██████▊   | 13/19 [07:05<01:43, 17.23s/it]"
     ]
    },
    {
     "name": "stdout",
     "output_type": "stream",
     "text": [
      "removed Matching Score::  0.11627906976744186\n",
      "added Matching Score::  1.684782608695652\n",
      "confusion matrix [[2132   40]\n",
      " [ 155 2573]]\n"
     ]
    },
    {
     "name": "stderr",
     "output_type": "stream",
     "text": [
      "\n",
      " 74%|███████▎  | 14/19 [07:20<01:23, 16.66s/it]"
     ]
    },
    {
     "name": "stdout",
     "output_type": "stream",
     "text": [
      "removed Matching Score::  0.11627906976744186\n",
      "added Matching Score::  1.684782608695652\n",
      "confusion matrix [[2132   40]\n",
      " [ 155 2573]]\n"
     ]
    },
    {
     "name": "stderr",
     "output_type": "stream",
     "text": [
      "\n",
      " 79%|███████▉  | 15/19 [07:35<01:04, 16.14s/it]"
     ]
    },
    {
     "name": "stdout",
     "output_type": "stream",
     "text": [
      "removed Matching Score::  0.11627906976744186\n",
      "added Matching Score::  1.673913043478261\n",
      "confusion matrix [[2132   40]\n",
      " [ 154 2574]]\n"
     ]
    },
    {
     "name": "stderr",
     "output_type": "stream",
     "text": [
      "\n",
      " 84%|████████▍ | 16/19 [07:46<00:43, 14.60s/it]"
     ]
    },
    {
     "name": "stdout",
     "output_type": "stream",
     "text": [
      "removed Matching Score::  0.11627906976744186\n",
      "added Matching Score::  1.6630434782608696\n",
      "confusion matrix [[2132   40]\n",
      " [ 153 2575]]\n"
     ]
    },
    {
     "name": "stderr",
     "output_type": "stream",
     "text": [
      "\n",
      " 89%|████████▉ | 17/19 [07:55<00:26, 13.01s/it]"
     ]
    },
    {
     "name": "stdout",
     "output_type": "stream",
     "text": [
      "removed Matching Score::  0.11918604651162791\n",
      "added Matching Score::  1.641304347826087\n",
      "confusion matrix [[2131   41]\n",
      " [ 151 2577]]\n"
     ]
    },
    {
     "name": "stderr",
     "output_type": "stream",
     "text": [
      "\n",
      " 95%|█████████▍| 18/19 [08:05<00:12, 12.07s/it]"
     ]
    },
    {
     "name": "stdout",
     "output_type": "stream",
     "text": [
      "removed Matching Score::  0.11918604651162791\n",
      "added Matching Score::  1.6521739130434783\n",
      "confusion matrix [[2131   41]\n",
      " [ 152 2576]]\n"
     ]
    },
    {
     "name": "stderr",
     "output_type": "stream",
     "text": [
      "\n",
      "100%|██████████| 19/19 [08:18<00:00, 26.24s/it]\n"
     ]
    },
    {
     "data": {
      "image/png": "[encoded data removed]",
      "text/plain": [
       "<Figure size 432x288 with 1 Axes>"
      ]
     },
     "metadata": {
      "needs_background": "light"
     },
     "output_type": "display_data"
    }
   ],
   "source": [
    "add_Edges = []\n",
    "remove_Edges = []\n",
    "accuracy = []\n",
    "x = [i for i in range(1,20)]\n",
    "for b in tqdm(range(1,20)):\n",
    "    acc = batchApproach('../normal.txt','../AD.txt',batch_size=b)\n",
    "    accuracy.append(acc)\n",
    "plt.plot(x,accuracy)\n",
    "plt.show()"
   ]
  },
  {
   "cell_type": "code",
   "execution_count": null,
   "metadata": {},
   "outputs": [],
   "source": []
  },
  {
   "cell_type": "code",
   "execution_count": null,
   "metadata": {},
   "outputs": [],
   "source": []
  }
 ],
 "metadata": {
  "kernelspec": {
   "display_name": "Python 3",
   "language": "python",
   "name": "python3"
  },
  "language_info": {
   "codemirror_mode": {
    "name": "ipython",
    "version": 3
   },
   "file_extension": ".py",
   "mimetype": "text/x-python",
   "name": "python",
   "nbconvert_exporter": "python",
   "pygments_lexer": "ipython3",
   "version": "3.7.4"
  }
 },
 "nbformat": 4,
 "nbformat_minor": 4
}
