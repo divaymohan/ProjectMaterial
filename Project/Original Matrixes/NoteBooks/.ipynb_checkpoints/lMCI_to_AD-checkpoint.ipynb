{
 "cells": [
  {
   "cell_type": "code",
   "execution_count": 1,
   "metadata": {},
   "outputs": [],
   "source": [
    "import pandas as pd\n",
    "import numpy as np\n",
    "import random\n",
    "import networkx as nx\n",
    "from tqdm import tqdm\n",
    "import re\n",
    "import matplotlib.pyplot as plt\n",
    "from sklearn.linear_model import LogisticRegression\n",
    "from sklearn.metrics import classification_report, roc_auc_score,accuracy_score,precision_score,recall_score\n",
    "from sklearn.model_selection import train_test_split\n",
    "from sklearn.metrics import confusion_matrix\n",
    "from sklearn.ensemble import RandomForestClassifier\n",
    "from sklearn.model_selection import GridSearchCV# Create the parameter grid based on the results of random search "
   ]
  },
  {
   "cell_type": "code",
   "execution_count": 2,
   "metadata": {},
   "outputs": [],
   "source": [
    "def evaluate_model(predictions,actual):\n",
    "    return pd.DataFrame({\n",
    "        \"Measures\":[\"Accuracy\",\"Recall\",\"Precision\"],\n",
    "        \"Score\": [accuracy_score(actual,predictions),precision_score(actual,predictions),recall_score(actual,predictions)]\n",
    "    })\n",
    "\n",
    "def features_importance(columns,classifier):\n",
    "    display(\"Feature importance\")\n",
    "    df = pd.DataFrame({\n",
    "        \"Features\":columns,\n",
    "        \"Importance\":classifier.feature_importances_\n",
    "    })\n",
    "    df = df.sort_values(\"Importance\",ascending=False)\n",
    "    ax = df.plot(kind=\"bar\",x = \"Features\",y=\"Importance\",legend=None)\n",
    "    plt.tight_layout()\n",
    "    plt.show()"
   ]
  },
  {
   "cell_type": "code",
   "execution_count": 3,
   "metadata": {},
   "outputs": [],
   "source": [
    "#utility function to get removed edges\n",
    "def removedEdges(first,second):\n",
    "    removed = 0\n",
    "    for edge in first:\n",
    "        if edge not in second:\n",
    "            removed+=1\n",
    "    return removed\n",
    "#utility function to get added adges\n",
    "def addedEdges(first,second):\n",
    "    added = 0\n",
    "    for edge in second:\n",
    "        if edge not in first:\n",
    "            added+=1\n",
    "    return added"
   ]
  },
  {
   "cell_type": "code",
   "execution_count": 4,
   "metadata": {},
   "outputs": [
    {
     "name": "stdout",
     "output_type": "stream",
     "text": [
      "Number Of Edges:  1510\n",
      "Number Of Nodes:  70\n"
     ]
    }
   ],
   "source": [
    "# Load the adjacency matrix into a numpy array.\n",
    "normal_mat = np.loadtxt('../eMCI.txt', dtype=int)\n",
    "for i in range(0,70):\n",
    "        normal_mat[i][i] = 0\n",
    "G_Normal = nx.from_numpy_matrix(normal_mat)\n",
    "print(\"Number Of Edges: \",len(G_Normal.edges()))\n",
    "print(\"Number Of Nodes: \",len(G_Normal.nodes()))"
   ]
  },
  {
   "cell_type": "code",
   "execution_count": 5,
   "metadata": {},
   "outputs": [
    {
     "name": "stdout",
     "output_type": "stream",
     "text": [
      "Number Of Edges:  1380\n",
      "Number Of Nodes:  70\n"
     ]
    }
   ],
   "source": [
    "# Load the adjacency matrix into a numpy array.\n",
    "eMCI_mat = np.loadtxt('../lMCI.txt', dtype=int)\n",
    "for i in range(0,70):\n",
    "        eMCI_mat[i][i] = 0\n",
    "G_eMCI = nx.from_numpy_matrix(eMCI_mat)\n",
    "print(\"Number Of Edges: \",len(G_eMCI.edges()))\n",
    "print(\"Number Of Nodes: \",len(G_eMCI.nodes()))"
   ]
  },
  {
   "cell_type": "markdown",
   "metadata": {},
   "source": [
    "# Train model based on normal state"
   ]
  },
  {
   "cell_type": "code",
   "execution_count": 6,
   "metadata": {},
   "outputs": [
    {
     "data": {
      "text/html": [
       "<div>\n",
       "<style scoped>\n",
       "    .dataframe tbody tr th:only-of-type {\n",
       "        vertical-align: middle;\n",
       "    }\n",
       "\n",
       "    .dataframe tbody tr th {\n",
       "        vertical-align: top;\n",
       "    }\n",
       "\n",
       "    .dataframe thead th {\n",
       "        text-align: right;\n",
       "    }\n",
       "</style>\n",
       "<table border=\"1\" class=\"dataframe\">\n",
       "  <thead>\n",
       "    <tr style=\"text-align: right;\">\n",
       "      <th></th>\n",
       "      <th>node_1</th>\n",
       "      <th>node_2</th>\n",
       "    </tr>\n",
       "  </thead>\n",
       "  <tbody>\n",
       "    <tr>\n",
       "      <td>0</td>\n",
       "      <td>0</td>\n",
       "      <td>1</td>\n",
       "    </tr>\n",
       "    <tr>\n",
       "      <td>1</td>\n",
       "      <td>0</td>\n",
       "      <td>2</td>\n",
       "    </tr>\n",
       "    <tr>\n",
       "      <td>2</td>\n",
       "      <td>0</td>\n",
       "      <td>4</td>\n",
       "    </tr>\n",
       "    <tr>\n",
       "      <td>3</td>\n",
       "      <td>0</td>\n",
       "      <td>5</td>\n",
       "    </tr>\n",
       "    <tr>\n",
       "      <td>4</td>\n",
       "      <td>0</td>\n",
       "      <td>6</td>\n",
       "    </tr>\n",
       "  </tbody>\n",
       "</table>\n",
       "</div>"
      ],
      "text/plain": [
       "   node_1  node_2\n",
       "0       0       1\n",
       "1       0       2\n",
       "2       0       4\n",
       "3       0       5\n",
       "4       0       6"
      ]
     },
     "execution_count": 6,
     "metadata": {},
     "output_type": "execute_result"
    }
   ],
   "source": [
    "edges = list(G_Normal.edges)\n",
    "node_list_1 = [item[0] for item in edges]\n",
    "node_list_2 = [item[1] for item in edges]\n",
    "# combine all nodes in a list\n",
    "node_list = node_list_1 + node_list_2\n",
    "\n",
    "# remove duplicate items from the list\n",
    "node_list = list(dict.fromkeys(node_list))\n",
    "fb_df = pd.DataFrame({'node_1': node_list_1, 'node_2': node_list_2})\n",
    "\n",
    "fb_df.head()"
   ]
  },
  {
   "cell_type": "code",
   "execution_count": 7,
   "metadata": {},
   "outputs": [
    {
     "name": "stdout",
     "output_type": "stream",
     "text": [
      "Number Of Edges:  1510\n",
      "Number Of Nodes:  68\n"
     ]
    }
   ],
   "source": [
    "G = nx.from_pandas_edgelist(fb_df, \"node_1\", \"node_2\", create_using=nx.Graph())\n",
    "adj_G = nx.to_numpy_matrix(G,nodelist = node_list)\n",
    "adj_G.shape\n",
    "print(\"Number Of Edges: \",len(G.edges()))\n",
    "print(\"Number Of Nodes: \",len(G.nodes()))"
   ]
  },
  {
   "cell_type": "code",
   "execution_count": 8,
   "metadata": {},
   "outputs": [
    {
     "name": "stdout",
     "output_type": "stream",
     "text": [
      "68\n"
     ]
    }
   ],
   "source": [
    "edges = list(G_Normal.edges)\n",
    "node_list_1 = [item[0] for item in edges]\n",
    "node_list_2 = [item[1] for item in edges]\n",
    "# combine all nodes in a list\n",
    "node_list = node_list_1 + node_list_2\n",
    "\n",
    "# remove duplicate items from the list\n",
    "node_list = list(dict.fromkeys(node_list))\n",
    "print(len(node_list))"
   ]
  },
  {
   "cell_type": "code",
   "execution_count": 9,
   "metadata": {},
   "outputs": [],
   "source": [
    "df_train = pd.DataFrame()\n",
    "AA = []\n",
    "PA = []\n",
    "RAI = []\n",
    "JC = []\n",
    "CSH = []\n",
    "RAISH = []\n",
    "WIC = []\n",
    "_node1 = []\n",
    "_node2 = []\n",
    "target = []\n",
    "CN=[]"
   ]
  },
  {
   "cell_type": "code",
   "execution_count": 10,
   "metadata": {},
   "outputs": [],
   "source": [
    "for i in node_list:\n",
    "    for j in node_list:\n",
    "        if i != j:\n",
    "            _node1.append(i)\n",
    "            _node2.append(j)\n",
    "            AA.append(list(nx.adamic_adar_index(G,ebunch=[(i,j)]))[0][2])\n",
    "            RAI.append(list(nx.resource_allocation_index(G,ebunch=[(i,j)]))[0][2])\n",
    "            PA.append(list(nx.preferential_attachment(G,ebunch=[(i,j)]))[0][2])\n",
    "            JC.append(list(nx.jaccard_coefficient(G,ebunch=[(i,j)]))[0][2])\n",
    "            CN.append(len(list(nx.common_neighbors(G, i, j))))\n",
    "            #CNC.append(list(nx.common_neighbor_centrality(G, ebunch=[(i, j)]))[0][2])\n",
    "            if G.has_edge(i,j)==True:\n",
    "                target.append(1)\n",
    "            else:\n",
    "                target.append(0)"
   ]
  },
  {
   "cell_type": "code",
   "execution_count": 11,
   "metadata": {},
   "outputs": [],
   "source": [
    "df_train['node1'] = _node1\n",
    "df_train['node2'] = _node2     \n",
    "df_train['AA'] = AA     \n",
    "df_train['RAI'] = RAI\n",
    "df_train['PA'] = PA\n",
    "df_train['JC'] = JC \n",
    "df_train['CN'] = CN\n",
    "#df_train['CNC'] = CNC \n",
    "df_train['Target'] = target"
   ]
  },
  {
   "cell_type": "code",
   "execution_count": 12,
   "metadata": {},
   "outputs": [
    {
     "data": {
      "text/html": [
       "<div>\n",
       "<style scoped>\n",
       "    .dataframe tbody tr th:only-of-type {\n",
       "        vertical-align: middle;\n",
       "    }\n",
       "\n",
       "    .dataframe tbody tr th {\n",
       "        vertical-align: top;\n",
       "    }\n",
       "\n",
       "    .dataframe thead th {\n",
       "        text-align: right;\n",
       "    }\n",
       "</style>\n",
       "<table border=\"1\" class=\"dataframe\">\n",
       "  <thead>\n",
       "    <tr style=\"text-align: right;\">\n",
       "      <th></th>\n",
       "      <th>node1</th>\n",
       "      <th>node2</th>\n",
       "      <th>AA</th>\n",
       "      <th>RAI</th>\n",
       "      <th>PA</th>\n",
       "      <th>JC</th>\n",
       "      <th>CN</th>\n",
       "      <th>Target</th>\n",
       "    </tr>\n",
       "  </thead>\n",
       "  <tbody>\n",
       "    <tr>\n",
       "      <td>0</td>\n",
       "      <td>0</td>\n",
       "      <td>1</td>\n",
       "      <td>8.884059</td>\n",
       "      <td>0.744865</td>\n",
       "      <td>2142</td>\n",
       "      <td>0.576271</td>\n",
       "      <td>34</td>\n",
       "      <td>1</td>\n",
       "    </tr>\n",
       "    <tr>\n",
       "      <td>1</td>\n",
       "      <td>0</td>\n",
       "      <td>2</td>\n",
       "      <td>8.122853</td>\n",
       "      <td>0.687094</td>\n",
       "      <td>1722</td>\n",
       "      <td>0.596154</td>\n",
       "      <td>31</td>\n",
       "      <td>1</td>\n",
       "    </tr>\n",
       "    <tr>\n",
       "      <td>2</td>\n",
       "      <td>0</td>\n",
       "      <td>4</td>\n",
       "      <td>8.590025</td>\n",
       "      <td>0.712627</td>\n",
       "      <td>1764</td>\n",
       "      <td>0.647059</td>\n",
       "      <td>33</td>\n",
       "      <td>1</td>\n",
       "    </tr>\n",
       "    <tr>\n",
       "      <td>3</td>\n",
       "      <td>0</td>\n",
       "      <td>5</td>\n",
       "      <td>7.074903</td>\n",
       "      <td>0.598503</td>\n",
       "      <td>1218</td>\n",
       "      <td>0.613636</td>\n",
       "      <td>27</td>\n",
       "      <td>1</td>\n",
       "    </tr>\n",
       "    <tr>\n",
       "      <td>4</td>\n",
       "      <td>0</td>\n",
       "      <td>6</td>\n",
       "      <td>10.497492</td>\n",
       "      <td>0.892281</td>\n",
       "      <td>1848</td>\n",
       "      <td>0.869565</td>\n",
       "      <td>40</td>\n",
       "      <td>1</td>\n",
       "    </tr>\n",
       "  </tbody>\n",
       "</table>\n",
       "</div>"
      ],
      "text/plain": [
       "   node1  node2         AA       RAI    PA        JC  CN  Target\n",
       "0      0      1   8.884059  0.744865  2142  0.576271  34       1\n",
       "1      0      2   8.122853  0.687094  1722  0.596154  31       1\n",
       "2      0      4   8.590025  0.712627  1764  0.647059  33       1\n",
       "3      0      5   7.074903  0.598503  1218  0.613636  27       1\n",
       "4      0      6  10.497492  0.892281  1848  0.869565  40       1"
      ]
     },
     "execution_count": 12,
     "metadata": {},
     "output_type": "execute_result"
    }
   ],
   "source": [
    "df_train.head(5)"
   ]
  },
  {
   "cell_type": "code",
   "execution_count": 13,
   "metadata": {},
   "outputs": [],
   "source": [
    "columns = ['AA','RAI','PA','JC','CN']\n",
    "target = 'Target'"
   ]
  },
  {
   "cell_type": "code",
   "execution_count": 14,
   "metadata": {},
   "outputs": [],
   "source": [
    "param_grid = {\n",
    "    'bootstrap': [True],\n",
    "    'max_depth': [1,3,5,6,10],\n",
    "    'max_features': [2, 3, 4],\n",
    "    'min_samples_leaf': [1,2,3],\n",
    "    'min_samples_split': [4,5,6,10],\n",
    "    'n_estimators': [100, 200, 300, 500]\n",
    "}# Create a based model\n",
    "rf = RandomForestClassifier()# Instantiate the grid search model\n",
    "#grid_search = GridSearchCV(estimator = rf, param_grid = param_grid, n_jobs = -1, verbose = 3)"
   ]
  },
  {
   "cell_type": "code",
   "execution_count": 15,
   "metadata": {},
   "outputs": [
    {
     "name": "stderr",
     "output_type": "stream",
     "text": [
      "C:\\Users\\Divay Mohan\\Anaconda3\\lib\\site-packages\\sklearn\\ensemble\\forest.py:245: FutureWarning: The default value of n_estimators will change from 10 in version 0.20 to 100 in 0.22.\n",
      "  \"10 in version 0.20 to 100 in 0.22.\", FutureWarning)\n"
     ]
    },
    {
     "data": {
      "text/plain": [
       "RandomForestClassifier(bootstrap=True, class_weight=None, criterion='gini',\n",
       "                       max_depth=None, max_features='auto', max_leaf_nodes=None,\n",
       "                       min_impurity_decrease=0.0, min_impurity_split=None,\n",
       "                       min_samples_leaf=1, min_samples_split=2,\n",
       "                       min_weight_fraction_leaf=0.0, n_estimators=10,\n",
       "                       n_jobs=None, oob_score=False, random_state=None,\n",
       "                       verbose=0, warm_start=False)"
      ]
     },
     "execution_count": 15,
     "metadata": {},
     "output_type": "execute_result"
    }
   ],
   "source": [
    "rf.fit(df_train[columns], df_train['Target'])\n",
    "#grid_search.best_params_"
   ]
  },
  {
   "cell_type": "markdown",
   "metadata": {},
   "source": [
    "# Test data on lmci state"
   ]
  },
  {
   "cell_type": "code",
   "execution_count": 16,
   "metadata": {},
   "outputs": [
    {
     "data": {
      "text/html": [
       "<div>\n",
       "<style scoped>\n",
       "    .dataframe tbody tr th:only-of-type {\n",
       "        vertical-align: middle;\n",
       "    }\n",
       "\n",
       "    .dataframe tbody tr th {\n",
       "        vertical-align: top;\n",
       "    }\n",
       "\n",
       "    .dataframe thead th {\n",
       "        text-align: right;\n",
       "    }\n",
       "</style>\n",
       "<table border=\"1\" class=\"dataframe\">\n",
       "  <thead>\n",
       "    <tr style=\"text-align: right;\">\n",
       "      <th></th>\n",
       "      <th>node_1</th>\n",
       "      <th>node_2</th>\n",
       "    </tr>\n",
       "  </thead>\n",
       "  <tbody>\n",
       "    <tr>\n",
       "      <td>0</td>\n",
       "      <td>0</td>\n",
       "      <td>1</td>\n",
       "    </tr>\n",
       "    <tr>\n",
       "      <td>1</td>\n",
       "      <td>0</td>\n",
       "      <td>2</td>\n",
       "    </tr>\n",
       "    <tr>\n",
       "      <td>2</td>\n",
       "      <td>0</td>\n",
       "      <td>4</td>\n",
       "    </tr>\n",
       "    <tr>\n",
       "      <td>3</td>\n",
       "      <td>0</td>\n",
       "      <td>5</td>\n",
       "    </tr>\n",
       "    <tr>\n",
       "      <td>4</td>\n",
       "      <td>0</td>\n",
       "      <td>6</td>\n",
       "    </tr>\n",
       "  </tbody>\n",
       "</table>\n",
       "</div>"
      ],
      "text/plain": [
       "   node_1  node_2\n",
       "0       0       1\n",
       "1       0       2\n",
       "2       0       4\n",
       "3       0       5\n",
       "4       0       6"
      ]
     },
     "execution_count": 16,
     "metadata": {},
     "output_type": "execute_result"
    }
   ],
   "source": [
    "edges = list(G_eMCI.edges)\n",
    "node_list_1 = [item[0] for item in edges]\n",
    "node_list_2 = [item[1] for item in edges]\n",
    "# combine all nodes in a list\n",
    "node_list = node_list_1 + node_list_2\n",
    "\n",
    "# remove duplicate items from the list\n",
    "node_list = list(dict.fromkeys(node_list))\n",
    "fb_df = pd.DataFrame({'node_1': node_list_1, 'node_2': node_list_2})\n",
    "\n",
    "fb_df.head()"
   ]
  },
  {
   "cell_type": "code",
   "execution_count": 17,
   "metadata": {},
   "outputs": [
    {
     "name": "stdout",
     "output_type": "stream",
     "text": [
      "Number Of Edges:  1380\n",
      "Number Of Nodes:  68\n"
     ]
    }
   ],
   "source": [
    "G = nx.from_pandas_edgelist(fb_df, \"node_1\", \"node_2\", create_using=nx.Graph())\n",
    "adj_G = nx.to_numpy_matrix(G,nodelist = node_list)\n",
    "adj_G.shape\n",
    "print(\"Number Of Edges: \",len(G.edges()))\n",
    "print(\"Number Of Nodes: \",len(G.nodes()))"
   ]
  },
  {
   "cell_type": "code",
   "execution_count": 18,
   "metadata": {},
   "outputs": [
    {
     "name": "stdout",
     "output_type": "stream",
     "text": [
      "68\n"
     ]
    }
   ],
   "source": [
    "edges = list(G_eMCI.edges)\n",
    "node_list_1 = [item[0] for item in edges]\n",
    "node_list_2 = [item[1] for item in edges]\n",
    "# combine all nodes in a list\n",
    "node_list = node_list_1 + node_list_2\n",
    "\n",
    "# remove duplicate items from the list\n",
    "node_list = list(dict.fromkeys(node_list))\n",
    "print(len(node_list))"
   ]
  },
  {
   "cell_type": "code",
   "execution_count": 19,
   "metadata": {},
   "outputs": [],
   "source": [
    "df_Test = pd.DataFrame()\n",
    "AA = []\n",
    "PA = []\n",
    "RAI = []\n",
    "JC = []\n",
    "CSH = []\n",
    "RAISH = []\n",
    "WIC = []\n",
    "_node1 = []\n",
    "_node2 = []\n",
    "target = []\n",
    "CN=[]"
   ]
  },
  {
   "cell_type": "code",
   "execution_count": 85,
   "metadata": {},
   "outputs": [],
   "source": [
    "for i in node_list:\n",
    "    for j in node_list:\n",
    "        if i != j:\n",
    "            _node1.append(i)\n",
    "            _node2.append(j)\n",
    "            AA.append(list(nx.adamic_adar_index(G,ebunch=[(i,j)]))[0][2])\n",
    "            RAI.append(list(nx.resource_allocation_index(G,ebunch=[(i,j)]))[0][2])\n",
    "            PA.append(list(nx.preferential_attachment(G,ebunch=[(i,j)]))[0][2])\n",
    "            JC.append(list(nx.jaccard_coefficient(G,ebunch=[(i,j)]))[0][2])\n",
    "            CN.append(len(list(nx.common_neighbors(G, i, j))))\n",
    "            #CNC.append(list(nx.common_neighbor_centrality(G, ebunch=[(i, j)]))[0][2])\n",
    "            if G.has_edge(i,j)==True:\n",
    "                target.append(1)\n",
    "            else:\n",
    "                target.append(0)"
   ]
  },
  {
   "cell_type": "code",
   "execution_count": 86,
   "metadata": {},
   "outputs": [],
   "source": [
    "df_Test['node1'] = _node1\n",
    "df_Test['node2'] = _node2     \n",
    "df_Test['AA'] = AA     \n",
    "df_Test['RAI'] = RAI\n",
    "df_Test['PA'] = PA\n",
    "df_Test['JC'] = JC \n",
    "df_Test['CN'] = CN\n",
    "#df_AllNodes['CNC'] = CNC \n",
    "df_Test['Target'] = target"
   ]
  },
  {
   "cell_type": "code",
   "execution_count": 87,
   "metadata": {},
   "outputs": [
    {
     "data": {
      "text/html": [
       "<div>\n",
       "<style scoped>\n",
       "    .dataframe tbody tr th:only-of-type {\n",
       "        vertical-align: middle;\n",
       "    }\n",
       "\n",
       "    .dataframe tbody tr th {\n",
       "        vertical-align: top;\n",
       "    }\n",
       "\n",
       "    .dataframe thead th {\n",
       "        text-align: right;\n",
       "    }\n",
       "</style>\n",
       "<table border=\"1\" class=\"dataframe\">\n",
       "  <thead>\n",
       "    <tr style=\"text-align: right;\">\n",
       "      <th></th>\n",
       "      <th>node1</th>\n",
       "      <th>node2</th>\n",
       "      <th>AA</th>\n",
       "      <th>RAI</th>\n",
       "      <th>PA</th>\n",
       "      <th>JC</th>\n",
       "      <th>CN</th>\n",
       "      <th>Target</th>\n",
       "    </tr>\n",
       "  </thead>\n",
       "  <tbody>\n",
       "    <tr>\n",
       "      <td>0</td>\n",
       "      <td>0</td>\n",
       "      <td>1</td>\n",
       "      <td>8.884059</td>\n",
       "      <td>0.744865</td>\n",
       "      <td>2142</td>\n",
       "      <td>0.576271</td>\n",
       "      <td>34</td>\n",
       "      <td>1</td>\n",
       "    </tr>\n",
       "    <tr>\n",
       "      <td>1</td>\n",
       "      <td>0</td>\n",
       "      <td>2</td>\n",
       "      <td>8.122853</td>\n",
       "      <td>0.687094</td>\n",
       "      <td>1722</td>\n",
       "      <td>0.596154</td>\n",
       "      <td>31</td>\n",
       "      <td>1</td>\n",
       "    </tr>\n",
       "    <tr>\n",
       "      <td>2</td>\n",
       "      <td>0</td>\n",
       "      <td>4</td>\n",
       "      <td>8.590025</td>\n",
       "      <td>0.712627</td>\n",
       "      <td>1764</td>\n",
       "      <td>0.647059</td>\n",
       "      <td>33</td>\n",
       "      <td>1</td>\n",
       "    </tr>\n",
       "    <tr>\n",
       "      <td>3</td>\n",
       "      <td>0</td>\n",
       "      <td>5</td>\n",
       "      <td>7.074903</td>\n",
       "      <td>0.598503</td>\n",
       "      <td>1218</td>\n",
       "      <td>0.613636</td>\n",
       "      <td>27</td>\n",
       "      <td>1</td>\n",
       "    </tr>\n",
       "    <tr>\n",
       "      <td>4</td>\n",
       "      <td>0</td>\n",
       "      <td>6</td>\n",
       "      <td>10.497492</td>\n",
       "      <td>0.892281</td>\n",
       "      <td>1848</td>\n",
       "      <td>0.869565</td>\n",
       "      <td>40</td>\n",
       "      <td>1</td>\n",
       "    </tr>\n",
       "  </tbody>\n",
       "</table>\n",
       "</div>"
      ],
      "text/plain": [
       "   node1  node2         AA       RAI    PA        JC  CN  Target\n",
       "0      0      1   8.884059  0.744865  2142  0.576271  34       1\n",
       "1      0      2   8.122853  0.687094  1722  0.596154  31       1\n",
       "2      0      4   8.590025  0.712627  1764  0.647059  33       1\n",
       "3      0      5   7.074903  0.598503  1218  0.613636  27       1\n",
       "4      0      6  10.497492  0.892281  1848  0.869565  40       1"
      ]
     },
     "execution_count": 87,
     "metadata": {},
     "output_type": "execute_result"
    }
   ],
   "source": [
    "df_Test.head()"
   ]
  },
  {
   "cell_type": "code",
   "execution_count": 90,
   "metadata": {},
   "outputs": [],
   "source": [
    "predictions_test = grid_search.predict(df_Test[columns])\n",
    "predictions_train = grid_search.predict(df_train[columns])\n",
    "actual_test = df_Test['Target']\n",
    "actual_train = df_train['Target']"
   ]
  },
  {
   "cell_type": "code",
   "execution_count": 94,
   "metadata": {},
   "outputs": [
    {
     "name": "stdout",
     "output_type": "stream",
     "text": [
      "    Measures     Score\n",
      "0   Accuracy  0.532046\n",
      "1     Recall  0.613613\n",
      "2  Precision  0.794040\n"
     ]
    },
    {
     "data": {
      "text/plain": [
       "'Feature importance'"
      ]
     },
     "metadata": {},
     "output_type": "display_data"
    },
    {
     "data": {
      "image/png": "[encoded data removed]",
      "text/plain": [
       "<Figure size 432x288 with 1 Axes>"
      ]
     },
     "metadata": {
      "needs_background": "light"
     },
     "output_type": "display_data"
    }
   ],
   "source": [
    "print(evaluate_model(predictions_test,actual_test))\n",
    "features_importance(columns,grid_search.best_estimator_)"
   ]
  },
  {
   "cell_type": "code",
   "execution_count": 95,
   "metadata": {},
   "outputs": [
    {
     "name": "stdout",
     "output_type": "stream",
     "text": [
      "    Measures     Score\n",
      "0   Accuracy  0.512730\n",
      "1     Recall  0.599476\n",
      "2  Precision  0.768456\n"
     ]
    },
    {
     "data": {
      "text/plain": [
       "'Feature importance'"
      ]
     },
     "metadata": {},
     "output_type": "display_data"
    },
    {
     "data": {
      "image/png": "[encoded data removed]",
      "text/plain": [
       "<Figure size 432x288 with 1 Axes>"
      ]
     },
     "metadata": {
      "needs_background": "light"
     },
     "output_type": "display_data"
    }
   ],
   "source": [
    "print(evaluate_model(predictions_train,actual_train))\n",
    "features_importance(columns,grid_search.best_estimator_)"
   ]
  },
  {
   "cell_type": "code",
   "execution_count": 105,
   "metadata": {},
   "outputs": [
    {
     "name": "stdout",
     "output_type": "stream",
     "text": [
      "Confusion matrix test: \n",
      " [[1100  436]\n",
      " [ 296 2724]]\n",
      "Confusion matrix train: \n",
      " [[1140  436]\n",
      " [ 292 2688]]\n"
     ]
    }
   ],
   "source": [
    "print(\"Confusion matrix test: \\n\",confusion_matrix(df_Test['Target'],predictions_test))\n",
    "print(\"Confusion matrix train: \\n\",confusion_matrix(df_train['Target'],predictions_train))"
   ]
  },
  {
   "cell_type": "markdown",
   "metadata": {},
   "source": [
    "## Model on Complement"
   ]
  },
  {
   "cell_type": "code",
   "execution_count": 52,
   "metadata": {},
   "outputs": [
    {
     "name": "stdout",
     "output_type": "stream",
     "text": [
      "Number Of Edges:  925\n",
      "Number Of Nodes:  70\n"
     ]
    }
   ],
   "source": [
    "G_Normal_complement = nx.complement(G_Normal)\n",
    "print(\"Number Of Edges: \",len(G_Normal_complement.edges()))\n",
    "print(\"Number Of Nodes: \",len(G_Normal_complement.nodes()))"
   ]
  },
  {
   "cell_type": "code",
   "execution_count": 53,
   "metadata": {},
   "outputs": [
    {
     "name": "stdout",
     "output_type": "stream",
     "text": [
      "Number of edges:  905\n",
      "Number of nodes:  70\n"
     ]
    }
   ],
   "source": [
    "G_eMCI_Complement = nx.complement(G_eMCI)\n",
    "print(\"Number of edges: \",len(G_eMCI_Complement.edges()))\n",
    "print(\"Number of nodes: \",len(G_eMCI_Complement.nodes()))"
   ]
  },
  {
   "cell_type": "markdown",
   "metadata": {},
   "source": [
    "# Training Model"
   ]
  },
  {
   "cell_type": "code",
   "execution_count": 54,
   "metadata": {},
   "outputs": [
    {
     "data": {
      "text/html": [
       "<div>\n",
       "<style scoped>\n",
       "    .dataframe tbody tr th:only-of-type {\n",
       "        vertical-align: middle;\n",
       "    }\n",
       "\n",
       "    .dataframe tbody tr th {\n",
       "        vertical-align: top;\n",
       "    }\n",
       "\n",
       "    .dataframe thead th {\n",
       "        text-align: right;\n",
       "    }\n",
       "</style>\n",
       "<table border=\"1\" class=\"dataframe\">\n",
       "  <thead>\n",
       "    <tr style=\"text-align: right;\">\n",
       "      <th></th>\n",
       "      <th>node_1</th>\n",
       "      <th>node_2</th>\n",
       "    </tr>\n",
       "  </thead>\n",
       "  <tbody>\n",
       "    <tr>\n",
       "      <td>0</td>\n",
       "      <td>0</td>\n",
       "      <td>3</td>\n",
       "    </tr>\n",
       "    <tr>\n",
       "      <td>1</td>\n",
       "      <td>0</td>\n",
       "      <td>25</td>\n",
       "    </tr>\n",
       "    <tr>\n",
       "      <td>2</td>\n",
       "      <td>0</td>\n",
       "      <td>31</td>\n",
       "    </tr>\n",
       "    <tr>\n",
       "      <td>3</td>\n",
       "      <td>0</td>\n",
       "      <td>35</td>\n",
       "    </tr>\n",
       "    <tr>\n",
       "      <td>4</td>\n",
       "      <td>0</td>\n",
       "      <td>36</td>\n",
       "    </tr>\n",
       "  </tbody>\n",
       "</table>\n",
       "</div>"
      ],
      "text/plain": [
       "   node_1  node_2\n",
       "0       0       3\n",
       "1       0      25\n",
       "2       0      31\n",
       "3       0      35\n",
       "4       0      36"
      ]
     },
     "execution_count": 54,
     "metadata": {},
     "output_type": "execute_result"
    }
   ],
   "source": [
    "edges = list(G_Normal_complement.edges)\n",
    "node_list_1 = [item[0] for item in edges]\n",
    "node_list_2 = [item[1] for item in edges]\n",
    "# combine all nodes in a list\n",
    "node_list = node_list_1 + node_list_2\n",
    "\n",
    "# remove duplicate items from the list\n",
    "node_list = list(dict.fromkeys(node_list))\n",
    "fb_df = pd.DataFrame({'node_1': node_list_1, 'node_2': node_list_2})\n",
    "\n",
    "fb_df.head()"
   ]
  },
  {
   "cell_type": "code",
   "execution_count": 55,
   "metadata": {},
   "outputs": [
    {
     "name": "stdout",
     "output_type": "stream",
     "text": [
      "Number Of Edges:  925\n",
      "Number Of Nodes:  70\n"
     ]
    }
   ],
   "source": [
    "G = nx.from_pandas_edgelist(fb_df, \"node_1\", \"node_2\", create_using=nx.Graph())\n",
    "adj_G = nx.to_numpy_matrix(G,nodelist = node_list)\n",
    "adj_G.shape\n",
    "print(\"Number Of Edges: \",len(G.edges()))\n",
    "print(\"Number Of Nodes: \",len(G.nodes()))"
   ]
  },
  {
   "cell_type": "code",
   "execution_count": 56,
   "metadata": {},
   "outputs": [
    {
     "name": "stdout",
     "output_type": "stream",
     "text": [
      "70\n"
     ]
    }
   ],
   "source": [
    "edges = list(G_Normal_complement.edges)\n",
    "node_list_1 = [item[0] for item in edges]\n",
    "node_list_2 = [item[1] for item in edges]\n",
    "# combine all nodes in a list\n",
    "node_list = node_list_1 + node_list_2\n",
    "\n",
    "# remove duplicate items from the list\n",
    "node_list = list(dict.fromkeys(node_list))\n",
    "print(len(node_list))"
   ]
  },
  {
   "cell_type": "code",
   "execution_count": 57,
   "metadata": {},
   "outputs": [],
   "source": [
    "df_train_complement = pd.DataFrame()\n",
    "AA = []\n",
    "PA = []\n",
    "RAI = []\n",
    "JC = []\n",
    "CSH = []\n",
    "RAISH = []\n",
    "WIC = []\n",
    "_node1 = []\n",
    "_node2 = []\n",
    "target = []\n",
    "CN=[]"
   ]
  },
  {
   "cell_type": "code",
   "execution_count": 58,
   "metadata": {},
   "outputs": [],
   "source": [
    "for i in node_list:\n",
    "    for j in node_list:\n",
    "        if i != j:\n",
    "            _node1.append(i)\n",
    "            _node2.append(j)\n",
    "            AA.append(list(nx.adamic_adar_index(G,ebunch=[(i,j)]))[0][2])\n",
    "            RAI.append(list(nx.resource_allocation_index(G,ebunch=[(i,j)]))[0][2])\n",
    "            PA.append(list(nx.preferential_attachment(G,ebunch=[(i,j)]))[0][2])\n",
    "            JC.append(list(nx.jaccard_coefficient(G,ebunch=[(i,j)]))[0][2])\n",
    "            CN.append(len(list(nx.common_neighbors(G, i, j))))\n",
    "            #CNC.append(list(nx.common_neighbor_centrality(G, ebunch=[(i, j)]))[0][2])\n",
    "            if G.has_edge(i,j)==True:\n",
    "                target.append(1)\n",
    "            else:\n",
    "                target.append(0)"
   ]
  },
  {
   "cell_type": "code",
   "execution_count": 59,
   "metadata": {},
   "outputs": [],
   "source": [
    "df_train_complement['node1'] = _node1\n",
    "df_train_complement['node2'] = _node2     \n",
    "df_train_complement['AA'] = AA     \n",
    "df_train_complement['RAI'] = RAI\n",
    "df_train_complement['PA'] = PA\n",
    "df_train_complement['JC'] = JC \n",
    "df_train_complement['CN'] = CN\n",
    "#df_train['CNC'] = CNC \n",
    "df_train_complement['Target'] = target"
   ]
  },
  {
   "cell_type": "code",
   "execution_count": 60,
   "metadata": {},
   "outputs": [
    {
     "data": {
      "text/html": [
       "<div>\n",
       "<style scoped>\n",
       "    .dataframe tbody tr th:only-of-type {\n",
       "        vertical-align: middle;\n",
       "    }\n",
       "\n",
       "    .dataframe tbody tr th {\n",
       "        vertical-align: top;\n",
       "    }\n",
       "\n",
       "    .dataframe thead th {\n",
       "        text-align: right;\n",
       "    }\n",
       "</style>\n",
       "<table border=\"1\" class=\"dataframe\">\n",
       "  <thead>\n",
       "    <tr style=\"text-align: right;\">\n",
       "      <th></th>\n",
       "      <th>node1</th>\n",
       "      <th>node2</th>\n",
       "      <th>AA</th>\n",
       "      <th>RAI</th>\n",
       "      <th>PA</th>\n",
       "      <th>JC</th>\n",
       "      <th>CN</th>\n",
       "      <th>Target</th>\n",
       "    </tr>\n",
       "  </thead>\n",
       "  <tbody>\n",
       "    <tr>\n",
       "      <td>0</td>\n",
       "      <td>0</td>\n",
       "      <td>1</td>\n",
       "      <td>4.949195</td>\n",
       "      <td>0.560237</td>\n",
       "      <td>640</td>\n",
       "      <td>0.485714</td>\n",
       "      <td>17</td>\n",
       "      <td>0</td>\n",
       "    </tr>\n",
       "    <tr>\n",
       "      <td>1</td>\n",
       "      <td>0</td>\n",
       "      <td>2</td>\n",
       "      <td>4.883344</td>\n",
       "      <td>0.533737</td>\n",
       "      <td>608</td>\n",
       "      <td>0.500000</td>\n",
       "      <td>17</td>\n",
       "      <td>0</td>\n",
       "    </tr>\n",
       "    <tr>\n",
       "      <td>2</td>\n",
       "      <td>0</td>\n",
       "      <td>3</td>\n",
       "      <td>9.412797</td>\n",
       "      <td>1.168655</td>\n",
       "      <td>2208</td>\n",
       "      <td>0.442857</td>\n",
       "      <td>31</td>\n",
       "      <td>1</td>\n",
       "    </tr>\n",
       "    <tr>\n",
       "      <td>3</td>\n",
       "      <td>0</td>\n",
       "      <td>4</td>\n",
       "      <td>7.462221</td>\n",
       "      <td>0.897322</td>\n",
       "      <td>1088</td>\n",
       "      <td>0.609756</td>\n",
       "      <td>25</td>\n",
       "      <td>0</td>\n",
       "    </tr>\n",
       "    <tr>\n",
       "      <td>4</td>\n",
       "      <td>0</td>\n",
       "      <td>5</td>\n",
       "      <td>9.050551</td>\n",
       "      <td>1.111377</td>\n",
       "      <td>1216</td>\n",
       "      <td>0.750000</td>\n",
       "      <td>30</td>\n",
       "      <td>0</td>\n",
       "    </tr>\n",
       "  </tbody>\n",
       "</table>\n",
       "</div>"
      ],
      "text/plain": [
       "   node1  node2        AA       RAI    PA        JC  CN  Target\n",
       "0      0      1  4.949195  0.560237   640  0.485714  17       0\n",
       "1      0      2  4.883344  0.533737   608  0.500000  17       0\n",
       "2      0      3  9.412797  1.168655  2208  0.442857  31       1\n",
       "3      0      4  7.462221  0.897322  1088  0.609756  25       0\n",
       "4      0      5  9.050551  1.111377  1216  0.750000  30       0"
      ]
     },
     "execution_count": 60,
     "metadata": {},
     "output_type": "execute_result"
    }
   ],
   "source": [
    "df_train_complement.head(5)"
   ]
  },
  {
   "cell_type": "code",
   "execution_count": 61,
   "metadata": {},
   "outputs": [
    {
     "data": {
      "text/plain": [
       "['AA', 'RAI', 'PA', 'JC', 'CN']"
      ]
     },
     "execution_count": 61,
     "metadata": {},
     "output_type": "execute_result"
    }
   ],
   "source": [
    "columns"
   ]
  },
  {
   "cell_type": "code",
   "execution_count": 63,
   "metadata": {},
   "outputs": [
    {
     "name": "stderr",
     "output_type": "stream",
     "text": [
      "C:\\Users\\Divay Mohan\\Anaconda3\\lib\\site-packages\\sklearn\\ensemble\\forest.py:245: FutureWarning: The default value of n_estimators will change from 10 in version 0.20 to 100 in 0.22.\n",
      "  \"10 in version 0.20 to 100 in 0.22.\", FutureWarning)\n"
     ]
    },
    {
     "data": {
      "text/plain": [
       "RandomForestClassifier(bootstrap=True, class_weight=None, criterion='gini',\n",
       "                       max_depth=2, max_features='auto', max_leaf_nodes=None,\n",
       "                       min_impurity_decrease=0.0, min_impurity_split=None,\n",
       "                       min_samples_leaf=1, min_samples_split=2,\n",
       "                       min_weight_fraction_leaf=0.0, n_estimators=10,\n",
       "                       n_jobs=None, oob_score=False, random_state=0, verbose=0,\n",
       "                       warm_start=False)"
      ]
     },
     "execution_count": 63,
     "metadata": {},
     "output_type": "execute_result"
    }
   ],
   "source": [
    "rf = RandomForestClassifier(max_depth=2, random_state=0)\n",
    "rf.fit(df_train_complement[columns], df_train_complement['Target'])"
   ]
  },
  {
   "cell_type": "markdown",
   "metadata": {},
   "source": [
    "# Test on next state"
   ]
  },
  {
   "cell_type": "code",
   "execution_count": 64,
   "metadata": {},
   "outputs": [
    {
     "data": {
      "text/html": [
       "<div>\n",
       "<style scoped>\n",
       "    .dataframe tbody tr th:only-of-type {\n",
       "        vertical-align: middle;\n",
       "    }\n",
       "\n",
       "    .dataframe tbody tr th {\n",
       "        vertical-align: top;\n",
       "    }\n",
       "\n",
       "    .dataframe thead th {\n",
       "        text-align: right;\n",
       "    }\n",
       "</style>\n",
       "<table border=\"1\" class=\"dataframe\">\n",
       "  <thead>\n",
       "    <tr style=\"text-align: right;\">\n",
       "      <th></th>\n",
       "      <th>node_1</th>\n",
       "      <th>node_2</th>\n",
       "    </tr>\n",
       "  </thead>\n",
       "  <tbody>\n",
       "    <tr>\n",
       "      <td>0</td>\n",
       "      <td>0</td>\n",
       "      <td>3</td>\n",
       "    </tr>\n",
       "    <tr>\n",
       "      <td>1</td>\n",
       "      <td>0</td>\n",
       "      <td>31</td>\n",
       "    </tr>\n",
       "    <tr>\n",
       "      <td>2</td>\n",
       "      <td>0</td>\n",
       "      <td>35</td>\n",
       "    </tr>\n",
       "    <tr>\n",
       "      <td>3</td>\n",
       "      <td>0</td>\n",
       "      <td>36</td>\n",
       "    </tr>\n",
       "    <tr>\n",
       "      <td>4</td>\n",
       "      <td>0</td>\n",
       "      <td>37</td>\n",
       "    </tr>\n",
       "  </tbody>\n",
       "</table>\n",
       "</div>"
      ],
      "text/plain": [
       "   node_1  node_2\n",
       "0       0       3\n",
       "1       0      31\n",
       "2       0      35\n",
       "3       0      36\n",
       "4       0      37"
      ]
     },
     "execution_count": 64,
     "metadata": {},
     "output_type": "execute_result"
    }
   ],
   "source": [
    "edges = list(G_eMCI_Complement.edges)\n",
    "node_list_1 = [item[0] for item in edges]\n",
    "node_list_2 = [item[1] for item in edges]\n",
    "# combine all nodes in a list\n",
    "node_list = node_list_1 + node_list_2\n",
    "\n",
    "# remove duplicate items from the list\n",
    "node_list = list(dict.fromkeys(node_list))\n",
    "fb_df = pd.DataFrame({'node_1': node_list_1, 'node_2': node_list_2})\n",
    "\n",
    "fb_df.head()"
   ]
  },
  {
   "cell_type": "code",
   "execution_count": 65,
   "metadata": {},
   "outputs": [
    {
     "name": "stdout",
     "output_type": "stream",
     "text": [
      "Number Of Edges:  905\n",
      "Number Of Nodes:  70\n"
     ]
    }
   ],
   "source": [
    "G = nx.from_pandas_edgelist(fb_df, \"node_1\", \"node_2\", create_using=nx.Graph())\n",
    "adj_G = nx.to_numpy_matrix(G,nodelist = node_list)\n",
    "adj_G.shape\n",
    "print(\"Number Of Edges: \",len(G.edges()))\n",
    "print(\"Number Of Nodes: \",len(G.nodes()))"
   ]
  },
  {
   "cell_type": "code",
   "execution_count": 66,
   "metadata": {},
   "outputs": [
    {
     "name": "stdout",
     "output_type": "stream",
     "text": [
      "70\n"
     ]
    }
   ],
   "source": [
    "edges = list(G_eMCI_Complement.edges)\n",
    "node_list_1 = [item[0] for item in edges]\n",
    "node_list_2 = [item[1] for item in edges]\n",
    "# combine all nodes in a list\n",
    "node_list = node_list_1 + node_list_2\n",
    "\n",
    "# remove duplicate items from the list\n",
    "node_list = list(dict.fromkeys(node_list))\n",
    "print(len(node_list))"
   ]
  },
  {
   "cell_type": "code",
   "execution_count": 67,
   "metadata": {},
   "outputs": [],
   "source": [
    "df_Test_Complement = pd.DataFrame()\n",
    "AA = []\n",
    "PA = []\n",
    "RAI = []\n",
    "JC = []\n",
    "CSH = []\n",
    "RAISH = []\n",
    "WIC = []\n",
    "_node1 = []\n",
    "_node2 = []\n",
    "target = []\n",
    "CN=[]"
   ]
  },
  {
   "cell_type": "code",
   "execution_count": 68,
   "metadata": {},
   "outputs": [],
   "source": [
    "for i in node_list:\n",
    "    for j in node_list:\n",
    "        if i != j:\n",
    "            _node1.append(i)\n",
    "            _node2.append(j)\n",
    "            AA.append(list(nx.adamic_adar_index(G,ebunch=[(i,j)]))[0][2])\n",
    "            RAI.append(list(nx.resource_allocation_index(G,ebunch=[(i,j)]))[0][2])\n",
    "            PA.append(list(nx.preferential_attachment(G,ebunch=[(i,j)]))[0][2])\n",
    "            JC.append(list(nx.jaccard_coefficient(G,ebunch=[(i,j)]))[0][2])\n",
    "            CN.append(len(list(nx.common_neighbors(G, i, j))))\n",
    "            #CNC.append(list(nx.common_neighbor_centrality(G, ebunch=[(i, j)]))[0][2])\n",
    "            if G.has_edge(i,j)==True:\n",
    "                target.append(1)\n",
    "            else:\n",
    "                target.append(0)"
   ]
  },
  {
   "cell_type": "code",
   "execution_count": 69,
   "metadata": {},
   "outputs": [],
   "source": [
    "df_Test_Complement['node1'] = _node1\n",
    "df_Test_Complement['node2'] = _node2     \n",
    "df_Test_Complement['AA'] = AA     \n",
    "df_Test_Complement['RAI'] = RAI\n",
    "df_Test_Complement['PA'] = PA\n",
    "df_Test_Complement['JC'] = JC \n",
    "df_Test_Complement['CN'] = CN\n",
    "#df_AllNodes['CNC'] = CNC \n",
    "df_Test_Complement['Target'] = target"
   ]
  },
  {
   "cell_type": "code",
   "execution_count": 70,
   "metadata": {},
   "outputs": [
    {
     "data": {
      "text/html": [
       "<div>\n",
       "<style scoped>\n",
       "    .dataframe tbody tr th:only-of-type {\n",
       "        vertical-align: middle;\n",
       "    }\n",
       "\n",
       "    .dataframe tbody tr th {\n",
       "        vertical-align: top;\n",
       "    }\n",
       "\n",
       "    .dataframe thead th {\n",
       "        text-align: right;\n",
       "    }\n",
       "</style>\n",
       "<table border=\"1\" class=\"dataframe\">\n",
       "  <thead>\n",
       "    <tr style=\"text-align: right;\">\n",
       "      <th></th>\n",
       "      <th>node1</th>\n",
       "      <th>node2</th>\n",
       "      <th>AA</th>\n",
       "      <th>RAI</th>\n",
       "      <th>PA</th>\n",
       "      <th>JC</th>\n",
       "      <th>CN</th>\n",
       "      <th>Target</th>\n",
       "    </tr>\n",
       "  </thead>\n",
       "  <tbody>\n",
       "    <tr>\n",
       "      <td>0</td>\n",
       "      <td>0</td>\n",
       "      <td>1</td>\n",
       "      <td>3.113622</td>\n",
       "      <td>0.329586</td>\n",
       "      <td>486</td>\n",
       "      <td>0.323529</td>\n",
       "      <td>11</td>\n",
       "      <td>0</td>\n",
       "    </tr>\n",
       "    <tr>\n",
       "      <td>1</td>\n",
       "      <td>0</td>\n",
       "      <td>2</td>\n",
       "      <td>5.235749</td>\n",
       "      <td>0.590619</td>\n",
       "      <td>756</td>\n",
       "      <td>0.486486</td>\n",
       "      <td>18</td>\n",
       "      <td>0</td>\n",
       "    </tr>\n",
       "    <tr>\n",
       "      <td>2</td>\n",
       "      <td>0</td>\n",
       "      <td>3</td>\n",
       "      <td>7.929770</td>\n",
       "      <td>0.997615</td>\n",
       "      <td>1863</td>\n",
       "      <td>0.371429</td>\n",
       "      <td>26</td>\n",
       "      <td>1</td>\n",
       "    </tr>\n",
       "    <tr>\n",
       "      <td>3</td>\n",
       "      <td>0</td>\n",
       "      <td>4</td>\n",
       "      <td>5.587729</td>\n",
       "      <td>0.650058</td>\n",
       "      <td>729</td>\n",
       "      <td>0.542857</td>\n",
       "      <td>19</td>\n",
       "      <td>0</td>\n",
       "    </tr>\n",
       "    <tr>\n",
       "      <td>4</td>\n",
       "      <td>0</td>\n",
       "      <td>5</td>\n",
       "      <td>7.879948</td>\n",
       "      <td>0.981805</td>\n",
       "      <td>1080</td>\n",
       "      <td>0.634146</td>\n",
       "      <td>26</td>\n",
       "      <td>0</td>\n",
       "    </tr>\n",
       "  </tbody>\n",
       "</table>\n",
       "</div>"
      ],
      "text/plain": [
       "   node1  node2        AA       RAI    PA        JC  CN  Target\n",
       "0      0      1  3.113622  0.329586   486  0.323529  11       0\n",
       "1      0      2  5.235749  0.590619   756  0.486486  18       0\n",
       "2      0      3  7.929770  0.997615  1863  0.371429  26       1\n",
       "3      0      4  5.587729  0.650058   729  0.542857  19       0\n",
       "4      0      5  7.879948  0.981805  1080  0.634146  26       0"
      ]
     },
     "execution_count": 70,
     "metadata": {},
     "output_type": "execute_result"
    }
   ],
   "source": [
    "df_Test_Complement.head()"
   ]
  },
  {
   "cell_type": "code",
   "execution_count": 72,
   "metadata": {},
   "outputs": [],
   "source": [
    "predictions_test = rf.predict(df_Test_Complement[['AA','RAI','PA','JC','CN']])\n",
    "predictions_train = rf.predict(df_train_complement[['AA','RAI','PA','JC','CN']])\n",
    "actual_test = df_Test_Complement['Target']\n",
    "actual_train = df_train_complement['Target']"
   ]
  },
  {
   "cell_type": "code",
   "execution_count": 73,
   "metadata": {},
   "outputs": [
    {
     "name": "stdout",
     "output_type": "stream",
     "text": [
      "    Measures     Score\n",
      "0   Accuracy  0.819462\n",
      "1     Recall  0.859112\n",
      "2  Precision  0.619890\n"
     ]
    },
    {
     "data": {
      "text/plain": [
       "'Feature importance'"
      ]
     },
     "metadata": {},
     "output_type": "display_data"
    },
    {
     "data": {
      "image/png": "[encoded data removed]",
      "text/plain": [
       "<Figure size 432x288 with 1 Axes>"
      ]
     },
     "metadata": {
      "needs_background": "light"
     },
     "output_type": "display_data"
    }
   ],
   "source": [
    "print(evaluate_model(predictions_test,actual_test))\n",
    "features_importance(columns,rf)"
   ]
  },
  {
   "cell_type": "code",
   "execution_count": 74,
   "metadata": {},
   "outputs": [
    {
     "name": "stdout",
     "output_type": "stream",
     "text": [
      "    Measures     Score\n",
      "0   Accuracy  0.821118\n",
      "1     Recall  0.854676\n",
      "2  Precision  0.642162\n"
     ]
    },
    {
     "data": {
      "text/plain": [
       "'Feature importance'"
      ]
     },
     "metadata": {},
     "output_type": "display_data"
    },
    {
     "data": {
      "image/png": "[encoded data removed]",
      "text/plain": [
       "<Figure size 432x288 with 1 Axes>"
      ]
     },
     "metadata": {
      "needs_background": "light"
     },
     "output_type": "display_data"
    }
   ],
   "source": [
    "print(evaluate_model(predictions_train,actual_train))\n",
    "features_importance(columns,rf)"
   ]
  },
  {
   "cell_type": "code",
   "execution_count": 75,
   "metadata": {},
   "outputs": [
    {
     "name": "stdout",
     "output_type": "stream",
     "text": [
      "Confusion matrix test: \n",
      " [[2836  184]\n",
      " [ 688 1122]]\n",
      "Confusion matrix train: \n",
      " [[2778  202]\n",
      " [ 662 1188]]\n"
     ]
    }
   ],
   "source": [
    "print(\"Confusion matrix test: \\n\",confusion_matrix(df_Test_Complement['Target'],predictions_test))\n",
    "print(\"Confusion matrix train: \\n\",confusion_matrix(df_train_complement['Target'],predictions_train))"
   ]
  },
  {
   "cell_type": "code",
   "execution_count": null,
   "metadata": {},
   "outputs": [],
   "source": []
  }
 ],
 "metadata": {
  "kernelspec": {
   "display_name": "Python 3",
   "language": "python",
   "name": "python3"
  },
  "language_info": {
   "codemirror_mode": {
    "name": "ipython",
    "version": 3
   },
   "file_extension": ".py",
   "mimetype": "text/x-python",
   "name": "python",
   "nbconvert_exporter": "python",
   "pygments_lexer": "ipython3",
   "version": "3.7.4"
  }
 },
 "nbformat": 4,
 "nbformat_minor": 4
}
