{
 "cells": [
  {
   "cell_type": "markdown",
   "metadata": {},
   "source": [
    "# Import Libraries"
   ]
  },
  {
   "cell_type": "code",
   "execution_count": 1,
   "metadata": {},
   "outputs": [],
   "source": [
    "import pandas as pd\n",
    "import numpy as np\n",
    "import random\n",
    "from IPython.display import Image\n",
    "import matplotlib.pyplot as plt\n",
    "import itertools\n",
    "from sklearn.metrics import accuracy_score\n",
    "from sklearn.metrics import roc_curve\n",
    "from sklearn.metrics import roc_auc_score\n",
    "import networkx as nx\n",
    "from networkx.algorithms import community\n",
    "# Node2Vec\n",
    "from node2vec import Node2Vec"
   ]
  },
  {
   "cell_type": "markdown",
   "metadata": {},
   "source": [
    "# Load All Data"
   ]
  },
  {
   "cell_type": "code",
   "execution_count": 2,
   "metadata": {},
   "outputs": [
    {
     "name": "stdout",
     "output_type": "stream",
     "text": [
      "Number Of Edges:  1432\n",
      "Number Of Nodes:  70\n"
     ]
    }
   ],
   "source": [
    "# Load the adjacency matrix into a numpy array.\n",
    "ad_mat = np.loadtxt('AD.txt', dtype=int)\n",
    "G_AD = nx.from_numpy_matrix(ad_mat)\n",
    "print(\"Number Of Edges: \",len(G_AD.edges()))\n",
    "print(\"Number Of Nodes: \",len(G_AD.nodes()))"
   ]
  },
  {
   "cell_type": "code",
   "execution_count": 3,
   "metadata": {},
   "outputs": [],
   "source": [
    "#plt.figure(figsize=(60,60))\n",
    "#nx.draw(G_AD)"
   ]
  },
  {
   "cell_type": "code",
   "execution_count": 4,
   "metadata": {},
   "outputs": [
    {
     "name": "stdout",
     "output_type": "stream",
     "text": [
      "Number Of Edges:  1578\n",
      "Number Of Nodes:  70\n"
     ]
    }
   ],
   "source": [
    "emci_mat = np.loadtxt('eMCI.txt', dtype=int)\n",
    "G_eMCI = nx.from_numpy_matrix(emci_mat)\n",
    "print(\"Number Of Edges: \",len(G_eMCI.edges()))\n",
    "print(\"Number Of Nodes: \",len(G_eMCI.nodes()))"
   ]
  },
  {
   "cell_type": "code",
   "execution_count": 5,
   "metadata": {},
   "outputs": [
    {
     "name": "stdout",
     "output_type": "stream",
     "text": [
      "Number Of Edges:  1448\n",
      "Number Of Nodes:  70\n"
     ]
    }
   ],
   "source": [
    "lmci_mat = np.loadtxt('lMCI.txt', dtype=int)\n",
    "G_lMCI = nx.from_numpy_matrix(lmci_mat)\n",
    "print(\"Number Of Edges: \",len(G_lMCI.edges()))\n",
    "print(\"Number Of Nodes: \",len(G_lMCI.nodes()))"
   ]
  },
  {
   "cell_type": "code",
   "execution_count": 6,
   "metadata": {},
   "outputs": [
    {
     "name": "stdout",
     "output_type": "stream",
     "text": [
      "Number Of Edges:  1558\n",
      "Number Of Nodes:  70\n"
     ]
    }
   ],
   "source": [
    "normal_mat = np.loadtxt('Normal.txt', dtype=int)\n",
    "G_Normal = nx.from_numpy_matrix(normal_mat)\n",
    "print(\"Number Of Edges: \",len(G_Normal.edges()))\n",
    "print(\"Number Of Nodes: \",len(G_Normal.nodes()))"
   ]
  },
  {
   "cell_type": "code",
   "execution_count": 7,
   "metadata": {},
   "outputs": [],
   "source": [
    "#plt.figure(figsize=(60,60))\n",
    "#nx.draw(G_eMCI)"
   ]
  },
  {
   "cell_type": "code",
   "execution_count": 8,
   "metadata": {},
   "outputs": [],
   "source": [
    "#plt.figure(figsize=(60,60))\n",
    "#nx.draw(G_lMCI)"
   ]
  },
  {
   "cell_type": "code",
   "execution_count": 9,
   "metadata": {},
   "outputs": [],
   "source": [
    "#plt.figure(figsize=(60,60))\n",
    "#nx.draw(G_Normal)"
   ]
  },
  {
   "cell_type": "code",
   "execution_count": 10,
   "metadata": {},
   "outputs": [],
   "source": [
    "#utility function to get removed edges\n",
    "def removedEdges(first,second):\n",
    "    removed = 0\n",
    "    for edge in first:\n",
    "        if edge not in second:\n",
    "            removed+=1\n",
    "    return removed\n",
    "#utility function to get added adges\n",
    "def addedEdges(first,second):\n",
    "    added = 0\n",
    "    for edge in second:\n",
    "        if edge not in first:\n",
    "            added+=1\n",
    "    return added"
   ]
  },
  {
   "cell_type": "markdown",
   "metadata": {},
   "source": [
    "# Algorithm to be used"
   ]
  },
  {
   "cell_type": "raw",
   "metadata": {},
   "source": [
    "MaxIndex=70\n",
    "TopRank=-1\n",
    "for i=1 to MaxIndex-1 do\n",
    "    for j=i+1 to MaxIndex do\n",
    "        if Matrix(i,j)==0 then\n",
    "            TempRank= ScoreFunctionMatrix(i,j)\n",
    "            if TempRank>TopRank then\n",
    "                x=i\n",
    "                y=j\n",
    "                TopRank=TempRank\n",
    "             end if\n",
    "        end if\n",
    "     end for\n",
    " end for"
   ]
  },
  {
   "cell_type": "markdown",
   "metadata": {},
   "source": [
    "# Normal To EMCI Analysis"
   ]
  },
  {
   "cell_type": "code",
   "execution_count": 81,
   "metadata": {},
   "outputs": [
    {
     "name": "stdout",
     "output_type": "stream",
     "text": [
      "Number Of Removed Edges:  79\n",
      "Number of new Edges: 99\n"
     ]
    }
   ],
   "source": [
    "print(\"Number Of Removed Edges: \",removedEdges(G_Normal.edges(),G_eMCI.edges()))\n",
    "print(\"Number of new Edges:\",addedEdges(G_Normal.edges(),G_eMCI.edges()))"
   ]
  },
  {
   "cell_type": "code",
   "execution_count": 82,
   "metadata": {},
   "outputs": [
    {
     "name": "stdout",
     "output_type": "stream",
     "text": [
      "[[1 1 1 ... 0 0 0]\n",
      " [1 1 1 ... 0 0 1]\n",
      " [1 1 1 ... 0 0 1]\n",
      " ...\n",
      " [0 0 0 ... 1 1 1]\n",
      " [0 0 0 ... 1 1 1]\n",
      " [0 1 1 ... 1 1 1]]\n"
     ]
    }
   ],
   "source": [
    "print(normal_mat)"
   ]
  },
  {
   "cell_type": "code",
   "execution_count": 83,
   "metadata": {},
   "outputs": [
    {
     "name": "stdout",
     "output_type": "stream",
     "text": [
      "[[1 1 1 ... 0 0 0]\n",
      " [1 1 1 ... 0 0 1]\n",
      " [1 1 1 ... 0 0 0]\n",
      " ...\n",
      " [0 0 0 ... 1 1 1]\n",
      " [0 0 0 ... 1 1 1]\n",
      " [0 1 0 ... 1 1 1]]\n",
      "<class 'numpy.ndarray'>\n"
     ]
    }
   ],
   "source": [
    "print(emci_mat)\n",
    "print(type(emci_mat))\n",
    "ecmi_pred = emci_mat.copy()"
   ]
  },
  {
   "cell_type": "code",
   "execution_count": 84,
   "metadata": {},
   "outputs": [
    {
     "data": {
      "text/plain": [
       "array([[1, 1, 1, ..., 0, 0, 0],\n",
       "       [1, 1, 1, ..., 0, 0, 1],\n",
       "       [1, 1, 1, ..., 0, 0, 0],\n",
       "       ...,\n",
       "       [0, 0, 0, ..., 1, 1, 1],\n",
       "       [0, 0, 0, ..., 1, 1, 1],\n",
       "       [0, 1, 0, ..., 1, 1, 1]])"
      ]
     },
     "execution_count": 84,
     "metadata": {},
     "output_type": "execute_result"
    }
   ],
   "source": [
    "ecmi_pred"
   ]
  },
  {
   "cell_type": "code",
   "execution_count": 85,
   "metadata": {},
   "outputs": [],
   "source": [
    "#prepare the score matrix\n",
    "pred_adamic = list(nx.adamic_adar_index(G_Normal))\n",
    "positive_score_mat = np.zeros((70,70))\n",
    "for item in pred_adamic:\n",
    "    positive_score_mat[item[0]][item[1]] = item[2]\n",
    "\n",
    "G_Normal_complement = nx.complement(G_Normal)\n",
    "pred_adamic = list(nx.adamic_adar_index(G_Normal_complement))\n",
    "negative_score_mat = np.zeros((70,70))\n",
    "for item in pred_adamic:\n",
    "    negative_score_mat[item[0]][item[1]] = item[2]"
   ]
  },
  {
   "cell_type": "code",
   "execution_count": 93,
   "metadata": {},
   "outputs": [
    {
     "name": "stdout",
     "output_type": "stream",
     "text": [
      "99 79\n"
     ]
    }
   ],
   "source": [
    "#calculating A and B \n",
    "# A-> edges to be added\n",
    "# B-> edges to be removed\n",
    "A = addedEdges(G_Normal.edges(),G_eMCI.edges())\n",
    "B = removedEdges(G_Normal.edges(),G_eMCI.edges())\n",
    "print(A,B)"
   ]
  },
  {
   "cell_type": "raw",
   "metadata": {},
   "source": [
    "MaxIndex=70\n",
    "TopRank=-1\n",
    "for i=1 to MaxIndex-1 do\n",
    "    for j=i+1 to MaxIndex do\n",
    "        if Matrix(i,j)==0 then\n",
    "            TempRank= ScoreFunctionMatrix(i,j)\n",
    "            if TempRank>TopRank then\n",
    "                x=i\n",
    "                y=j\n",
    "                TopRank=TempRank\n",
    "             end if\n",
    "        end if\n",
    "     end for\n",
    " end for"
   ]
  },
  {
   "cell_type": "code",
   "execution_count": 94,
   "metadata": {},
   "outputs": [],
   "source": [
    "done = []\n",
    "while(A>0 and B>0):\n",
    "    maxIndex = 70\n",
    "    TopRank=-1\n",
    "    x=0\n",
    "    y=0\n",
    "    for i in range(maxIndex-1):\n",
    "        for j in range(i+1,maxIndex):\n",
    "            if(normal_mat[i][j]==0 and (i,j) not in done):\n",
    "                tempRank = positive_score_mat[i][j]\n",
    "                if(tempRank>TopRank):\n",
    "                    x=i\n",
    "                    y=j\n",
    "                    TopRank = tempRank\n",
    "    #positive_score_mat[x][y] = -positive_score_mat[x][y]\n",
    "    if(positive_score_mat[x][y]>negative_score_mat[x][y]):\n",
    "        #adding link\n",
    "        ecmi_pred[x][y] = 1\n",
    "        A-=1\n",
    "        done.append((x,y))\n",
    "    elif(ecmi_pred[x][y]==1):\n",
    "        #removing edge\n",
    "        ecmi_pred[x][y] = 0\n",
    "        B-=1\n",
    "        done.append((x,y))\n",
    "    else:\n",
    "        done.append((x,y))\n",
    "    \n",
    "        \n",
    "    \n",
    "while(A>0):\n",
    "    maxIndex = 70\n",
    "    TopRank=-1\n",
    "    x=0\n",
    "    y=0\n",
    "    for i in range(maxIndex-1):\n",
    "        for j in range(i+1,maxIndex):\n",
    "            if(normal_mat[i][j]==0 and (i,j) not in done):\n",
    "                tempRank = positive_score_mat[i][j]\n",
    "                if(tempRank>TopRank):\n",
    "                    x=i\n",
    "                    y=j\n",
    "                    TopRank = tempRank\n",
    "    \n",
    "    ecmi_pred[x][y] = 1\n",
    "    A-=1\n",
    "    done.append((x,y))\n",
    "while(B>0):\n",
    "    maxIndex = 70\n",
    "    TopRank=-1\n",
    "    x=0\n",
    "    y=0\n",
    "    for i in range(maxIndex-1):\n",
    "        for j in range(i+1,maxIndex):\n",
    "            if(normal_mat[i][j]==1 and (i,j) not in done):\n",
    "                tempRank = negative_score_mat[i][j]\n",
    "                if(tempRank>TopRank):\n",
    "                    x=i\n",
    "                    y=j\n",
    "                    TopRank = tempRank\n",
    "    \n",
    "    ecmi_pred[x][y] = 0\n",
    "    B-=1\n",
    "    done.append((x,y))\n",
    "    \n",
    "        \n",
    "        \n",
    "            \n",
    "                "
   ]
  },
  {
   "cell_type": "code",
   "execution_count": 95,
   "metadata": {},
   "outputs": [
    {
     "data": {
      "text/plain": [
       "178"
      ]
     },
     "execution_count": 95,
     "metadata": {},
     "output_type": "execute_result"
    }
   ],
   "source": [
    "len(done)"
   ]
  },
  {
   "cell_type": "code",
   "execution_count": 96,
   "metadata": {},
   "outputs": [],
   "source": [
    "diff = np.subtract(emci_mat,ecmi_pred)"
   ]
  },
  {
   "cell_type": "code",
   "execution_count": 97,
   "metadata": {},
   "outputs": [],
   "source": [
    "dist = 0\n",
    "for i in range(70):\n",
    "    for j in range(i,70):\n",
    "        if diff[i][j]!=0:\n",
    "            dist+=1"
   ]
  },
  {
   "cell_type": "code",
   "execution_count": 98,
   "metadata": {},
   "outputs": [
    {
     "data": {
      "text/plain": [
       "152"
      ]
     },
     "execution_count": 98,
     "metadata": {},
     "output_type": "execute_result"
    }
   ],
   "source": [
    "dist"
   ]
  },
  {
   "cell_type": "code",
   "execution_count": 99,
   "metadata": {},
   "outputs": [
    {
     "name": "stdout",
     "output_type": "stream",
     "text": [
      "Matching Score::  0.5730337078651685\n"
     ]
    }
   ],
   "source": [
    "matching  = (356-dist)/356\n",
    "print(\"Matching Score:: \",matching)"
   ]
  },
  {
   "cell_type": "markdown",
   "metadata": {},
   "source": [
    "# EMCI to LMCI"
   ]
  },
  {
   "cell_type": "code",
   "execution_count": 12,
   "metadata": {},
   "outputs": [
    {
     "name": "stdout",
     "output_type": "stream",
     "text": [
      "Number Of Removed Edges:  174\n",
      "Number of new Edges: 44\n"
     ]
    }
   ],
   "source": [
    "print(\"Number Of Removed Edges: \",removedEdges(G_eMCI.edges(),G_lMCI.edges()))\n",
    "print(\"Number of new Edges:\",addedEdges(G_eMCI.edges(),G_lMCI.edges()))"
   ]
  },
  {
   "cell_type": "markdown",
   "metadata": {},
   "source": [
    "# LMCI to AD"
   ]
  },
  {
   "cell_type": "code",
   "execution_count": 13,
   "metadata": {},
   "outputs": [
    {
     "name": "stdout",
     "output_type": "stream",
     "text": [
      "Number Of Removed Edges:  90\n",
      "Number of new Edges: 74\n"
     ]
    }
   ],
   "source": [
    "print(\"Number Of Removed Edges: \",removedEdges(G_lMCI.edges(),G_AD.edges()))\n",
    "print(\"Number of new Edges:\",addedEdges(G_lMCI.edges(),G_AD.edges()))"
   ]
  },
  {
   "cell_type": "markdown",
   "metadata": {},
   "source": [
    "# Normal to AD"
   ]
  },
  {
   "cell_type": "code",
   "execution_count": 14,
   "metadata": {},
   "outputs": [
    {
     "name": "stdout",
     "output_type": "stream",
     "text": [
      "Number Of Removed Edges:  172\n",
      "Number of new Edges: 46\n"
     ]
    }
   ],
   "source": [
    "print(\"Number Of Removed Edges: \",removedEdges(G_Normal.edges(),G_AD.edges()))\n",
    "print(\"Number of new Edges:\",addedEdges(G_Normal.edges(),G_AD.edges()))"
   ]
  },
  {
   "cell_type": "code",
   "execution_count": 15,
   "metadata": {},
   "outputs": [
    {
     "data": {
      "text/plain": [
       "857.0"
      ]
     },
     "execution_count": 15,
     "metadata": {},
     "output_type": "execute_result"
    }
   ],
   "source": [
    "n = G_Normal.number_of_nodes()\n",
    "m = G_Normal.number_of_edges()\n",
    "nb_non_exist = (n * (n-1) / 2) - m\n",
    "nb_non_exist"
   ]
  },
  {
   "cell_type": "code",
   "execution_count": 16,
   "metadata": {},
   "outputs": [],
   "source": [
    "edges_n = G_Normal.edges()"
   ]
  },
  {
   "cell_type": "code",
   "execution_count": 17,
   "metadata": {},
   "outputs": [],
   "source": [
    "pred_jaccard = list(nx.jaccard_coefficient(G_Normal))\n",
    "#score_jaccard, label_jaccard = zip(*[(s, (u,v) in edge_subset) for (u,v,s) in pred_jaccard])"
   ]
  },
  {
   "cell_type": "code",
   "execution_count": 18,
   "metadata": {},
   "outputs": [],
   "source": [
    "#pred_jaccard"
   ]
  },
  {
   "cell_type": "code",
   "execution_count": 19,
   "metadata": {},
   "outputs": [],
   "source": [
    "edges = G_AD.edges()"
   ]
  },
  {
   "cell_type": "code",
   "execution_count": 20,
   "metadata": {},
   "outputs": [],
   "source": [
    "score_jaccard, label_jaccard = zip(*[(s, (u,v) in edges) for (u,v,s) in pred_jaccard])"
   ]
  },
  {
   "cell_type": "code",
   "execution_count": 21,
   "metadata": {},
   "outputs": [
    {
     "name": "stdout",
     "output_type": "stream",
     "text": [
      "(0.0, False)\n",
      "(0.5087719298245614, True)\n",
      "(0.42857142857142855, False)\n",
      "(0.16666666666666666, False)\n",
      "(0.34375, True)\n",
      "(0.30303030303030304, False)\n",
      "(0.0, False)\n",
      "(0.41818181818181815, False)\n",
      "(0.08620689655172414, False)\n",
      "(0.25757575757575757, False)\n",
      "(0.3230769230769231, False)\n",
      "(0.23880597014925373, False)\n",
      "(0.2857142857142857, False)\n",
      "(0.26865671641791045, False)\n",
      "(0.23076923076923078, False)\n",
      "(0.24242424242424243, False)\n",
      "(0.25396825396825395, False)\n",
      "(0.2153846153846154, False)\n",
      "(0.125, False)\n",
      "(0.27692307692307694, False)\n",
      "(0.3387096774193548, False)\n",
      "(0.3333333333333333, True)\n",
      "(0.373134328358209, False)\n",
      "(0.30158730158730157, False)\n",
      "(0.2727272727272727, False)\n",
      "(0.3382352941176471, False)\n",
      "(0.15151515151515152, False)\n",
      "(0.2727272727272727, False)\n",
      "(0.16666666666666666, False)\n",
      "(0.07936507936507936, False)\n",
      "(0.09523809523809523, False)\n",
      "(0.2835820895522388, False)\n",
      "(0.0, False)\n",
      "(0.5769230769230769, False)\n",
      "(0.5, False)\n",
      "(0.3484848484848485, False)\n",
      "(0.0, False)\n",
      "(0.171875, False)\n",
      "(0.4393939393939394, False)\n",
      "(0.48484848484848486, False)\n",
      "(0.4393939393939394, False)\n",
      "(0.4307692307692308, False)\n",
      "(0.42424242424242425, False)\n",
      "(0.3787878787878788, False)\n",
      "(0.3333333333333333, False)\n",
      "(0.46153846153846156, False)\n",
      "(0.5151515151515151, False)\n",
      "(0.5606060606060606, False)\n",
      "(0.3333333333333333, False)\n",
      "(0.45454545454545453, False)\n",
      "(0.21212121212121213, False)\n",
      "(0.24615384615384617, False)\n",
      "(0.0, False)\n",
      "(0.5192307692307693, True)\n",
      "(0.36363636363636365, False)\n",
      "(0.0, False)\n",
      "(0.46774193548387094, False)\n",
      "(0.20634920634920634, False)\n",
      "(0.43283582089552236, False)\n",
      "(0.5, False)\n",
      "(0.43283582089552236, False)\n",
      "(0.4461538461538462, False)\n",
      "(0.5692307692307692, False)\n",
      "(0.417910447761194, False)\n",
      "(0.3709677419354839, False)\n",
      "(0.47692307692307695, False)\n",
      "(0.5, False)\n",
      "(0.3283582089552239, False)\n",
      "(0.4067796610169492, False)\n",
      "(0.22727272727272727, False)\n",
      "(0.26153846153846155, False)\n",
      "(0.0, False)\n",
      "(0.0, False)\n",
      "(0.0, False)\n",
      "(0.0, False)\n",
      "(0.0, False)\n",
      "(0.0, False)\n",
      "(0.0, False)\n",
      "(0.0, False)\n",
      "(0.0, False)\n",
      "(0.0, False)\n",
      "(0.0, False)\n",
      "(0.0, False)\n",
      "(0.0, False)\n",
      "(0.0, False)\n",
      "(0.0, False)\n",
      "(0.0, False)\n",
      "(0.0, False)\n",
      "(0.0, False)\n",
      "(0.0, False)\n",
      "(0.0, False)\n",
      "(0.0, False)\n",
      "(0.0, False)\n",
      "(0.0, False)\n",
      "(0.0, False)\n",
      "(0.0, False)\n",
      "(0.0, False)\n",
      "(0.0, False)\n",
      "(0.0, False)\n",
      "(0.0, False)\n",
      "(0.0, False)\n",
      "(0.0, False)\n",
      "(0.0, False)\n",
      "(0.0, False)\n",
      "(0.0, False)\n",
      "(0, False)\n",
      "(0.0, False)\n",
      "(0.0, False)\n",
      "(0.0, False)\n",
      "(0.0, False)\n",
      "(0.0, False)\n",
      "(0.0, False)\n",
      "(0.0, False)\n",
      "(0.0, False)\n",
      "(0.0, False)\n",
      "(0.0, False)\n",
      "(0.0, False)\n",
      "(0.0, False)\n",
      "(0.0, False)\n",
      "(0.0, False)\n",
      "(0.0, False)\n",
      "(0.0, False)\n",
      "(0.0, False)\n",
      "(0.0, False)\n",
      "(0.0, False)\n",
      "(0.0, False)\n",
      "(0.0, False)\n",
      "(0.0, False)\n",
      "(0.0, False)\n",
      "(0.0, False)\n",
      "(0.0, False)\n",
      "(0.0, False)\n",
      "(0.0, False)\n",
      "(0.0, False)\n",
      "(0.0, False)\n",
      "(0.0, False)\n",
      "(0.0, False)\n",
      "(0.4782608695652174, False)\n",
      "(0.38596491228070173, False)\n",
      "(0.4406779661016949, False)\n",
      "(0.3584905660377358, False)\n",
      "(0.41818181818181815, False)\n",
      "(0.3770491803278688, False)\n",
      "(0.39655172413793105, True)\n",
      "(0.25925925925925924, False)\n",
      "(0.45454545454545453, True)\n",
      "(0.5581395348837209, True)\n",
      "(0.29310344827586204, False)\n",
      "(0.3548387096774194, False)\n",
      "(0.3333333333333333, False)\n",
      "(0.0, False)\n",
      "(0.19607843137254902, False)\n",
      "(0.27692307692307694, False)\n",
      "(0.23809523809523808, False)\n",
      "(0.3793103448275862, False)\n",
      "(0.4, False)\n",
      "(0.543859649122807, True)\n",
      "(0.26229508196721313, False)\n",
      "(0.1111111111111111, False)\n",
      "(0.265625, False)\n",
      "(0.47540983606557374, False)\n",
      "(0.2698412698412698, False)\n",
      "(0.28125, False)\n",
      "(0.36923076923076925, False)\n",
      "(0.27586206896551724, False)\n",
      "(0.41379310344827586, False)\n",
      "(0.11475409836065574, False)\n",
      "(0.17857142857142858, False)\n",
      "(0.21818181818181817, False)\n",
      "(0.3770491803278688, False)\n",
      "(0.6444444444444445, False)\n",
      "(0.109375, False)\n",
      "(0.2698412698412698, False)\n",
      "(0.23076923076923078, False)\n",
      "(0.0, False)\n",
      "(0.2857142857142857, False)\n",
      "(0.017857142857142856, False)\n",
      "(0.18461538461538463, False)\n",
      "(0.23076923076923078, False)\n",
      "(0.16666666666666666, False)\n",
      "(0.359375, False)\n",
      "(0.19047619047619047, False)\n",
      "(0.19696969696969696, False)\n",
      "(0.27692307692307694, False)\n",
      "(0.1746031746031746, False)\n",
      "(0.16923076923076924, False)\n",
      "(0.15873015873015872, False)\n",
      "(0.2923076923076923, False)\n",
      "(0.140625, False)\n",
      "(0.13793103448275862, False)\n",
      "(0.203125, False)\n",
      "(0.24193548387096775, False)\n",
      "(0.24242424242424243, False)\n",
      "(0.36363636363636365, False)\n",
      "(0.30303030303030304, False)\n",
      "(0.22580645161290322, False)\n",
      "(0.2, False)\n",
      "(0.26865671641791045, False)\n",
      "(0.3076923076923077, False)\n",
      "(0.07692307692307693, False)\n",
      "(0.2, False)\n",
      "(0.14285714285714285, False)\n",
      "(0.03333333333333333, False)\n",
      "(0.016129032258064516, False)\n",
      "(0.21212121212121213, False)\n",
      "(0.2835820895522388, False)\n",
      "(0.46153846153846156, False)\n",
      "(0.417910447761194, False)\n",
      "(0.0, False)\n",
      "(0.18032786885245902, False)\n",
      "(0.38461538461538464, False)\n",
      "(0.38235294117647056, False)\n",
      "(0.3484848484848485, False)\n",
      "(0.3382352941176471, False)\n",
      "(0.35384615384615387, False)\n",
      "(0.31343283582089554, False)\n",
      "(0.22727272727272727, False)\n",
      "(0.4264705882352941, False)\n",
      "(0.4, False)\n",
      "(0.3880597014925373, False)\n",
      "(0.47058823529411764, False)\n",
      "(0.25, False)\n",
      "(0.36764705882352944, False)\n",
      "(0.25396825396825395, False)\n",
      "(0.18461538461538463, False)\n",
      "(0.2, False)\n",
      "(0.39705882352941174, False)\n",
      "(0.45614035087719296, False)\n",
      "(0.3620689655172414, False)\n",
      "(0.3230769230769231, True)\n",
      "(0.484375, True)\n",
      "(0.4393939393939394, False)\n",
      "(0.0, False)\n",
      "(0.22033898305084745, False)\n",
      "(0.4153846153846154, False)\n",
      "(0.3939393939393939, False)\n",
      "(0.38235294117647056, False)\n",
      "(0.3484848484848485, False)\n",
      "(0.3968253968253968, False)\n",
      "(0.35384615384615387, False)\n",
      "(0.208955223880597, False)\n",
      "(0.3787878787878788, False)\n",
      "(0.3880597014925373, False)\n",
      "(0.47058823529411764, False)\n",
      "(0.2878787878787879, False)\n",
      "(0.4090909090909091, True)\n",
      "(0.234375, False)\n",
      "(0.2222222222222222, False)\n",
      "(0.23809523809523808, False)\n",
      "(0.23880597014925373, False)\n",
      "(0.4153846153846154, False)\n",
      "(0.373134328358209, False)\n",
      "(0.0, False)\n",
      "(0.15, False)\n",
      "(0.3384615384615385, False)\n",
      "(0.3382352941176471, False)\n",
      "(0.30303030303030304, False)\n",
      "(0.29411764705882354, False)\n",
      "(0.3076923076923077, False)\n",
      "(0.43283582089552236, False)\n",
      "(0.26865671641791045, False)\n",
      "(0.2, False)\n",
      "(0.3088235294117647, False)\n",
      "(0.38235294117647056, False)\n",
      "(0.5454545454545454, False)\n",
      "(0.4411764705882353, False)\n",
      "(0.35384615384615387, False)\n",
      "(0.34328358208955223, False)\n",
      "(0.4264705882352941, False)\n",
      "(0.20588235294117646, False)\n",
      "(0.20634920634920634, False)\n",
      "(0.15625, False)\n",
      "(0.15384615384615385, False)\n",
      "(0.35294117647058826, False)\n",
      "(0.3484848484848485, False)\n",
      "(0.3181818181818182, False)\n",
      "(0.375, False)\n",
      "(0.0, False)\n",
      "(0.3225806451612903, True)\n",
      "(0.5294117647058824, False)\n",
      "(0.5, False)\n",
      "(0.48484848484848486, False)\n",
      "(0.3582089552238806, False)\n",
      "(0.5223880597014925, False)\n",
      "(0.5373134328358209, False)\n",
      "(0.4126984126984127, False)\n",
      "(0.42857142857142855, False)\n",
      "(0.4603174603174603, False)\n",
      "(0.35714285714285715, False)\n",
      "(0.27692307692307694, False)\n",
      "(0.4375, False)\n",
      "(0.3939393939393939, False)\n",
      "(0.0, False)\n",
      "(0.1896551724137931, False)\n",
      "(0.36923076923076925, False)\n",
      "(0.3484848484848485, False)\n",
      "(0.3382352941176471, False)\n",
      "(0.30303030303030304, False)\n",
      "(0.3709677419354839, False)\n",
      "(0.3076923076923077, False)\n",
      "(0.16417910447761194, False)\n",
      "(0.3283582089552239, False)\n",
      "(0.3333333333333333, False)\n",
      "(0.34328358208955223, False)\n",
      "(0.4264705882352941, False)\n",
      "(0.26153846153846155, False)\n",
      "(0.38461538461538464, False)\n",
      "(0.1875, False)\n",
      "(0.1746031746031746, False)\n",
      "(0.20967741935483872, False)\n",
      "(0.3939393939393939, False)\n",
      "(0.4426229508196721, False)\n",
      "(0.24242424242424243, False)\n",
      "(0.0, False)\n",
      "(0.25757575757575757, False)\n",
      "(0.07936507936507936, False)\n",
      "(0.29411764705882354, False)\n",
      "(0.3382352941176471, False)\n",
      "(0.29411764705882354, False)\n",
      "(0.4411764705882353, False)\n",
      "(0.2647058823529412, False)\n",
      "(0.38235294117647056, False)\n",
      "(0.29850746268656714, False)\n",
      "(0.2537313432835821, False)\n",
      "(0.417910447761194, False)\n",
      "(0.29411764705882354, False)\n",
      "(0.36764705882352944, False)\n",
      "(0.5303030303030303, False)\n",
      "(0.44776119402985076, False)\n",
      "(0.4411764705882353, False)\n",
      "(0.4117647058823529, False)\n",
      "(0.22727272727272727, False)\n",
      "(0.3484848484848485, False)\n",
      "(0.140625, False)\n",
      "(0.13846153846153847, False)\n",
      "(0.3787878787878788, False)\n",
      "(0.25757575757575757, False)\n",
      "(0.3064516129032258, False)\n",
      "(0.5, False)\n",
      "(0.5, False)\n",
      "(0.0, False)\n",
      "(0.3225806451612903, False)\n",
      "(0.3103448275862069, False)\n",
      "(0.4411764705882353, False)\n",
      "(0.4090909090909091, False)\n"
     ]
    },
    {
     "name": "stdout",
     "output_type": "stream",
     "text": [
      "(0.38095238095238093, False)\n",
      "(0.453125, True)\n",
      "(0.4375, False)\n",
      "(0.26865671641791045, False)\n",
      "(0.43283582089552236, False)\n",
      "(0.417910447761194, False)\n",
      "(0.44776119402985076, False)\n",
      "(0.5294117647058824, False)\n",
      "(0.31746031746031744, False)\n",
      "(0.31343283582089554, False)\n",
      "(0.0, False)\n",
      "(0.3484848484848485, False)\n",
      "(0.13846153846153847, False)\n",
      "(0.4264705882352941, False)\n",
      "(0.5294117647058824, False)\n",
      "(0.35294117647058826, False)\n",
      "(0.47058823529411764, False)\n",
      "(0.3880597014925373, False)\n",
      "(0.34328358208955223, False)\n",
      "(0.5074626865671642, False)\n",
      "(0.38235294117647056, False)\n",
      "(0.45588235294117646, False)\n",
      "(0.5294117647058824, False)\n",
      "(0.5, False)\n",
      "(0.29850746268656714, False)\n",
      "(0.417910447761194, False)\n",
      "(0.19696969696969696, False)\n",
      "(0.21212121212121213, False)\n",
      "(0.16417910447761194, False)\n",
      "(0.359375, False)\n",
      "(0.3181818181818182, False)\n",
      "(0.0, False)\n",
      "(0.38596491228070173, False)\n",
      "(0.0847457627118644, False)\n",
      "(0.2537313432835821, False)\n",
      "(0.29850746268656714, False)\n",
      "(0.23529411764705882, False)\n",
      "(0.26153846153846155, False)\n",
      "(0.2835820895522388, False)\n",
      "(0.24615384615384617, False)\n",
      "(0.22058823529411764, False)\n",
      "(0.23076923076923078, False)\n",
      "(0.21212121212121213, False)\n",
      "(0.140625, False)\n",
      "(0.2727272727272727, False)\n",
      "(0.3125, False)\n",
      "(0.3088235294117647, False)\n",
      "(0.4696969696969697, True)\n",
      "(0.36764705882352944, False)\n",
      "(0.31746031746031744, False)\n",
      "(0.2878787878787879, False)\n",
      "(0.35294117647058826, False)\n",
      "(0.1323529411764706, False)\n",
      "(0.25, False)\n",
      "(0.18333333333333332, False)\n",
      "(0.09523809523809523, False)\n",
      "(0.07692307692307693, False)\n",
      "(0.27941176470588236, False)\n",
      "(0.5172413793103449, True)\n",
      "(0.1791044776119403, False)\n",
      "(0.35384615384615387, False)\n",
      "(0.31343283582089554, False)\n",
      "(0.0, False)\n",
      "(0.08333333333333333, True)\n",
      "(0.26865671641791045, False)\n",
      "(0.3333333333333333, False)\n",
      "(0.25, False)\n",
      "(0.296875, False)\n",
      "(0.27941176470588236, False)\n",
      "(0.24242424242424243, False)\n",
      "(0.2537313432835821, False)\n",
      "(0.3939393939393939, False)\n",
      "(0.208955223880597, False)\n",
      "(0.15625, False)\n",
      "(0.26865671641791045, False)\n",
      "(0.3492063492063492, False)\n",
      "(0.34328358208955223, True)\n",
      "(0.38235294117647056, True)\n",
      "(0.2923076923076923, False)\n",
      "(0.2835820895522388, False)\n",
      "(0.36764705882352944, False)\n",
      "(0.16417910447761194, False)\n",
      "(0.2835820895522388, True)\n",
      "(0.16129032258064516, False)\n",
      "(0.07692307692307693, False)\n",
      "(0.109375, False)\n",
      "(0.29411764705882354, True)\n",
      "(0.35294117647058826, False)\n",
      "(0.3230769230769231, False)\n",
      "(0.3880597014925373, False)\n",
      "(0.2537313432835821, False)\n",
      "(0.3076923076923077, False)\n",
      "(0.0, False)\n",
      "(0.27419354838709675, False)\n",
      "(0.45588235294117646, False)\n",
      "(0.4852941176470588, False)\n",
      "(0.45454545454545453, False)\n",
      "(0.417910447761194, False)\n",
      "(0.31343283582089554, False)\n",
      "(0.45588235294117646, False)\n",
      "(0.4626865671641791, False)\n",
      "(0.4925373134328358, False)\n",
      "(0.5909090909090909, False)\n",
      "(0.22727272727272727, False)\n",
      "(0.0, False)\n",
      "(0.3442622950819672, False)\n",
      "(0.06349206349206349, False)\n",
      "(0.3181818181818182, False)\n",
      "(0.36363636363636365, False)\n",
      "(0.3181818181818182, False)\n",
      "(0.49230769230769234, False)\n",
      "(0.3076923076923077, False)\n",
      "(0.4307692307692308, False)\n",
      "(0.30303030303030304, False)\n",
      "(0.4461538461538462, False)\n",
      "(0.296875, False)\n",
      "(0.3103448275862069, False)\n",
      "(0.359375, False)\n",
      "(0.359375, False)\n",
      "(0.3939393939393939, False)\n",
      "(0.45454545454545453, False)\n",
      "(0.4696969696969697, False)\n",
      "(0.4393939393939394, False)\n",
      "(0.21212121212121213, False)\n",
      "(0.3333333333333333, False)\n",
      "(0.125, False)\n",
      "(0.12307692307692308, False)\n",
      "(0.36363636363636365, False)\n",
      "(0.3728813559322034, False)\n",
      "(0.5238095238095238, False)\n",
      "(0.5581395348837209, False)\n",
      "(0.20967741935483872, False)\n",
      "(0.423728813559322, False)\n",
      "(0.0, False)\n",
      "(0.22580645161290322, False)\n",
      "(0.05172413793103448, False)\n",
      "(0.265625, False)\n",
      "(0.2727272727272727, False)\n",
      "(0.265625, False)\n",
      "(0.3787878787878788, False)\n",
      "(0.19696969696969696, False)\n",
      "(0.3181818181818182, False)\n",
      "(0.23076923076923078, False)\n",
      "(0.2222222222222222, False)\n",
      "(0.35384615384615387, False)\n",
      "(0.3050847457627119, False)\n",
      "(0.22727272727272727, False)\n",
      "(0.30303030303030304, False)\n",
      "(0.46875, False)\n",
      "(0.38461538461538464, False)\n",
      "(0.3582089552238806, False)\n",
      "(0.3484848484848485, False)\n",
      "(0.1935483870967742, False)\n",
      "(0.3225806451612903, False)\n",
      "(0.15789473684210525, False)\n",
      "(0.11666666666666667, False)\n",
      "(0.3333333333333333, False)\n",
      "(0.5909090909090909, False)\n",
      "(0.22727272727272727, False)\n",
      "(0.0, False)\n",
      "(0.28125, False)\n",
      "(0.06349206349206349, False)\n",
      "(0.29850746268656714, False)\n",
      "(0.34328358208955223, False)\n",
      "(0.29850746268656714, False)\n",
      "(0.44776119402985076, False)\n",
      "(0.26865671641791045, False)\n",
      "(0.3880597014925373, False)\n",
      "(0.30303030303030304, False)\n",
      "(0.25757575757575757, False)\n",
      "(0.42424242424242425, False)\n",
      "(0.31746031746031744, False)\n",
      "(0.29850746268656714, False)\n",
      "(0.373134328358209, False)\n",
      "(0.45454545454545453, False)\n",
      "(0.44776119402985076, False)\n",
      "(0.417910447761194, False)\n",
      "(0.21212121212121213, False)\n",
      "(0.3333333333333333, False)\n",
      "(0.14285714285714285, False)\n",
      "(0.140625, False)\n",
      "(0.36363636363636365, False)\n",
      "(0.453125, False)\n",
      "(0.45161290322580644, False)\n",
      "(0.3050847457627119, False)\n",
      "(0.3333333333333333, False)\n",
      "(0.4090909090909091, False)\n",
      "(0.4090909090909091, False)\n",
      "(0.0, False)\n",
      "(0.25, False)\n",
      "(0.35294117647058826, False)\n",
      "(0.3181818181818182, False)\n",
      "(0.3230769230769231, False)\n",
      "(0.1791044776119403, False)\n",
      "(0.34328358208955223, False)\n",
      "(0.3283582089552239, False)\n",
      "(0.3582089552238806, False)\n",
      "(0.4411764705882353, False)\n",
      "(0.31746031746031744, False)\n",
      "(0.4444444444444444, False)\n",
      "(0.18461538461538463, False)\n",
      "(0.22950819672131148, False)\n",
      "(0.26666666666666666, False)\n",
      "(0.4307692307692308, False)\n",
      "(0.29850746268656714, False)\n",
      "(0.5, False)\n",
      "(0.43283582089552236, False)\n",
      "(0.0, False)\n",
      "(0.19672131147540983, False)\n",
      "(0.3880597014925373, False)\n",
      "(0.36764705882352944, False)\n",
      "(0.39705882352941174, False)\n",
      "(0.36363636363636365, False)\n",
      "(0.35294117647058826, False)\n",
      "(0.36923076923076925, False)\n",
      "(0.3283582089552239, False)\n",
      "(0.22388059701492538, False)\n",
      "(0.36764705882352944, False)\n",
      "(0.3939393939393939, False)\n",
      "(0.40298507462686567, False)\n",
      "(0.2647058823529412, False)\n",
      "(0.25, False)\n",
      "(0.2, False)\n",
      "(0.2153846153846154, False)\n",
      "(0.4117647058823529, False)\n",
      "(0.4393939393939394, False)\n",
      "(0.36764705882352944, False)\n",
      "(0.42424242424242425, True)\n",
      "(0.0, False)\n",
      "(0.35384615384615387, False)\n",
      "(0.44776119402985076, False)\n",
      "(0.39705882352941174, False)\n",
      "(0.390625, False)\n",
      "(0.43283582089552236, False)\n",
      "(0.29850746268656714, False)\n",
      "(0.35384615384615387, False)\n",
      "(0.0, False)\n",
      "(0.5396825396825397, False)\n",
      "(0.30158730158730157, True)\n",
      "(0.5, False)\n",
      "(0.5, False)\n",
      "(0.5230769230769231, False)\n",
      "(0.3787878787878788, False)\n",
      "(0.3333333333333333, False)\n",
      "(0.30303030303030304, False)\n",
      "(0.359375, False)\n",
      "(0.0, False)\n",
      "(0.32786885245901637, False)\n",
      "(0.5147058823529411, False)\n",
      "(0.48484848484848486, False)\n",
      "(0.4696969696969697, False)\n",
      "(0.34328358208955223, False)\n",
      "(0.5074626865671642, False)\n",
      "(0.4925373134328358, False)\n",
      "(0.5223880597014925, False)\n",
      "(0.3968253968253968, False)\n",
      "(0.36507936507936506, False)\n",
      "(0.49206349206349204, False)\n",
      "(0.27419354838709675, False)\n",
      "(0.0, False)\n",
      "(0.3333333333333333, False)\n",
      "(0.19672131147540983, False)\n",
      "(0.45454545454545453, False)\n",
      "(0.3787878787878788, False)\n",
      "(0.45588235294117646, False)\n",
      "(0.4153846153846154, False)\n",
      "(0.36923076923076925, False)\n",
      "(0.5151515151515151, False)\n",
      "(0.4090909090909091, False)\n",
      "(0.48484848484848486, False)\n",
      "(0.5147058823529411, False)\n",
      "(0.4852941176470588, False)\n",
      "(0.5833333333333334, True)\n",
      "(0.2923076923076923, False)\n",
      "(0.0, False)\n",
      "(0.3076923076923077, False)\n",
      "(0.1111111111111111, False)\n",
      "(0.34328358208955223, False)\n",
      "(0.3880597014925373, False)\n",
      "(0.34328358208955223, False)\n",
      "(0.4925373134328358, False)\n",
      "(0.31343283582089554, False)\n",
      "(0.43283582089552236, False)\n",
      "(0.3484848484848485, False)\n",
      "(0.30303030303030304, False)\n",
      "(0.4696969696969697, False)\n",
      "(0.34328358208955223, False)\n",
      "(0.417910447761194, False)\n",
      "(0.47058823529411764, False)\n",
      "(0.4626865671641791, False)\n",
      "(0.27692307692307694, False)\n",
      "(0.4, False)\n",
      "(0.171875, False)\n",
      "(0.1875, False)\n",
      "(0.35294117647058826, False)\n",
      "(0.36764705882352944, False)\n",
      "(0.2537313432835821, False)\n",
      "(0.26865671641791045, False)\n",
      "(0.0, False)\n",
      "(0.42424242424242425, False)\n",
      "(0.19696969696969696, False)\n",
      "(0.45588235294117646, False)\n",
      "(0.5, False)\n",
      "(0.45588235294117646, False)\n",
      "(0.4264705882352941, False)\n",
      "(0.5441176470588235, True)\n",
      "(0.4411764705882353, False)\n",
      "(0.39705882352941174, False)\n",
      "(0.45588235294117646, False)\n",
      "(0.34328358208955223, False)\n"
     ]
    },
    {
     "name": "stdout",
     "output_type": "stream",
     "text": [
      "(0.2923076923076923, False)\n",
      "(0.26153846153846155, False)\n",
      "(0.296875, False)\n",
      "(0.4925373134328358, False)\n",
      "(0.0, False)\n",
      "(0.4925373134328358, True)\n",
      "(0.26229508196721313, False)\n",
      "(0.45588235294117646, False)\n",
      "(0.42424242424242425, False)\n",
      "(0.4307692307692308, False)\n",
      "(0.4090909090909091, False)\n",
      "(0.2835820895522388, False)\n",
      "(0.44776119402985076, False)\n",
      "(0.45454545454545453, False)\n",
      "(0.4626865671641791, False)\n",
      "(0.4, False)\n",
      "(0.13432835820895522, False)\n",
      "(0.328125, False)\n",
      "(0.2878787878787879, False)\n",
      "(0.0, False)\n",
      "(0.3508771929824561, False)\n",
      "(0.03333333333333333, False)\n",
      "(0.22388059701492538, False)\n",
      "(0.26865671641791045, False)\n",
      "(0.20588235294117646, False)\n",
      "(0.23076923076923078, False)\n",
      "(0.2537313432835821, False)\n",
      "(0.3333333333333333, True)\n",
      "(0.234375, False)\n",
      "(0.19117647058823528, False)\n",
      "(0.2, False)\n",
      "(0.3283582089552239, True)\n",
      "(0.18181818181818182, False)\n",
      "(0.16393442622950818, False)\n",
      "(0.24242424242424243, False)\n",
      "(0.28125, False)\n",
      "(0.3382352941176471, False)\n",
      "(0.4153846153846154, True)\n",
      "(0.2857142857142857, False)\n",
      "(0.25757575757575757, False)\n",
      "(0.3235294117647059, False)\n",
      "(0.34328358208955223, False)\n",
      "(0.10294117647058823, False)\n",
      "(0.22058823529411764, False)\n",
      "(0.21052631578947367, False)\n",
      "(0.046875, False)\n",
      "(0.046153846153846156, False)\n",
      "(0.25, False)\n",
      "(0.4, False)\n",
      "(0.2727272727272727, False)\n",
      "(0.453125, False)\n",
      "(0.3880597014925373, False)\n",
      "(0.0, False)\n",
      "(0.16666666666666666, False)\n",
      "(0.36363636363636365, False)\n",
      "(0.34328358208955223, False)\n",
      "(0.375, False)\n",
      "(0.35294117647058826, False)\n",
      "(0.3181818181818182, False)\n",
      "(0.3283582089552239, False)\n",
      "(0.34375, False)\n",
      "(0.30303030303030304, False)\n",
      "(0.2153846153846154, False)\n",
      "(0.36363636363636365, False)\n",
      "(0.42857142857142855, False)\n",
      "(0.390625, False)\n",
      "(0.3582089552238806, False)\n",
      "(0.4411764705882353, True)\n",
      "(0.23880597014925373, False)\n",
      "(0.24193548387096775, False)\n",
      "(0.171875, False)\n",
      "(0.1875, False)\n",
      "(0.46511627906976744, False)\n",
      "(0.16393442622950818, False)\n",
      "(0.0, False)\n",
      "(0.16129032258064516, False)\n",
      "(0.05555555555555555, False)\n",
      "(0.2222222222222222, False)\n",
      "(0.21212121212121213, False)\n",
      "(0.2222222222222222, False)\n",
      "(0.29850746268656714, False)\n",
      "(0.15384615384615385, False)\n",
      "(0.23880597014925373, False)\n",
      "(0.1875, False)\n",
      "(0.19672131147540983, False)\n",
      "(0.2727272727272727, False)\n",
      "(0.32727272727272727, False)\n",
      "(0.375, True)\n",
      "(0.203125, False)\n",
      "(0.24242424242424243, False)\n",
      "(0.38461538461538464, False)\n",
      "(0.3230769230769231, False)\n",
      "(0.27941176470588236, False)\n",
      "(0.26865671641791045, False)\n",
      "(0.16666666666666666, False)\n",
      "(0.25806451612903225, False)\n",
      "(0.14814814814814814, False)\n",
      "(0.125, False)\n",
      "(0.2903225806451613, False)\n",
      "(0.09836065573770492, False)\n",
      "(0.20634920634920634, False)\n",
      "(0.1875, False)\n",
      "(0.0, False)\n",
      "(0.2830188679245283, False)\n",
      "(0.0, False)\n",
      "(0.1774193548387097, False)\n",
      "(0.22580645161290322, False)\n",
      "(0.15873015873015872, False)\n",
      "(0.3387096774193548, False)\n",
      "(0.18333333333333332, False)\n",
      "(0.13636363636363635, False)\n",
      "(0.27419354838709675, False)\n",
      "(0.12903225806451613, False)\n",
      "(0.16129032258064516, False)\n",
      "(0.13114754098360656, False)\n",
      "(0.2698412698412698, False)\n",
      "(0.11290322580645161, False)\n",
      "(0.10714285714285714, False)\n",
      "(0.15873015873015872, False)\n",
      "(0.23728813559322035, False)\n",
      "(0.21875, False)\n",
      "(0.3230769230769231, False)\n",
      "(0.28125, False)\n",
      "(0.3387096774193548, False)\n",
      "(0.16129032258064516, False)\n",
      "(0.13846153846153847, False)\n",
      "(0.208955223880597, False)\n",
      "(0.2857142857142857, False)\n",
      "(0.06451612903225806, False)\n",
      "(0.1746031746031746, False)\n",
      "(0.1111111111111111, False)\n",
      "(0.017543859649122806, False)\n",
      "(0.0, False)\n",
      "(0.1875, False)\n",
      "(0.1111111111111111, False)\n",
      "(0.25396825396825395, True)\n",
      "(0.234375, False)\n",
      "(0.0, False)\n",
      "(0.3148148148148148, False)\n",
      "(0.01818181818181818, False)\n",
      "(0.1875, False)\n",
      "(0.234375, False)\n",
      "(0.16923076923076924, False)\n",
      "(0.3870967741935484, False)\n",
      "(0.1935483870967742, False)\n",
      "(0.18181818181818182, False)\n",
      "(0.30158730158730157, True)\n",
      "(0.15873015873015872, False)\n",
      "(0.171875, False)\n",
      "(0.18032786885245902, False)\n",
      "(0.31746031746031744, False)\n",
      "(0.14285714285714285, False)\n",
      "(0.08333333333333333, False)\n",
      "(0.1875, False)\n",
      "(0.2459016393442623, False)\n",
      "(0.24615384615384617, False)\n",
      "(0.390625, False)\n",
      "(0.3076923076923077, True)\n",
      "(0.20967741935483872, False)\n",
      "(0.18461538461538463, False)\n",
      "(0.2537313432835821, False)\n",
      "(0.3125, False)\n",
      "(0.078125, False)\n",
      "(0.203125, False)\n",
      "(0.125, False)\n",
      "(0.03389830508474576, False)\n",
      "(0.01639344262295082, False)\n",
      "(0.2153846153846154, False)\n",
      "(0.31343283582089554, False)\n",
      "(0.0, False)\n",
      "(0.13846153846153847, False)\n",
      "(0.38235294117647056, False)\n",
      "(0.44776119402985076, False)\n",
      "(0.38235294117647056, False)\n",
      "(0.3939393939393939, False)\n",
      "(0.5151515151515151, True)\n",
      "(0.36764705882352944, False)\n",
      "(0.34328358208955223, False)\n",
      "(0.34328358208955223, False)\n",
      "(0.27692307692307694, False)\n",
      "(0.45588235294117646, False)\n",
      "(0.5223880597014925, True)\n",
      "(0.27941176470588236, False)\n",
      "(0.39705882352941174, False)\n",
      "(0.35, False)\n",
      "(0.1791044776119403, False)\n",
      "(0.21212121212121213, False)\n",
      "(0.4264705882352941, True)\n",
      "(0.4489795918367347, True)\n",
      "(0.0, False)\n",
      "(0.5, False)\n",
      "(0.0, False)\n",
      "(0.40384615384615385, False)\n",
      "(0.631578947368421, True)\n",
      "(0.6181818181818182, False)\n",
      "(0.5918367346938775, False)\n",
      "(0.0, False)\n",
      "(0.4666666666666667, True)\n",
      "(0.0, False)\n",
      "(0.0, False)\n",
      "(0.0, False)\n",
      "(0.0, False)\n",
      "(0.0, False)\n",
      "(0.0, False)\n",
      "(0.0, False)\n",
      "(0.0, False)\n",
      "(0.0, False)\n",
      "(0.0, False)\n",
      "(0.0, False)\n",
      "(0.0, False)\n",
      "(0.0, False)\n",
      "(0.0, False)\n",
      "(0.0, False)\n",
      "(0.0, False)\n",
      "(0.0, False)\n",
      "(0.0, False)\n",
      "(0.0, False)\n",
      "(0.0, False)\n",
      "(0.0, False)\n",
      "(0.0, False)\n",
      "(0.0, False)\n",
      "(0.0, False)\n",
      "(0.0, False)\n",
      "(0.0, False)\n",
      "(0.0, False)\n",
      "(0.0, False)\n",
      "(0.0, False)\n",
      "(0.0, False)\n",
      "(0.0, False)\n",
      "(0.22033898305084745, False)\n",
      "(0.4, False)\n",
      "(0.41304347826086957, True)\n",
      "(0.4032258064516129, False)\n",
      "(0.36666666666666664, False)\n",
      "(0.42105263157894735, True)\n",
      "(0.27586206896551724, False)\n",
      "(0.4406779661016949, False)\n",
      "(0.3770491803278688, False)\n",
      "(0.4098360655737705, True)\n",
      "(0.35714285714285715, False)\n",
      "(0.75, False)\n",
      "(0.4888888888888889, False)\n",
      "(0.43902439024390244, False)\n",
      "(0.38333333333333336, False)\n",
      "(0.4375, False)\n",
      "(0.5106382978723404, True)\n",
      "(0.3559322033898305, False)\n",
      "(0.49230769230769234, True)\n",
      "(0.3384615384615385, False)\n",
      "(0.390625, False)\n",
      "(0.3392857142857143, False)\n",
      "(0.5, False)\n",
      "(0.42592592592592593, False)\n",
      "(0.3387096774193548, False)\n",
      "(0.39344262295081966, False)\n",
      "(0.4696969696969697, True)\n",
      "(0.5869565217391305, False)\n",
      "(0.37735849056603776, False)\n",
      "(0.5740740740740741, False)\n",
      "(0.43333333333333335, False)\n",
      "(0.6904761904761905, False)\n",
      "(0.36923076923076925, False)\n",
      "(0.38596491228070173, False)\n",
      "(0.5789473684210527, False)\n",
      "(0.3050847457627119, False)\n",
      "(0.48333333333333334, False)\n",
      "(0.4666666666666667, True)\n",
      "(0.3181818181818182, False)\n",
      "(0.3492063492063492, False)\n",
      "(0.46511627906976744, False)\n"
     ]
    }
   ],
   "source": [
    "for i in zip(score_jaccard,label_jaccard):\n",
    "    print(i)"
   ]
  },
  {
   "cell_type": "code",
   "execution_count": 22,
   "metadata": {},
   "outputs": [
    {
     "data": {
      "text/plain": [
       "925"
      ]
     },
     "execution_count": 22,
     "metadata": {},
     "output_type": "execute_result"
    }
   ],
   "source": [
    "len(pred_jaccard)"
   ]
  },
  {
   "cell_type": "code",
   "execution_count": 23,
   "metadata": {},
   "outputs": [],
   "source": [
    "# Compute the ROC AUC Score\n",
    "fpr_jaccard, tpr_jaccard, _ = roc_curve(label_jaccard, score_jaccard)\n",
    "auc_jaccard = roc_auc_score(label_jaccard, score_jaccard)"
   ]
  },
  {
   "cell_type": "code",
   "execution_count": 24,
   "metadata": {},
   "outputs": [
    {
     "data": {
      "text/plain": [
       "0.7877157837463521"
      ]
     },
     "execution_count": 24,
     "metadata": {},
     "output_type": "execute_result"
    }
   ],
   "source": [
    "auc_jaccard"
   ]
  },
  {
   "cell_type": "code",
   "execution_count": 25,
   "metadata": {},
   "outputs": [],
   "source": [
    "pred_adamic = list(nx.adamic_adar_index(G_Normal))\n",
    "score_adamic, label_adamic = zip(*[(s, (u,v) in edges) for (u,v,s) in pred_adamic])"
   ]
  },
  {
   "cell_type": "code",
   "execution_count": 26,
   "metadata": {},
   "outputs": [],
   "source": [
    "fpr_adamic, tpr_adamic, _ = roc_curve(label_adamic, score_adamic)\n",
    "auc_adamic = roc_auc_score(label_adamic, score_adamic)"
   ]
  },
  {
   "cell_type": "code",
   "execution_count": 27,
   "metadata": {},
   "outputs": [
    {
     "data": {
      "text/plain": [
       "0.7475762971756443"
      ]
     },
     "execution_count": 27,
     "metadata": {},
     "output_type": "execute_result"
    }
   ],
   "source": [
    "auc_adamic"
   ]
  },
  {
   "cell_type": "code",
   "execution_count": 28,
   "metadata": {},
   "outputs": [],
   "source": [
    "pred_pref = list(nx.preferential_attachment(G_Normal))\n",
    "score_pref, label_pref = zip(*[(s, (u,v) in edges) for (u,v,s) in pred_pref])\n",
    "fpr_pref, tpr_pref, _ = roc_curve(label_pref, score_pref)\n",
    "auc_pref = roc_auc_score(label_pref, score_pref)"
   ]
  },
  {
   "cell_type": "code",
   "execution_count": 29,
   "metadata": {},
   "outputs": [
    {
     "data": {
      "text/plain": [
       "0.630756294207845"
      ]
     },
     "execution_count": 29,
     "metadata": {},
     "output_type": "execute_result"
    }
   ],
   "source": [
    "auc_pref"
   ]
  },
  {
   "cell_type": "code",
   "execution_count": 30,
   "metadata": {},
   "outputs": [
    {
     "data": {
      "image/png": "[encoded data removed]",
      "text/plain": [
       "<Figure size 864x576 with 1 Axes>"
      ]
     },
     "metadata": {
      "needs_background": "light"
     },
     "output_type": "display_data"
    }
   ],
   "source": [
    "plt.figure(figsize=(12, 8))\n",
    "plt.plot(fpr_jaccard, tpr_jaccard, label='Jaccard Coefficient - AUC %.2f' % auc_jaccard, linewidth=4)\n",
    "plt.plot(fpr_adamic, tpr_adamic, label='Adamic-Adar - AUC %.2f' % auc_adamic, linewidth=4)\n",
    "plt.plot(fpr_pref, tpr_pref, label='Preferential Attachment - AUC %.2f' % auc_pref, linewidth=4)\n",
    "plt.plot([0, 1], [0, 1], 'k--')\n",
    "plt.xlim([0.0, 1.0])\n",
    "plt.ylim([0.0, 1.0])\n",
    "plt.xlabel('False positive rate')\n",
    "plt.ylabel('True positive rate')\n",
    "plt.title(\"ROC AUC Curve\")\n",
    "plt.legend(loc='lower right')\n",
    "plt.show()"
   ]
  },
  {
   "cell_type": "code",
   "execution_count": 32,
   "metadata": {},
   "outputs": [],
   "source": [
    "def TruePositive(first,second):\n",
    "    #true addition\n",
    "    tp = 0\n",
    "    return tp\n",
    "            \n",
    "                \n",
    "def TrueNegative(first,second):\n",
    "    #True removal\n",
    "    tn = 0;\n",
    "    return tn\n",
    "\n",
    "\n",
    "def All(first,second):\n",
    "    # All additon and removal\n",
    "    addition = 0;\n",
    "    removel = 0;\n",
    "    #get all the removal which are in first but not in second\n",
    "    for item in first:\n",
    "        if item not in second:\n",
    "            removal+=1;\n",
    "    #get all the addition which are in second but not in first\n",
    "    for item in second:\n",
    "        if item not in first:\n",
    "            addition+=1;\n",
    "    return addition+removal\n",
    "    "
   ]
  },
  {
   "cell_type": "code",
   "execution_count": 97,
   "metadata": {},
   "outputs": [],
   "source": [
    "a = np.array([1,2])"
   ]
  },
  {
   "cell_type": "code",
   "execution_count": 98,
   "metadata": {},
   "outputs": [],
   "source": [
    "b = a.copy()"
   ]
  },
  {
   "cell_type": "code",
   "execution_count": 99,
   "metadata": {},
   "outputs": [
    {
     "data": {
      "text/plain": [
       "array([1, 2])"
      ]
     },
     "execution_count": 99,
     "metadata": {},
     "output_type": "execute_result"
    }
   ],
   "source": [
    "b"
   ]
  },
  {
   "cell_type": "code",
   "execution_count": 100,
   "metadata": {},
   "outputs": [],
   "source": [
    "b[0] = 3"
   ]
  },
  {
   "cell_type": "code",
   "execution_count": 101,
   "metadata": {},
   "outputs": [
    {
     "data": {
      "text/plain": [
       "array([1, 2])"
      ]
     },
     "execution_count": 101,
     "metadata": {},
     "output_type": "execute_result"
    }
   ],
   "source": [
    "a"
   ]
  },
  {
   "cell_type": "code",
   "execution_count": 102,
   "metadata": {},
   "outputs": [
    {
     "data": {
      "text/plain": [
       "array([3, 2])"
      ]
     },
     "execution_count": 102,
     "metadata": {},
     "output_type": "execute_result"
    }
   ],
   "source": [
    "b"
   ]
  },
  {
   "cell_type": "code",
   "execution_count": null,
   "metadata": {},
   "outputs": [],
   "source": []
  }
 ],
 "metadata": {
  "kernelspec": {
   "display_name": "Python 3",
   "language": "python",
   "name": "python3"
  },
  "language_info": {
   "codemirror_mode": {
    "name": "ipython",
    "version": 3
   },
   "file_extension": ".py",
   "mimetype": "text/x-python",
   "name": "python",
   "nbconvert_exporter": "python",
   "pygments_lexer": "ipython3",
   "version": "3.7.4"
  }
 },
 "nbformat": 4,
 "nbformat_minor": 2
}
